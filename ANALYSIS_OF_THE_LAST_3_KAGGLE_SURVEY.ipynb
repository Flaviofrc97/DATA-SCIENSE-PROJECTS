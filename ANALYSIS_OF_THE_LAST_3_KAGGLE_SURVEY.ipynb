{
  "nbformat": 4,
  "nbformat_minor": 0,
  "metadata": {
    "colab": {
      "name": "ANALYSIS OF THE LAST 3 KAGGLE SURVEY.ipynb",
      "provenance": [],
      "collapsed_sections": [],
      "mount_file_id": "1Ao5N-jEZCHp5rgnuwwCTfrVuhpsl_qYp",
      "authorship_tag": "ABX9TyN5HlAkgREBEsoZRFoJbrdo"
    },
    "kernelspec": {
      "display_name": "Python 3",
      "name": "python3"
    },
    "language_info": {
      "name": "python"
    }
  },
  "cells": [
    {
      "cell_type": "markdown",
      "metadata": {
        "id": "CZvn1SOhfLfJ"
      },
      "source": [
        "# **0.0. IMPORTS**"
      ]
    },
    {
      "cell_type": "code",
      "metadata": {
        "id": "5I6a1kgI98X9"
      },
      "source": [
        "import pandas as pd\n",
        "import numpy as np\n",
        "import seaborn as sns\n",
        "import matplotlib.pyplot as plt\n",
        "\n",
        "import warnings\n",
        "warnings.filterwarnings( 'ignore' )\n",
        "\n",
        "sns.set(style='darkgrid')\n",
        "plt.rcParams[\"figure.figsize\"] = (15,6)"
      ],
      "execution_count": 1,
      "outputs": []
    },
    {
      "cell_type": "markdown",
      "metadata": {
        "id": "hwUXAG0gIf4l"
      },
      "source": [
        "##**0.1. HELPER FUNCTION**"
      ]
    },
    {
      "cell_type": "code",
      "metadata": {
        "id": "u_yBpAGDIfYH"
      },
      "source": [
        "def get_label(g):\n",
        "  for p in g.patches:\n",
        "    height = p.get_height()\n",
        "    g.text(p.get_x()+p.get_width()/2.,\n",
        "            height/2,\n",
        "            '{}'.format(round(height)),\n",
        "            ha=\"center\", color='white')"
      ],
      "execution_count": 2,
      "outputs": []
    },
    {
      "cell_type": "markdown",
      "metadata": {
        "id": "ZtmRqb0YfXRB"
      },
      "source": [
        "# **1.0. READING DATA**"
      ]
    },
    {
      "cell_type": "code",
      "metadata": {
        "id": "PXlejznvAiRt"
      },
      "source": [
        "df_2019 = pd.read_csv(\"/content/drive/MyDrive/Datasests/all/multiple_choice_responses.csv\")\n",
        "df_2020 = pd.read_csv(\"/content/drive/MyDrive/Datasests/all/kaggle_survey_2020_responses.csv\")\n",
        "df_2021 = pd.read_csv(\"/content/drive/MyDrive/Datasests/all/kaggle_survey_2021_responses.csv\")"
      ],
      "execution_count": 3,
      "outputs": []
    },
    {
      "cell_type": "code",
      "metadata": {
        "colab": {
          "base_uri": "https://localhost:8080/",
          "height": 627
        },
        "id": "7Tcyn3MvEQ3T",
        "outputId": "17cf7012-8cd8-4938-a6e7-5476f92cbfbd"
      },
      "source": [
        "df_2021.head()"
      ],
      "execution_count": 4,
      "outputs": [
        {
          "output_type": "execute_result",
          "data": {
            "text/html": [
              "<div>\n",
              "<style scoped>\n",
              "    .dataframe tbody tr th:only-of-type {\n",
              "        vertical-align: middle;\n",
              "    }\n",
              "\n",
              "    .dataframe tbody tr th {\n",
              "        vertical-align: top;\n",
              "    }\n",
              "\n",
              "    .dataframe thead th {\n",
              "        text-align: right;\n",
              "    }\n",
              "</style>\n",
              "<table border=\"1\" class=\"dataframe\">\n",
              "  <thead>\n",
              "    <tr style=\"text-align: right;\">\n",
              "      <th></th>\n",
              "      <th>Time from Start to Finish (seconds)</th>\n",
              "      <th>Q1</th>\n",
              "      <th>Q2</th>\n",
              "      <th>Q3</th>\n",
              "      <th>Q4</th>\n",
              "      <th>Q5</th>\n",
              "      <th>Q6</th>\n",
              "      <th>Q7_Part_1</th>\n",
              "      <th>Q7_Part_2</th>\n",
              "      <th>Q7_Part_3</th>\n",
              "      <th>Q7_Part_4</th>\n",
              "      <th>Q7_Part_5</th>\n",
              "      <th>Q7_Part_6</th>\n",
              "      <th>Q7_Part_7</th>\n",
              "      <th>Q7_Part_8</th>\n",
              "      <th>Q7_Part_9</th>\n",
              "      <th>Q7_Part_10</th>\n",
              "      <th>Q7_Part_11</th>\n",
              "      <th>Q7_Part_12</th>\n",
              "      <th>Q7_OTHER</th>\n",
              "      <th>Q8</th>\n",
              "      <th>Q9_Part_1</th>\n",
              "      <th>Q9_Part_2</th>\n",
              "      <th>Q9_Part_3</th>\n",
              "      <th>Q9_Part_4</th>\n",
              "      <th>Q9_Part_5</th>\n",
              "      <th>Q9_Part_6</th>\n",
              "      <th>Q9_Part_7</th>\n",
              "      <th>Q9_Part_8</th>\n",
              "      <th>Q9_Part_9</th>\n",
              "      <th>Q9_Part_10</th>\n",
              "      <th>Q9_Part_11</th>\n",
              "      <th>Q9_Part_12</th>\n",
              "      <th>Q9_OTHER</th>\n",
              "      <th>Q10_Part_1</th>\n",
              "      <th>Q10_Part_2</th>\n",
              "      <th>Q10_Part_3</th>\n",
              "      <th>Q10_Part_4</th>\n",
              "      <th>Q10_Part_5</th>\n",
              "      <th>Q10_Part_6</th>\n",
              "      <th>...</th>\n",
              "      <th>Q34_B_Part_6</th>\n",
              "      <th>Q34_B_Part_7</th>\n",
              "      <th>Q34_B_Part_8</th>\n",
              "      <th>Q34_B_Part_9</th>\n",
              "      <th>Q34_B_Part_10</th>\n",
              "      <th>Q34_B_Part_11</th>\n",
              "      <th>Q34_B_Part_12</th>\n",
              "      <th>Q34_B_Part_13</th>\n",
              "      <th>Q34_B_Part_14</th>\n",
              "      <th>Q34_B_Part_15</th>\n",
              "      <th>Q34_B_Part_16</th>\n",
              "      <th>Q34_B_OTHER</th>\n",
              "      <th>Q36_B_Part_1</th>\n",
              "      <th>Q36_B_Part_2</th>\n",
              "      <th>Q36_B_Part_3</th>\n",
              "      <th>Q36_B_Part_4</th>\n",
              "      <th>Q36_B_Part_5</th>\n",
              "      <th>Q36_B_Part_6</th>\n",
              "      <th>Q36_B_Part_7</th>\n",
              "      <th>Q36_B_OTHER</th>\n",
              "      <th>Q37_B_Part_1</th>\n",
              "      <th>Q37_B_Part_2</th>\n",
              "      <th>Q37_B_Part_3</th>\n",
              "      <th>Q37_B_Part_4</th>\n",
              "      <th>Q37_B_Part_5</th>\n",
              "      <th>Q37_B_Part_6</th>\n",
              "      <th>Q37_B_Part_7</th>\n",
              "      <th>Q37_B_OTHER</th>\n",
              "      <th>Q38_B_Part_1</th>\n",
              "      <th>Q38_B_Part_2</th>\n",
              "      <th>Q38_B_Part_3</th>\n",
              "      <th>Q38_B_Part_4</th>\n",
              "      <th>Q38_B_Part_5</th>\n",
              "      <th>Q38_B_Part_6</th>\n",
              "      <th>Q38_B_Part_7</th>\n",
              "      <th>Q38_B_Part_8</th>\n",
              "      <th>Q38_B_Part_9</th>\n",
              "      <th>Q38_B_Part_10</th>\n",
              "      <th>Q38_B_Part_11</th>\n",
              "      <th>Q38_B_OTHER</th>\n",
              "    </tr>\n",
              "  </thead>\n",
              "  <tbody>\n",
              "    <tr>\n",
              "      <th>0</th>\n",
              "      <td>Duration (in seconds)</td>\n",
              "      <td>What is your age (# years)?</td>\n",
              "      <td>What is your gender? - Selected Choice</td>\n",
              "      <td>In which country do you currently reside?</td>\n",
              "      <td>What is the highest level of formal education ...</td>\n",
              "      <td>Select the title most similar to your current ...</td>\n",
              "      <td>For how many years have you been writing code ...</td>\n",
              "      <td>What programming languages do you use on a reg...</td>\n",
              "      <td>What programming languages do you use on a reg...</td>\n",
              "      <td>What programming languages do you use on a reg...</td>\n",
              "      <td>What programming languages do you use on a reg...</td>\n",
              "      <td>What programming languages do you use on a reg...</td>\n",
              "      <td>What programming languages do you use on a reg...</td>\n",
              "      <td>What programming languages do you use on a reg...</td>\n",
              "      <td>What programming languages do you use on a reg...</td>\n",
              "      <td>What programming languages do you use on a reg...</td>\n",
              "      <td>What programming languages do you use on a reg...</td>\n",
              "      <td>What programming languages do you use on a reg...</td>\n",
              "      <td>What programming languages do you use on a reg...</td>\n",
              "      <td>What programming languages do you use on a reg...</td>\n",
              "      <td>What programming language would you recommend ...</td>\n",
              "      <td>Which of the following integrated development ...</td>\n",
              "      <td>Which of the following integrated development ...</td>\n",
              "      <td>Which of the following integrated development ...</td>\n",
              "      <td>Which of the following integrated development ...</td>\n",
              "      <td>Which of the following integrated development ...</td>\n",
              "      <td>Which of the following integrated development ...</td>\n",
              "      <td>Which of the following integrated development ...</td>\n",
              "      <td>Which of the following integrated development ...</td>\n",
              "      <td>Which of the following integrated development ...</td>\n",
              "      <td>Which of the following integrated development ...</td>\n",
              "      <td>Which of the following integrated development ...</td>\n",
              "      <td>Which of the following integrated development ...</td>\n",
              "      <td>Which of the following integrated development ...</td>\n",
              "      <td>Which of the following hosted notebook product...</td>\n",
              "      <td>Which of the following hosted notebook product...</td>\n",
              "      <td>Which of the following hosted notebook product...</td>\n",
              "      <td>Which of the following hosted notebook product...</td>\n",
              "      <td>Which of the following hosted notebook product...</td>\n",
              "      <td>Which of the following hosted notebook product...</td>\n",
              "      <td>...</td>\n",
              "      <td>Which of the following business intelligence t...</td>\n",
              "      <td>Which of the following business intelligence t...</td>\n",
              "      <td>Which of the following business intelligence t...</td>\n",
              "      <td>Which of the following business intelligence t...</td>\n",
              "      <td>Which of the following business intelligence t...</td>\n",
              "      <td>Which of the following business intelligence t...</td>\n",
              "      <td>Which of the following business intelligence t...</td>\n",
              "      <td>Which of the following business intelligence t...</td>\n",
              "      <td>Which of the following business intelligence t...</td>\n",
              "      <td>Which of the following business intelligence t...</td>\n",
              "      <td>Which of the following business intelligence t...</td>\n",
              "      <td>Which of the following business intelligence t...</td>\n",
              "      <td>Which categories of automated machine learning...</td>\n",
              "      <td>Which categories of automated machine learning...</td>\n",
              "      <td>Which categories of automated machine learning...</td>\n",
              "      <td>Which categories of automated machine learning...</td>\n",
              "      <td>Which categories of automated machine learning...</td>\n",
              "      <td>Which categories of automated machine learning...</td>\n",
              "      <td>Which categories of automated machine learning...</td>\n",
              "      <td>Which categories of automated machine learning...</td>\n",
              "      <td>Which specific automated machine learning tool...</td>\n",
              "      <td>Which specific automated machine learning tool...</td>\n",
              "      <td>Which specific automated machine learning tool...</td>\n",
              "      <td>Which specific automated machine learning tool...</td>\n",
              "      <td>Which specific automated machine learning tool...</td>\n",
              "      <td>Which specific automated machine learning tool...</td>\n",
              "      <td>Which specific automated machine learning tool...</td>\n",
              "      <td>Which specific automated machine learning tool...</td>\n",
              "      <td>In the next 2 years, do you hope to become mor...</td>\n",
              "      <td>In the next 2 years, do you hope to become mor...</td>\n",
              "      <td>In the next 2 years, do you hope to become mor...</td>\n",
              "      <td>In the next 2 years, do you hope to become mor...</td>\n",
              "      <td>In the next 2 years, do you hope to become mor...</td>\n",
              "      <td>In the next 2 years, do you hope to become mor...</td>\n",
              "      <td>In the next 2 years, do you hope to become mor...</td>\n",
              "      <td>In the next 2 years, do you hope to become mor...</td>\n",
              "      <td>In the next 2 years, do you hope to become mor...</td>\n",
              "      <td>In the next 2 years, do you hope to become mor...</td>\n",
              "      <td>In the next 2 years, do you hope to become mor...</td>\n",
              "      <td>In the next 2 years, do you hope to become mor...</td>\n",
              "    </tr>\n",
              "    <tr>\n",
              "      <th>1</th>\n",
              "      <td>910</td>\n",
              "      <td>50-54</td>\n",
              "      <td>Man</td>\n",
              "      <td>India</td>\n",
              "      <td>Bachelor’s degree</td>\n",
              "      <td>Other</td>\n",
              "      <td>5-10 years</td>\n",
              "      <td>Python</td>\n",
              "      <td>R</td>\n",
              "      <td>NaN</td>\n",
              "      <td>NaN</td>\n",
              "      <td>NaN</td>\n",
              "      <td>NaN</td>\n",
              "      <td>NaN</td>\n",
              "      <td>NaN</td>\n",
              "      <td>NaN</td>\n",
              "      <td>NaN</td>\n",
              "      <td>NaN</td>\n",
              "      <td>NaN</td>\n",
              "      <td>NaN</td>\n",
              "      <td>Python</td>\n",
              "      <td>NaN</td>\n",
              "      <td>NaN</td>\n",
              "      <td>NaN</td>\n",
              "      <td>NaN</td>\n",
              "      <td>NaN</td>\n",
              "      <td>NaN</td>\n",
              "      <td>NaN</td>\n",
              "      <td>NaN</td>\n",
              "      <td>Vim / Emacs</td>\n",
              "      <td>NaN</td>\n",
              "      <td>NaN</td>\n",
              "      <td>NaN</td>\n",
              "      <td>NaN</td>\n",
              "      <td>NaN</td>\n",
              "      <td>Colab Notebooks</td>\n",
              "      <td>NaN</td>\n",
              "      <td>NaN</td>\n",
              "      <td>NaN</td>\n",
              "      <td>NaN</td>\n",
              "      <td>...</td>\n",
              "      <td>NaN</td>\n",
              "      <td>NaN</td>\n",
              "      <td>NaN</td>\n",
              "      <td>NaN</td>\n",
              "      <td>NaN</td>\n",
              "      <td>NaN</td>\n",
              "      <td>NaN</td>\n",
              "      <td>NaN</td>\n",
              "      <td>NaN</td>\n",
              "      <td>NaN</td>\n",
              "      <td>NaN</td>\n",
              "      <td>NaN</td>\n",
              "      <td>NaN</td>\n",
              "      <td>NaN</td>\n",
              "      <td>NaN</td>\n",
              "      <td>NaN</td>\n",
              "      <td>NaN</td>\n",
              "      <td>NaN</td>\n",
              "      <td>NaN</td>\n",
              "      <td>NaN</td>\n",
              "      <td>NaN</td>\n",
              "      <td>NaN</td>\n",
              "      <td>NaN</td>\n",
              "      <td>NaN</td>\n",
              "      <td>NaN</td>\n",
              "      <td>NaN</td>\n",
              "      <td>NaN</td>\n",
              "      <td>NaN</td>\n",
              "      <td>NaN</td>\n",
              "      <td>NaN</td>\n",
              "      <td>NaN</td>\n",
              "      <td>NaN</td>\n",
              "      <td>NaN</td>\n",
              "      <td>NaN</td>\n",
              "      <td>NaN</td>\n",
              "      <td>NaN</td>\n",
              "      <td>NaN</td>\n",
              "      <td>NaN</td>\n",
              "      <td>NaN</td>\n",
              "      <td>NaN</td>\n",
              "    </tr>\n",
              "    <tr>\n",
              "      <th>2</th>\n",
              "      <td>784</td>\n",
              "      <td>50-54</td>\n",
              "      <td>Man</td>\n",
              "      <td>Indonesia</td>\n",
              "      <td>Master’s degree</td>\n",
              "      <td>Program/Project Manager</td>\n",
              "      <td>20+ years</td>\n",
              "      <td>NaN</td>\n",
              "      <td>NaN</td>\n",
              "      <td>SQL</td>\n",
              "      <td>C</td>\n",
              "      <td>C++</td>\n",
              "      <td>Java</td>\n",
              "      <td>NaN</td>\n",
              "      <td>NaN</td>\n",
              "      <td>NaN</td>\n",
              "      <td>NaN</td>\n",
              "      <td>NaN</td>\n",
              "      <td>NaN</td>\n",
              "      <td>NaN</td>\n",
              "      <td>Python</td>\n",
              "      <td>NaN</td>\n",
              "      <td>NaN</td>\n",
              "      <td>NaN</td>\n",
              "      <td>NaN</td>\n",
              "      <td>NaN</td>\n",
              "      <td>NaN</td>\n",
              "      <td>Notepad++</td>\n",
              "      <td>NaN</td>\n",
              "      <td>NaN</td>\n",
              "      <td>NaN</td>\n",
              "      <td>Jupyter Notebook</td>\n",
              "      <td>NaN</td>\n",
              "      <td>NaN</td>\n",
              "      <td>Kaggle Notebooks</td>\n",
              "      <td>Colab Notebooks</td>\n",
              "      <td>NaN</td>\n",
              "      <td>NaN</td>\n",
              "      <td>NaN</td>\n",
              "      <td>NaN</td>\n",
              "      <td>...</td>\n",
              "      <td>NaN</td>\n",
              "      <td>NaN</td>\n",
              "      <td>Qlik</td>\n",
              "      <td>NaN</td>\n",
              "      <td>NaN</td>\n",
              "      <td>NaN</td>\n",
              "      <td>NaN</td>\n",
              "      <td>NaN</td>\n",
              "      <td>NaN</td>\n",
              "      <td>NaN</td>\n",
              "      <td>NaN</td>\n",
              "      <td>NaN</td>\n",
              "      <td>NaN</td>\n",
              "      <td>NaN</td>\n",
              "      <td>Automated model selection (e.g. auto-sklearn, ...</td>\n",
              "      <td>NaN</td>\n",
              "      <td>NaN</td>\n",
              "      <td>NaN</td>\n",
              "      <td>NaN</td>\n",
              "      <td>NaN</td>\n",
              "      <td>Google Cloud AutoML</td>\n",
              "      <td>NaN</td>\n",
              "      <td>NaN</td>\n",
              "      <td>NaN</td>\n",
              "      <td>NaN</td>\n",
              "      <td>NaN</td>\n",
              "      <td>NaN</td>\n",
              "      <td>NaN</td>\n",
              "      <td>NaN</td>\n",
              "      <td>NaN</td>\n",
              "      <td>NaN</td>\n",
              "      <td>NaN</td>\n",
              "      <td>NaN</td>\n",
              "      <td>NaN</td>\n",
              "      <td>NaN</td>\n",
              "      <td>NaN</td>\n",
              "      <td>NaN</td>\n",
              "      <td>NaN</td>\n",
              "      <td>None</td>\n",
              "      <td>NaN</td>\n",
              "    </tr>\n",
              "    <tr>\n",
              "      <th>3</th>\n",
              "      <td>924</td>\n",
              "      <td>22-24</td>\n",
              "      <td>Man</td>\n",
              "      <td>Pakistan</td>\n",
              "      <td>Master’s degree</td>\n",
              "      <td>Software Engineer</td>\n",
              "      <td>1-3 years</td>\n",
              "      <td>Python</td>\n",
              "      <td>NaN</td>\n",
              "      <td>NaN</td>\n",
              "      <td>NaN</td>\n",
              "      <td>C++</td>\n",
              "      <td>Java</td>\n",
              "      <td>NaN</td>\n",
              "      <td>NaN</td>\n",
              "      <td>NaN</td>\n",
              "      <td>NaN</td>\n",
              "      <td>NaN</td>\n",
              "      <td>NaN</td>\n",
              "      <td>NaN</td>\n",
              "      <td>Python</td>\n",
              "      <td>NaN</td>\n",
              "      <td>NaN</td>\n",
              "      <td>NaN</td>\n",
              "      <td>NaN</td>\n",
              "      <td>PyCharm</td>\n",
              "      <td>NaN</td>\n",
              "      <td>NaN</td>\n",
              "      <td>NaN</td>\n",
              "      <td>NaN</td>\n",
              "      <td>NaN</td>\n",
              "      <td>Jupyter Notebook</td>\n",
              "      <td>NaN</td>\n",
              "      <td>Other</td>\n",
              "      <td>Kaggle Notebooks</td>\n",
              "      <td>NaN</td>\n",
              "      <td>NaN</td>\n",
              "      <td>NaN</td>\n",
              "      <td>NaN</td>\n",
              "      <td>NaN</td>\n",
              "      <td>...</td>\n",
              "      <td>NaN</td>\n",
              "      <td>NaN</td>\n",
              "      <td>NaN</td>\n",
              "      <td>NaN</td>\n",
              "      <td>NaN</td>\n",
              "      <td>NaN</td>\n",
              "      <td>NaN</td>\n",
              "      <td>NaN</td>\n",
              "      <td>NaN</td>\n",
              "      <td>NaN</td>\n",
              "      <td>NaN</td>\n",
              "      <td>NaN</td>\n",
              "      <td>NaN</td>\n",
              "      <td>NaN</td>\n",
              "      <td>Automated model selection (e.g. auto-sklearn, ...</td>\n",
              "      <td>NaN</td>\n",
              "      <td>NaN</td>\n",
              "      <td>NaN</td>\n",
              "      <td>NaN</td>\n",
              "      <td>NaN</td>\n",
              "      <td>NaN</td>\n",
              "      <td>NaN</td>\n",
              "      <td>NaN</td>\n",
              "      <td>DataRobot AutoML</td>\n",
              "      <td>NaN</td>\n",
              "      <td>NaN</td>\n",
              "      <td>NaN</td>\n",
              "      <td>NaN</td>\n",
              "      <td>NaN</td>\n",
              "      <td>NaN</td>\n",
              "      <td>NaN</td>\n",
              "      <td>NaN</td>\n",
              "      <td>TensorBoard</td>\n",
              "      <td>NaN</td>\n",
              "      <td>NaN</td>\n",
              "      <td>NaN</td>\n",
              "      <td>NaN</td>\n",
              "      <td>NaN</td>\n",
              "      <td>NaN</td>\n",
              "      <td>NaN</td>\n",
              "    </tr>\n",
              "    <tr>\n",
              "      <th>4</th>\n",
              "      <td>575</td>\n",
              "      <td>45-49</td>\n",
              "      <td>Man</td>\n",
              "      <td>Mexico</td>\n",
              "      <td>Doctoral degree</td>\n",
              "      <td>Research Scientist</td>\n",
              "      <td>20+ years</td>\n",
              "      <td>Python</td>\n",
              "      <td>NaN</td>\n",
              "      <td>NaN</td>\n",
              "      <td>NaN</td>\n",
              "      <td>NaN</td>\n",
              "      <td>NaN</td>\n",
              "      <td>NaN</td>\n",
              "      <td>NaN</td>\n",
              "      <td>NaN</td>\n",
              "      <td>NaN</td>\n",
              "      <td>NaN</td>\n",
              "      <td>NaN</td>\n",
              "      <td>NaN</td>\n",
              "      <td>Python</td>\n",
              "      <td>NaN</td>\n",
              "      <td>NaN</td>\n",
              "      <td>NaN</td>\n",
              "      <td>NaN</td>\n",
              "      <td>NaN</td>\n",
              "      <td>Spyder</td>\n",
              "      <td>NaN</td>\n",
              "      <td>NaN</td>\n",
              "      <td>NaN</td>\n",
              "      <td>NaN</td>\n",
              "      <td>Jupyter Notebook</td>\n",
              "      <td>NaN</td>\n",
              "      <td>NaN</td>\n",
              "      <td>NaN</td>\n",
              "      <td>Colab Notebooks</td>\n",
              "      <td>NaN</td>\n",
              "      <td>NaN</td>\n",
              "      <td>NaN</td>\n",
              "      <td>NaN</td>\n",
              "      <td>...</td>\n",
              "      <td>NaN</td>\n",
              "      <td>NaN</td>\n",
              "      <td>NaN</td>\n",
              "      <td>NaN</td>\n",
              "      <td>NaN</td>\n",
              "      <td>NaN</td>\n",
              "      <td>NaN</td>\n",
              "      <td>NaN</td>\n",
              "      <td>NaN</td>\n",
              "      <td>NaN</td>\n",
              "      <td>None</td>\n",
              "      <td>NaN</td>\n",
              "      <td>NaN</td>\n",
              "      <td>NaN</td>\n",
              "      <td>NaN</td>\n",
              "      <td>NaN</td>\n",
              "      <td>NaN</td>\n",
              "      <td>NaN</td>\n",
              "      <td>None</td>\n",
              "      <td>NaN</td>\n",
              "      <td>NaN</td>\n",
              "      <td>NaN</td>\n",
              "      <td>NaN</td>\n",
              "      <td>NaN</td>\n",
              "      <td>NaN</td>\n",
              "      <td>NaN</td>\n",
              "      <td>NaN</td>\n",
              "      <td>NaN</td>\n",
              "      <td>NaN</td>\n",
              "      <td>NaN</td>\n",
              "      <td>NaN</td>\n",
              "      <td>NaN</td>\n",
              "      <td>NaN</td>\n",
              "      <td>NaN</td>\n",
              "      <td>NaN</td>\n",
              "      <td>NaN</td>\n",
              "      <td>NaN</td>\n",
              "      <td>NaN</td>\n",
              "      <td>None</td>\n",
              "      <td>NaN</td>\n",
              "    </tr>\n",
              "  </tbody>\n",
              "</table>\n",
              "<p>5 rows × 369 columns</p>\n",
              "</div>"
            ],
            "text/plain": [
              "  Time from Start to Finish (seconds)  ...                                        Q38_B_OTHER\n",
              "0               Duration (in seconds)  ...  In the next 2 years, do you hope to become mor...\n",
              "1                                 910  ...                                                NaN\n",
              "2                                 784  ...                                                NaN\n",
              "3                                 924  ...                                                NaN\n",
              "4                                 575  ...                                                NaN\n",
              "\n",
              "[5 rows x 369 columns]"
            ]
          },
          "metadata": {},
          "execution_count": 4
        }
      ]
    },
    {
      "cell_type": "code",
      "metadata": {
        "colab": {
          "base_uri": "https://localhost:8080/",
          "height": 398
        },
        "id": "2-9DhAEeMcXY",
        "outputId": "6a0c3a76-66f6-462a-b973-21d068435dd1"
      },
      "source": [
        "df_2019.head(2)"
      ],
      "execution_count": 44,
      "outputs": [
        {
          "output_type": "execute_result",
          "data": {
            "text/html": [
              "<div>\n",
              "<style scoped>\n",
              "    .dataframe tbody tr th:only-of-type {\n",
              "        vertical-align: middle;\n",
              "    }\n",
              "\n",
              "    .dataframe tbody tr th {\n",
              "        vertical-align: top;\n",
              "    }\n",
              "\n",
              "    .dataframe thead th {\n",
              "        text-align: right;\n",
              "    }\n",
              "</style>\n",
              "<table border=\"1\" class=\"dataframe\">\n",
              "  <thead>\n",
              "    <tr style=\"text-align: right;\">\n",
              "      <th></th>\n",
              "      <th>Time from Start to Finish (seconds)</th>\n",
              "      <th>Q1</th>\n",
              "      <th>Q2</th>\n",
              "      <th>Q2_OTHER_TEXT</th>\n",
              "      <th>Q3</th>\n",
              "      <th>Q4</th>\n",
              "      <th>Q5</th>\n",
              "      <th>Q5_OTHER_TEXT</th>\n",
              "      <th>Q6</th>\n",
              "      <th>Q7</th>\n",
              "      <th>Q8</th>\n",
              "      <th>Q9_Part_1</th>\n",
              "      <th>Q9_Part_2</th>\n",
              "      <th>Q9_Part_3</th>\n",
              "      <th>Q9_Part_4</th>\n",
              "      <th>Q9_Part_5</th>\n",
              "      <th>Q9_Part_6</th>\n",
              "      <th>Q9_Part_7</th>\n",
              "      <th>Q9_Part_8</th>\n",
              "      <th>Q9_OTHER_TEXT</th>\n",
              "      <th>Q10</th>\n",
              "      <th>Q11</th>\n",
              "      <th>Q12_Part_1</th>\n",
              "      <th>Q12_Part_2</th>\n",
              "      <th>Q12_Part_3</th>\n",
              "      <th>Q12_Part_4</th>\n",
              "      <th>Q12_Part_5</th>\n",
              "      <th>Q12_Part_6</th>\n",
              "      <th>Q12_Part_7</th>\n",
              "      <th>Q12_Part_8</th>\n",
              "      <th>Q12_Part_9</th>\n",
              "      <th>Q12_Part_10</th>\n",
              "      <th>Q12_Part_11</th>\n",
              "      <th>Q12_Part_12</th>\n",
              "      <th>Q12_OTHER_TEXT</th>\n",
              "      <th>Q13_Part_1</th>\n",
              "      <th>Q13_Part_2</th>\n",
              "      <th>Q13_Part_3</th>\n",
              "      <th>Q13_Part_4</th>\n",
              "      <th>Q13_Part_5</th>\n",
              "      <th>...</th>\n",
              "      <th>Q31_OTHER_TEXT</th>\n",
              "      <th>Q32_Part_1</th>\n",
              "      <th>Q32_Part_2</th>\n",
              "      <th>Q32_Part_3</th>\n",
              "      <th>Q32_Part_4</th>\n",
              "      <th>Q32_Part_5</th>\n",
              "      <th>Q32_Part_6</th>\n",
              "      <th>Q32_Part_7</th>\n",
              "      <th>Q32_Part_8</th>\n",
              "      <th>Q32_Part_9</th>\n",
              "      <th>Q32_Part_10</th>\n",
              "      <th>Q32_Part_11</th>\n",
              "      <th>Q32_Part_12</th>\n",
              "      <th>Q32_OTHER_TEXT</th>\n",
              "      <th>Q33_Part_1</th>\n",
              "      <th>Q33_Part_2</th>\n",
              "      <th>Q33_Part_3</th>\n",
              "      <th>Q33_Part_4</th>\n",
              "      <th>Q33_Part_5</th>\n",
              "      <th>Q33_Part_6</th>\n",
              "      <th>Q33_Part_7</th>\n",
              "      <th>Q33_Part_8</th>\n",
              "      <th>Q33_Part_9</th>\n",
              "      <th>Q33_Part_10</th>\n",
              "      <th>Q33_Part_11</th>\n",
              "      <th>Q33_Part_12</th>\n",
              "      <th>Q33_OTHER_TEXT</th>\n",
              "      <th>Q34_Part_1</th>\n",
              "      <th>Q34_Part_2</th>\n",
              "      <th>Q34_Part_3</th>\n",
              "      <th>Q34_Part_4</th>\n",
              "      <th>Q34_Part_5</th>\n",
              "      <th>Q34_Part_6</th>\n",
              "      <th>Q34_Part_7</th>\n",
              "      <th>Q34_Part_8</th>\n",
              "      <th>Q34_Part_9</th>\n",
              "      <th>Q34_Part_10</th>\n",
              "      <th>Q34_Part_11</th>\n",
              "      <th>Q34_Part_12</th>\n",
              "      <th>Q34_OTHER_TEXT</th>\n",
              "    </tr>\n",
              "  </thead>\n",
              "  <tbody>\n",
              "    <tr>\n",
              "      <th>0</th>\n",
              "      <td>Duration (in seconds)</td>\n",
              "      <td>What is your age (# years)?</td>\n",
              "      <td>What is your gender? - Selected Choice</td>\n",
              "      <td>What is your gender? - Prefer to self-describe...</td>\n",
              "      <td>In which country do you currently reside?</td>\n",
              "      <td>What is the highest level of formal education ...</td>\n",
              "      <td>Select the title most similar to your current ...</td>\n",
              "      <td>Select the title most similar to your current ...</td>\n",
              "      <td>What is the size of the company where you are ...</td>\n",
              "      <td>Approximately how many individuals are respons...</td>\n",
              "      <td>Does your current employer incorporate machine...</td>\n",
              "      <td>Select any activities that make up an importan...</td>\n",
              "      <td>Select any activities that make up an importan...</td>\n",
              "      <td>Select any activities that make up an importan...</td>\n",
              "      <td>Select any activities that make up an importan...</td>\n",
              "      <td>Select any activities that make up an importan...</td>\n",
              "      <td>Select any activities that make up an importan...</td>\n",
              "      <td>Select any activities that make up an importan...</td>\n",
              "      <td>Select any activities that make up an importan...</td>\n",
              "      <td>Select any activities that make up an importan...</td>\n",
              "      <td>What is your current yearly compensation (appr...</td>\n",
              "      <td>Approximately how much money have you spent on...</td>\n",
              "      <td>Who/what are your favorite media sources that ...</td>\n",
              "      <td>Who/what are your favorite media sources that ...</td>\n",
              "      <td>Who/what are your favorite media sources that ...</td>\n",
              "      <td>Who/what are your favorite media sources that ...</td>\n",
              "      <td>Who/what are your favorite media sources that ...</td>\n",
              "      <td>Who/what are your favorite media sources that ...</td>\n",
              "      <td>Who/what are your favorite media sources that ...</td>\n",
              "      <td>Who/what are your favorite media sources that ...</td>\n",
              "      <td>Who/what are your favorite media sources that ...</td>\n",
              "      <td>Who/what are your favorite media sources that ...</td>\n",
              "      <td>Who/what are your favorite media sources that ...</td>\n",
              "      <td>Who/what are your favorite media sources that ...</td>\n",
              "      <td>Who/what are your favorite media sources that ...</td>\n",
              "      <td>On which platforms have you begun or completed...</td>\n",
              "      <td>On which platforms have you begun or completed...</td>\n",
              "      <td>On which platforms have you begun or completed...</td>\n",
              "      <td>On which platforms have you begun or completed...</td>\n",
              "      <td>On which platforms have you begun or completed...</td>\n",
              "      <td>...</td>\n",
              "      <td>Which specific big data / analytics products d...</td>\n",
              "      <td>Which of the following machine learning produc...</td>\n",
              "      <td>Which of the following machine learning produc...</td>\n",
              "      <td>Which of the following machine learning produc...</td>\n",
              "      <td>Which of the following machine learning produc...</td>\n",
              "      <td>Which of the following machine learning produc...</td>\n",
              "      <td>Which of the following machine learning produc...</td>\n",
              "      <td>Which of the following machine learning produc...</td>\n",
              "      <td>Which of the following machine learning produc...</td>\n",
              "      <td>Which of the following machine learning produc...</td>\n",
              "      <td>Which of the following machine learning produc...</td>\n",
              "      <td>Which of the following machine learning produc...</td>\n",
              "      <td>Which of the following machine learning produc...</td>\n",
              "      <td>Which of the following machine learning produc...</td>\n",
              "      <td>Which automated machine learning tools (or par...</td>\n",
              "      <td>Which automated machine learning tools (or par...</td>\n",
              "      <td>Which automated machine learning tools (or par...</td>\n",
              "      <td>Which automated machine learning tools (or par...</td>\n",
              "      <td>Which automated machine learning tools (or par...</td>\n",
              "      <td>Which automated machine learning tools (or par...</td>\n",
              "      <td>Which automated machine learning tools (or par...</td>\n",
              "      <td>Which automated machine learning tools (or par...</td>\n",
              "      <td>Which automated machine learning tools (or par...</td>\n",
              "      <td>Which automated machine learning tools (or par...</td>\n",
              "      <td>Which automated machine learning tools (or par...</td>\n",
              "      <td>Which automated machine learning tools (or par...</td>\n",
              "      <td>Which automated machine learning tools (or par...</td>\n",
              "      <td>Which of the following relational database pro...</td>\n",
              "      <td>Which of the following relational database pro...</td>\n",
              "      <td>Which of the following relational database pro...</td>\n",
              "      <td>Which of the following relational database pro...</td>\n",
              "      <td>Which of the following relational database pro...</td>\n",
              "      <td>Which of the following relational database pro...</td>\n",
              "      <td>Which of the following relational database pro...</td>\n",
              "      <td>Which of the following relational database pro...</td>\n",
              "      <td>Which of the following relational database pro...</td>\n",
              "      <td>Which of the following relational database pro...</td>\n",
              "      <td>Which of the following relational database pro...</td>\n",
              "      <td>Which of the following relational database pro...</td>\n",
              "      <td>Which of the following relational database pro...</td>\n",
              "    </tr>\n",
              "    <tr>\n",
              "      <th>1</th>\n",
              "      <td>510</td>\n",
              "      <td>22-24</td>\n",
              "      <td>Male</td>\n",
              "      <td>-1</td>\n",
              "      <td>France</td>\n",
              "      <td>Master’s degree</td>\n",
              "      <td>Software Engineer</td>\n",
              "      <td>-1</td>\n",
              "      <td>1000-9,999 employees</td>\n",
              "      <td>0</td>\n",
              "      <td>I do not know</td>\n",
              "      <td>NaN</td>\n",
              "      <td>NaN</td>\n",
              "      <td>NaN</td>\n",
              "      <td>NaN</td>\n",
              "      <td>NaN</td>\n",
              "      <td>NaN</td>\n",
              "      <td>NaN</td>\n",
              "      <td>NaN</td>\n",
              "      <td>-1</td>\n",
              "      <td>30,000-39,999</td>\n",
              "      <td>$0 (USD)</td>\n",
              "      <td>Twitter (data science influencers)</td>\n",
              "      <td>NaN</td>\n",
              "      <td>NaN</td>\n",
              "      <td>Kaggle (forums, blog, social media, etc)</td>\n",
              "      <td>NaN</td>\n",
              "      <td>NaN</td>\n",
              "      <td>NaN</td>\n",
              "      <td>Blogs (Towards Data Science, Medium, Analytics...</td>\n",
              "      <td>Journal Publications (traditional publications...</td>\n",
              "      <td>NaN</td>\n",
              "      <td>NaN</td>\n",
              "      <td>NaN</td>\n",
              "      <td>-1</td>\n",
              "      <td>NaN</td>\n",
              "      <td>Coursera</td>\n",
              "      <td>NaN</td>\n",
              "      <td>DataCamp</td>\n",
              "      <td>NaN</td>\n",
              "      <td>...</td>\n",
              "      <td>-1</td>\n",
              "      <td>NaN</td>\n",
              "      <td>NaN</td>\n",
              "      <td>NaN</td>\n",
              "      <td>NaN</td>\n",
              "      <td>NaN</td>\n",
              "      <td>NaN</td>\n",
              "      <td>NaN</td>\n",
              "      <td>NaN</td>\n",
              "      <td>NaN</td>\n",
              "      <td>NaN</td>\n",
              "      <td>NaN</td>\n",
              "      <td>NaN</td>\n",
              "      <td>-1</td>\n",
              "      <td>NaN</td>\n",
              "      <td>NaN</td>\n",
              "      <td>NaN</td>\n",
              "      <td>NaN</td>\n",
              "      <td>NaN</td>\n",
              "      <td>NaN</td>\n",
              "      <td>NaN</td>\n",
              "      <td>NaN</td>\n",
              "      <td>NaN</td>\n",
              "      <td>NaN</td>\n",
              "      <td>NaN</td>\n",
              "      <td>NaN</td>\n",
              "      <td>-1</td>\n",
              "      <td>NaN</td>\n",
              "      <td>NaN</td>\n",
              "      <td>NaN</td>\n",
              "      <td>NaN</td>\n",
              "      <td>NaN</td>\n",
              "      <td>NaN</td>\n",
              "      <td>NaN</td>\n",
              "      <td>NaN</td>\n",
              "      <td>NaN</td>\n",
              "      <td>NaN</td>\n",
              "      <td>NaN</td>\n",
              "      <td>NaN</td>\n",
              "      <td>-1</td>\n",
              "    </tr>\n",
              "  </tbody>\n",
              "</table>\n",
              "<p>2 rows × 246 columns</p>\n",
              "</div>"
            ],
            "text/plain": [
              "  Time from Start to Finish (seconds)  ...                                     Q34_OTHER_TEXT\n",
              "0               Duration (in seconds)  ...  Which of the following relational database pro...\n",
              "1                                 510  ...                                                 -1\n",
              "\n",
              "[2 rows x 246 columns]"
            ]
          },
          "metadata": {},
          "execution_count": 44
        }
      ]
    },
    {
      "cell_type": "code",
      "metadata": {
        "colab": {
          "base_uri": "https://localhost:8080/",
          "height": 432
        },
        "id": "81GAdC1zGV4H",
        "outputId": "a7730846-fbf2-4eee-f733-5cee5ea1ff17"
      },
      "source": [
        "df_2020.head(2)"
      ],
      "execution_count": 13,
      "outputs": [
        {
          "output_type": "execute_result",
          "data": {
            "text/html": [
              "<div>\n",
              "<style scoped>\n",
              "    .dataframe tbody tr th:only-of-type {\n",
              "        vertical-align: middle;\n",
              "    }\n",
              "\n",
              "    .dataframe tbody tr th {\n",
              "        vertical-align: top;\n",
              "    }\n",
              "\n",
              "    .dataframe thead th {\n",
              "        text-align: right;\n",
              "    }\n",
              "</style>\n",
              "<table border=\"1\" class=\"dataframe\">\n",
              "  <thead>\n",
              "    <tr style=\"text-align: right;\">\n",
              "      <th></th>\n",
              "      <th>Time from Start to Finish (seconds)</th>\n",
              "      <th>Q1</th>\n",
              "      <th>Q2</th>\n",
              "      <th>Q3</th>\n",
              "      <th>Q4</th>\n",
              "      <th>Q5</th>\n",
              "      <th>Q6</th>\n",
              "      <th>Q7_Part_1</th>\n",
              "      <th>Q7_Part_2</th>\n",
              "      <th>Q7_Part_3</th>\n",
              "      <th>Q7_Part_4</th>\n",
              "      <th>Q7_Part_5</th>\n",
              "      <th>Q7_Part_6</th>\n",
              "      <th>Q7_Part_7</th>\n",
              "      <th>Q7_Part_8</th>\n",
              "      <th>Q7_Part_9</th>\n",
              "      <th>Q7_Part_10</th>\n",
              "      <th>Q7_Part_11</th>\n",
              "      <th>Q7_Part_12</th>\n",
              "      <th>Q7_OTHER</th>\n",
              "      <th>Q8</th>\n",
              "      <th>Q9_Part_1</th>\n",
              "      <th>Q9_Part_2</th>\n",
              "      <th>Q9_Part_3</th>\n",
              "      <th>Q9_Part_4</th>\n",
              "      <th>Q9_Part_5</th>\n",
              "      <th>Q9_Part_6</th>\n",
              "      <th>Q9_Part_7</th>\n",
              "      <th>Q9_Part_8</th>\n",
              "      <th>Q9_Part_9</th>\n",
              "      <th>Q9_Part_10</th>\n",
              "      <th>Q9_Part_11</th>\n",
              "      <th>Q9_OTHER</th>\n",
              "      <th>Q10_Part_1</th>\n",
              "      <th>Q10_Part_2</th>\n",
              "      <th>Q10_Part_3</th>\n",
              "      <th>Q10_Part_4</th>\n",
              "      <th>Q10_Part_5</th>\n",
              "      <th>Q10_Part_6</th>\n",
              "      <th>Q10_Part_7</th>\n",
              "      <th>...</th>\n",
              "      <th>Q31_B_Part_7</th>\n",
              "      <th>Q31_B_Part_8</th>\n",
              "      <th>Q31_B_Part_9</th>\n",
              "      <th>Q31_B_Part_10</th>\n",
              "      <th>Q31_B_Part_11</th>\n",
              "      <th>Q31_B_Part_12</th>\n",
              "      <th>Q31_B_Part_13</th>\n",
              "      <th>Q31_B_Part_14</th>\n",
              "      <th>Q31_B_OTHER</th>\n",
              "      <th>Q33_B_Part_1</th>\n",
              "      <th>Q33_B_Part_2</th>\n",
              "      <th>Q33_B_Part_3</th>\n",
              "      <th>Q33_B_Part_4</th>\n",
              "      <th>Q33_B_Part_5</th>\n",
              "      <th>Q33_B_Part_6</th>\n",
              "      <th>Q33_B_Part_7</th>\n",
              "      <th>Q33_B_OTHER</th>\n",
              "      <th>Q34_B_Part_1</th>\n",
              "      <th>Q34_B_Part_2</th>\n",
              "      <th>Q34_B_Part_3</th>\n",
              "      <th>Q34_B_Part_4</th>\n",
              "      <th>Q34_B_Part_5</th>\n",
              "      <th>Q34_B_Part_6</th>\n",
              "      <th>Q34_B_Part_7</th>\n",
              "      <th>Q34_B_Part_8</th>\n",
              "      <th>Q34_B_Part_9</th>\n",
              "      <th>Q34_B_Part_10</th>\n",
              "      <th>Q34_B_Part_11</th>\n",
              "      <th>Q34_B_OTHER</th>\n",
              "      <th>Q35_B_Part_1</th>\n",
              "      <th>Q35_B_Part_2</th>\n",
              "      <th>Q35_B_Part_3</th>\n",
              "      <th>Q35_B_Part_4</th>\n",
              "      <th>Q35_B_Part_5</th>\n",
              "      <th>Q35_B_Part_6</th>\n",
              "      <th>Q35_B_Part_7</th>\n",
              "      <th>Q35_B_Part_8</th>\n",
              "      <th>Q35_B_Part_9</th>\n",
              "      <th>Q35_B_Part_10</th>\n",
              "      <th>Q35_B_OTHER</th>\n",
              "    </tr>\n",
              "  </thead>\n",
              "  <tbody>\n",
              "    <tr>\n",
              "      <th>0</th>\n",
              "      <td>Duration (in seconds)</td>\n",
              "      <td>What is your age (# years)?</td>\n",
              "      <td>What is your gender? - Selected Choice</td>\n",
              "      <td>In which country do you currently reside?</td>\n",
              "      <td>What is the highest level of formal education ...</td>\n",
              "      <td>Select the title most similar to your current ...</td>\n",
              "      <td>For how many years have you been writing code ...</td>\n",
              "      <td>What programming languages do you use on a reg...</td>\n",
              "      <td>What programming languages do you use on a reg...</td>\n",
              "      <td>What programming languages do you use on a reg...</td>\n",
              "      <td>What programming languages do you use on a reg...</td>\n",
              "      <td>What programming languages do you use on a reg...</td>\n",
              "      <td>What programming languages do you use on a reg...</td>\n",
              "      <td>What programming languages do you use on a reg...</td>\n",
              "      <td>What programming languages do you use on a reg...</td>\n",
              "      <td>What programming languages do you use on a reg...</td>\n",
              "      <td>What programming languages do you use on a reg...</td>\n",
              "      <td>What programming languages do you use on a reg...</td>\n",
              "      <td>What programming languages do you use on a reg...</td>\n",
              "      <td>What programming languages do you use on a reg...</td>\n",
              "      <td>What programming language would you recommend ...</td>\n",
              "      <td>Which of the following integrated development ...</td>\n",
              "      <td>Which of the following integrated development ...</td>\n",
              "      <td>Which of the following integrated development ...</td>\n",
              "      <td>Which of the following integrated development ...</td>\n",
              "      <td>Which of the following integrated development ...</td>\n",
              "      <td>Which of the following integrated development ...</td>\n",
              "      <td>Which of the following integrated development ...</td>\n",
              "      <td>Which of the following integrated development ...</td>\n",
              "      <td>Which of the following integrated development ...</td>\n",
              "      <td>Which of the following integrated development ...</td>\n",
              "      <td>Which of the following integrated development ...</td>\n",
              "      <td>Which of the following integrated development ...</td>\n",
              "      <td>Which of the following hosted notebook product...</td>\n",
              "      <td>Which of the following hosted notebook product...</td>\n",
              "      <td>Which of the following hosted notebook product...</td>\n",
              "      <td>Which of the following hosted notebook product...</td>\n",
              "      <td>Which of the following hosted notebook product...</td>\n",
              "      <td>Which of the following hosted notebook product...</td>\n",
              "      <td>Which of the following hosted notebook product...</td>\n",
              "      <td>...</td>\n",
              "      <td>Which of the following business intelligence t...</td>\n",
              "      <td>Which of the following business intelligence t...</td>\n",
              "      <td>Which of the following business intelligence t...</td>\n",
              "      <td>Which of the following business intelligence t...</td>\n",
              "      <td>Which of the following business intelligence t...</td>\n",
              "      <td>Which of the following business intelligence t...</td>\n",
              "      <td>Which of the following business intelligence t...</td>\n",
              "      <td>Which of the following business intelligence t...</td>\n",
              "      <td>Which of the following business intelligence t...</td>\n",
              "      <td>Which categories of automated machine learning...</td>\n",
              "      <td>Which categories of automated machine learning...</td>\n",
              "      <td>Which categories of automated machine learning...</td>\n",
              "      <td>Which categories of automated machine learning...</td>\n",
              "      <td>Which categories of automated machine learning...</td>\n",
              "      <td>Which categories of automated machine learning...</td>\n",
              "      <td>Which categories of automated machine learning...</td>\n",
              "      <td>Which categories of automated machine learning...</td>\n",
              "      <td>Which specific automated machine learning tool...</td>\n",
              "      <td>Which specific automated machine learning tool...</td>\n",
              "      <td>Which specific automated machine learning tool...</td>\n",
              "      <td>Which specific automated machine learning tool...</td>\n",
              "      <td>Which specific automated machine learning tool...</td>\n",
              "      <td>Which specific automated machine learning tool...</td>\n",
              "      <td>Which specific automated machine learning tool...</td>\n",
              "      <td>Which specific automated machine learning tool...</td>\n",
              "      <td>Which specific automated machine learning tool...</td>\n",
              "      <td>Which specific automated machine learning tool...</td>\n",
              "      <td>Which specific automated machine learning tool...</td>\n",
              "      <td>Which specific automated machine learning tool...</td>\n",
              "      <td>In the next 2 years, do you hope to become mor...</td>\n",
              "      <td>In the next 2 years, do you hope to become mor...</td>\n",
              "      <td>In the next 2 years, do you hope to become mor...</td>\n",
              "      <td>In the next 2 years, do you hope to become mor...</td>\n",
              "      <td>In the next 2 years, do you hope to become mor...</td>\n",
              "      <td>In the next 2 years, do you hope to become mor...</td>\n",
              "      <td>In the next 2 years, do you hope to become mor...</td>\n",
              "      <td>In the next 2 years, do you hope to become mor...</td>\n",
              "      <td>In the next 2 years, do you hope to become mor...</td>\n",
              "      <td>In the next 2 years, do you hope to become mor...</td>\n",
              "      <td>In the next 2 years, do you hope to become mor...</td>\n",
              "    </tr>\n",
              "    <tr>\n",
              "      <th>1</th>\n",
              "      <td>1838</td>\n",
              "      <td>35-39</td>\n",
              "      <td>Man</td>\n",
              "      <td>Colombia</td>\n",
              "      <td>Doctoral degree</td>\n",
              "      <td>Student</td>\n",
              "      <td>5-10 years</td>\n",
              "      <td>Python</td>\n",
              "      <td>R</td>\n",
              "      <td>SQL</td>\n",
              "      <td>C</td>\n",
              "      <td>NaN</td>\n",
              "      <td>NaN</td>\n",
              "      <td>Javascript</td>\n",
              "      <td>NaN</td>\n",
              "      <td>NaN</td>\n",
              "      <td>NaN</td>\n",
              "      <td>MATLAB</td>\n",
              "      <td>NaN</td>\n",
              "      <td>Other</td>\n",
              "      <td>Python</td>\n",
              "      <td>Jupyter (JupyterLab, Jupyter Notebooks, etc)</td>\n",
              "      <td>NaN</td>\n",
              "      <td>NaN</td>\n",
              "      <td>Visual Studio Code (VSCode)</td>\n",
              "      <td>NaN</td>\n",
              "      <td>Spyder</td>\n",
              "      <td>NaN</td>\n",
              "      <td>NaN</td>\n",
              "      <td>NaN</td>\n",
              "      <td>NaN</td>\n",
              "      <td>NaN</td>\n",
              "      <td>NaN</td>\n",
              "      <td>Kaggle Notebooks</td>\n",
              "      <td>Colab Notebooks</td>\n",
              "      <td>NaN</td>\n",
              "      <td>NaN</td>\n",
              "      <td>NaN</td>\n",
              "      <td>NaN</td>\n",
              "      <td>NaN</td>\n",
              "      <td>...</td>\n",
              "      <td>NaN</td>\n",
              "      <td>NaN</td>\n",
              "      <td>NaN</td>\n",
              "      <td>NaN</td>\n",
              "      <td>NaN</td>\n",
              "      <td>NaN</td>\n",
              "      <td>SAP Analytics Cloud</td>\n",
              "      <td>NaN</td>\n",
              "      <td>NaN</td>\n",
              "      <td>Automated data augmentation (e.g. imgaug, albu...</td>\n",
              "      <td>NaN</td>\n",
              "      <td>NaN</td>\n",
              "      <td>NaN</td>\n",
              "      <td>Automated hyperparameter tuning (e.g. hyperopt...</td>\n",
              "      <td>Automation of full ML pipelines (e.g. Google C...</td>\n",
              "      <td>NaN</td>\n",
              "      <td>NaN</td>\n",
              "      <td>Google Cloud AutoML</td>\n",
              "      <td>NaN</td>\n",
              "      <td>Databricks AutoML</td>\n",
              "      <td>NaN</td>\n",
              "      <td>NaN</td>\n",
              "      <td>Auto-Keras</td>\n",
              "      <td>Auto-Sklearn</td>\n",
              "      <td>NaN</td>\n",
              "      <td>NaN</td>\n",
              "      <td>NaN</td>\n",
              "      <td>NaN</td>\n",
              "      <td>NaN</td>\n",
              "      <td>NaN</td>\n",
              "      <td>NaN</td>\n",
              "      <td>NaN</td>\n",
              "      <td>NaN</td>\n",
              "      <td>TensorBoard</td>\n",
              "      <td>NaN</td>\n",
              "      <td>NaN</td>\n",
              "      <td>NaN</td>\n",
              "      <td>NaN</td>\n",
              "      <td>NaN</td>\n",
              "      <td>NaN</td>\n",
              "    </tr>\n",
              "  </tbody>\n",
              "</table>\n",
              "<p>2 rows × 355 columns</p>\n",
              "</div>"
            ],
            "text/plain": [
              "  Time from Start to Finish (seconds)  ...                                        Q35_B_OTHER\n",
              "0               Duration (in seconds)  ...  In the next 2 years, do you hope to become mor...\n",
              "1                                1838  ...                                                NaN\n",
              "\n",
              "[2 rows x 355 columns]"
            ]
          },
          "metadata": {},
          "execution_count": 13
        }
      ]
    },
    {
      "cell_type": "markdown",
      "metadata": {
        "id": "sbyIr1pSW1jd"
      },
      "source": [
        "# **2.0. DATA PREPRECESSING**"
      ]
    },
    {
      "cell_type": "code",
      "metadata": {
        "id": "21mEK1PyWzdz"
      },
      "source": [
        "# Select just the column that i will use\n",
        "df_2019 = df_2019[['Time from Start to Finish (seconds)', 'Q1', 'Q2', 'Q3', 'Q4', 'Q5']]\n",
        "df_2020 = df_2020[['Time from Start to Finish (seconds)', 'Q1', 'Q2', 'Q3', 'Q4', 'Q5']]\n",
        "df_2021 = df_2021[['Time from Start to Finish (seconds)', 'Q1', 'Q2', 'Q3', 'Q4', 'Q5']]\n",
        "\n",
        "# rename columns\n",
        "\n",
        "cols = {'Time from Start to Finish (seconds)':'Time_start_to_finish', 'Q1':'age', 'Q2':'gender', 'Q3':'country_reside', \n",
        "        'Q4':'formal_education', 'Q5':'title_job', 'Q6':'years_writing_code', }\n",
        "df_2019.rename(columns=cols, inplace=True)\n",
        "\n",
        "cols = {'Time from Start to Finish (seconds)':'Time_start_to_finish', 'Q1':'age', 'Q2':'gender', 'Q3':'country_reside', \n",
        "        'Q4':'formal_education', 'Q5':'title_job', 'Q6':'years_writing_code', }\n",
        "df_2020.rename(columns=cols, inplace=True)\n",
        "\n",
        "cols = {'Time from Start to Finish (seconds)':'Time_start_to_finish', 'Q1':'age', 'Q2':'gender', 'Q3':'country_reside', \n",
        "        'Q4':'formal_education', 'Q5':'title_job', 'Q6':'years_writing_code', }\n",
        "df_2021.rename(columns=cols, inplace=True)\n",
        "\n",
        "df_2019.drop(0, axis=0, inplace=True)\n",
        "df_2020.drop(0, axis=0, inplace=True)\n",
        "df_2021.drop(0, axis=0, inplace=True)\n",
        "\n",
        "# creare a new column to indentify what year the daset belongs\n",
        "df_2019['year'] = '2019'\n",
        "df_2020['year'] = '2020'\n",
        "df_2021['year'] = '2021'\n",
        "\n",
        "aux = pd.concat([df_2019, df_2020], ignore_index=True)\n",
        "df_all = pd.concat([aux, df_2021], ignore_index=True)\n",
        "\n",
        "#Change the extense name IRAN and UK\n",
        "df_all['country_reside'] = df_all['country_reside'].str.replace('Iran, Islamic Republic of...', 'Iran')\n",
        "df_all['country_reside'] = df_all['country_reside'].str.replace('United Kingdom of Great Britain and Northern Ireland', 'United Kingdom')\n",
        "df_all['country_reside'] = df_all['country_reside'].replace('Hong Kong (S.A.R.)', 'Hong Kong')\n",
        "\n",
        "# gender the gender\n",
        "\n",
        "df_all['gender'] = df_all['gender'].str.replace('Female', 'Woman')\n",
        "df_all['gender'] = df_all['gender'].str.replace('Male','Man')\n",
        "\n",
        "# Creare a new column continent \n",
        "map_continent = {'India':'Asia', 'Indonesia':'Asia', 'Pakistan':'Asia', 'Mexico':'North America', 'Russia':'Asia', 'Turkey':'Asia',\n",
        "                'Australia':'Australia', 'Nigeria':'Africa', 'Greece':'Europe', 'Belgium':'Europe', 'Japan':'Asia', 'Egypt':'Africa',\n",
        "                'Singapore':'Asia', 'Brazil':'South America', 'Poland':'Europe', 'China':'Asia','Iran':'Asia', 'United States of America':'North America',\n",
        "                'Italy':'Europe', 'Viet Nam':'Asia', 'Israel':'Asia', 'Peru':'South America', 'South Africa':'Africa', 'Other':'Other','Spain':'Europe', 'Bangladesh':'Asia',\n",
        "                'United Kingdom':'Europe', 'France':'Europe','Switzerland':'Europe', 'Algeria':'Africa', 'Tunisia':'Africa', 'Argentina':'South America', 'Sweden':'Europe',\n",
        "                'Colombia':'South America','I do not wish to disclose my location':'I do not wish to disclose my location', 'Canada':'North America','Chile':'South America', \n",
        "                'Netherlands':'Europe', 'Ukraine':'Europe', 'Saudi Arabia':'Asia', 'Romania':'Europe','Morocco':'Africa', 'Austria':'Europe', 'Taiwan':'Asia', 'Kenya':'Africa', 'Belarus':'Europe', \n",
        "                'Ireland':'Europe','Portugal':'Europe', 'Hong Kong':'Asia', 'Denmark':'Europe', 'Germany':'Europe','South Korea':'Asia', 'Philippines':'Asia', 'Sri Lanka':'Asia', \n",
        "                'United Arab Emirates':'Asia','Uganda':'Africa', 'Ghana':'Africa', 'Malaysia':'Asia', 'Thailand':'Asia', 'Nepal':'Asia', 'Kazakhstan':'Asia','Ethiopia':'Africa', 'Iraq':'Asia', \n",
        "                'Ecuador':'South America', 'Norway':'Europe', 'Czech Republic':'Europe', 'Kenya':'Africa', 'Republic of Korea':'Asia', 'New Zealand':'Oceanian', 'Hungary':'Europe'}\n",
        "\n",
        "df_all['continent'] = df_all['country_reside'].map(map_continent)\n",
        "\n",
        "\n",
        "# change types and trasnforming time ( seconds ) to minutes\n",
        "df_all['year'] = df_all['year'].astype(int)\n",
        "df_all['Time_start_to_finish'] = df_all['Time_start_to_finish'].astype(int)\n",
        "df_all['Time_start_to_finish'] = df_all['Time_start_to_finish'].apply(lambda x: round(x / 60, ndigits=2))\n"
      ],
      "execution_count": null,
      "outputs": []
    },
    {
      "cell_type": "code",
      "metadata": {
        "colab": {
          "base_uri": "https://localhost:8080/",
          "height": 80
        },
        "id": "Ig_N9t8uiwzb",
        "outputId": "9d075a34-4c69-462c-c133-ab8d36741e17"
      },
      "source": [
        "df_all.sample()"
      ],
      "execution_count": null,
      "outputs": [
        {
          "output_type": "execute_result",
          "data": {
            "text/html": [
              "<div>\n",
              "<style scoped>\n",
              "    .dataframe tbody tr th:only-of-type {\n",
              "        vertical-align: middle;\n",
              "    }\n",
              "\n",
              "    .dataframe tbody tr th {\n",
              "        vertical-align: top;\n",
              "    }\n",
              "\n",
              "    .dataframe thead th {\n",
              "        text-align: right;\n",
              "    }\n",
              "</style>\n",
              "<table border=\"1\" class=\"dataframe\">\n",
              "  <thead>\n",
              "    <tr style=\"text-align: right;\">\n",
              "      <th></th>\n",
              "      <th>Time_start_to_finish</th>\n",
              "      <th>age</th>\n",
              "      <th>gender</th>\n",
              "      <th>country_reside</th>\n",
              "      <th>formal_education</th>\n",
              "      <th>title_job</th>\n",
              "      <th>year</th>\n",
              "      <th>continent</th>\n",
              "    </tr>\n",
              "  </thead>\n",
              "  <tbody>\n",
              "    <tr>\n",
              "      <th>3387</th>\n",
              "      <td>8.47</td>\n",
              "      <td>40-44</td>\n",
              "      <td>Man</td>\n",
              "      <td>Poland</td>\n",
              "      <td>Doctoral degree</td>\n",
              "      <td>Research Scientist</td>\n",
              "      <td>2019</td>\n",
              "      <td>Europe</td>\n",
              "    </tr>\n",
              "  </tbody>\n",
              "</table>\n",
              "</div>"
            ],
            "text/plain": [
              "      Time_start_to_finish    age gender  ...           title_job  year continent\n",
              "3387                  8.47  40-44    Man  ...  Research Scientist  2019    Europe\n",
              "\n",
              "[1 rows x 8 columns]"
            ]
          },
          "metadata": {},
          "execution_count": 174
        }
      ]
    },
    {
      "cell_type": "markdown",
      "metadata": {
        "id": "8MAlB_2DacBY"
      },
      "source": [
        "# **3.0. EXPLORATORY DATA ANALYSIS (EDA)**"
      ]
    },
    {
      "cell_type": "markdown",
      "metadata": {
        "id": "xlAGkS7wVB2n"
      },
      "source": [
        "# **3.1. DATA ABOU SURVEY**"
      ]
    },
    {
      "cell_type": "markdown",
      "metadata": {
        "id": "hkf_S7zrfwke"
      },
      "source": [
        "## **3.1.1. TIME TO FILL THE SURVEY**"
      ]
    },
    {
      "cell_type": "code",
      "metadata": {
        "colab": {
          "base_uri": "https://localhost:8080/"
        },
        "id": "uy8nK4BFmKMS",
        "outputId": "b955ef32-ff06-42f3-8b32-a85d56ae8559"
      },
      "source": [
        "print(f'minimum time to complete the survey: {df_all[\"Time_start_to_finish\"].min()} minutes')\n",
        "print(f'maximum time to complete the survey: {df_all[\"Time_start_to_finish\"].max()} minutes')"
      ],
      "execution_count": null,
      "outputs": [
        {
          "output_type": "stream",
          "name": "stdout",
          "text": [
            "minimum time to complete the survey: 0.33 minutes\n",
            "maximum time to complete the survey: 41477.55 minutes\n"
          ]
        }
      ]
    },
    {
      "cell_type": "markdown",
      "metadata": {
        "id": "afjP0CyRVXh0"
      },
      "source": [
        "## **3.1.2. NUMBER OF SURVEY PARTICIPANTS PER YEAR**"
      ]
    },
    {
      "cell_type": "code",
      "metadata": {
        "id": "PUQMu5quWBi8"
      },
      "source": [
        "df_year = df_all.groupby(['year'], as_index=False)['age'].count().rename( columns = {\"age\":'total'})\n",
        "df_year = pd.DataFrame(df_year)"
      ],
      "execution_count": null,
      "outputs": []
    },
    {
      "cell_type": "code",
      "metadata": {
        "colab": {
          "base_uri": "https://localhost:8080/",
          "height": 464
        },
        "id": "QYCHeep6UqAM",
        "outputId": "9cb69075-714f-4492-aa2f-c6a35365c7c2"
      },
      "source": [
        "plt.figure(figsize=(15, 7))\n",
        "g = sns.barplot(x='year', y='total', data = df_year, palette='Set1')\n",
        "plt.title('NUMBER OF SURVEY PARTICIPANTS PER YEAR')\n",
        "get_label(g)"
      ],
      "execution_count": null,
      "outputs": [
        {
          "output_type": "display_data",
          "data": {
            "image/png": "[encoded data removed]",
            "text/plain": [
              "<Figure size 1080x504 with 1 Axes>"
            ]
          },
          "metadata": {}
        }
      ]
    },
    {
      "cell_type": "markdown",
      "metadata": {
        "id": "YMtlkxuwU4oN"
      },
      "source": [
        "# **3.2. DATA ABOUT PARTICIPANTS OF SURVEY**"
      ]
    },
    {
      "cell_type": "markdown",
      "metadata": {
        "id": "stlwfGghlE3y"
      },
      "source": [
        "## **3.2.1 AGE**"
      ]
    },
    {
      "cell_type": "code",
      "metadata": {
        "id": "x2RvnwD_ehCX"
      },
      "source": [
        "df_age = df_all.groupby(['age', 'year'], as_index=False)['gender'].count().rename( columns = {\"gender\":'total'})\n",
        "df_age = pd.DataFrame(df_age)"
      ],
      "execution_count": null,
      "outputs": []
    },
    {
      "cell_type": "code",
      "metadata": {
        "colab": {
          "base_uri": "https://localhost:8080/",
          "height": 464
        },
        "id": "pqJLCnSGbpv6",
        "outputId": "c7b9ff88-1813-4bf5-90aa-03134a76fdfc"
      },
      "source": [
        "plt.figure(figsize=(15, 7))\n",
        "g = sns.barplot(x='age', y='total', hue='year', data = df_age, palette='Set2')\n",
        "plt.title('AGE OF PARTICIPANTS PER YEAR');"
      ],
      "execution_count": null,
      "outputs": [
        {
          "output_type": "display_data",
          "data": {
            "image/png": "[encoded data removed]",
            "text/plain": [
              "<Figure size 1080x504 with 1 Axes>"
            ]
          },
          "metadata": {}
        }
      ]
    },
    {
      "cell_type": "markdown",
      "metadata": {
        "id": "-uccnqnhKYH5"
      },
      "source": [
        "**In 2021 there was an increase in research participants in all age groups compared to 2020 and 2019**"
      ]
    },
    {
      "cell_type": "markdown",
      "metadata": {
        "id": "qehIeSqPocvm"
      },
      "source": [
        "## **3.2.2. GENDER**"
      ]
    },
    {
      "cell_type": "code",
      "metadata": {
        "id": "9J8nwwW-lKpn"
      },
      "source": [
        "mask = (df_all['gender'] != 'Prefer not to say')\n",
        "df_gender =  df_all.loc[mask].groupby(['gender', 'year'], as_index=False)['age'].count().rename( columns = {'age':'total'})"
      ],
      "execution_count": null,
      "outputs": []
    },
    {
      "cell_type": "code",
      "metadata": {
        "colab": {
          "base_uri": "https://localhost:8080/",
          "height": 464
        },
        "id": "y6WbRrHspwQD",
        "outputId": "226cca4a-8d0a-4b0b-d115-93f7fcfcffbc"
      },
      "source": [
        "plt.figure(figsize=(15, 7))\n",
        "order = ['Man', 'Woman', 'Nonbinary', 'Prefer to self-describe']\n",
        "g = sns.barplot(x='gender', y='total', hue='year', data = df_gender, order=order, palette='Set2')\n",
        "plt.title('GENDER OF PARTICIPANTS PER YEAR');"
      ],
      "execution_count": null,
      "outputs": [
        {
          "output_type": "display_data",
          "data": {
            "image/png": "[encoded data removed]",
            "text/plain": [
              "<Figure size 1080x504 with 1 Axes>"
            ]
          },
          "metadata": {}
        }
      ]
    },
    {
      "cell_type": "markdown",
      "metadata": {
        "id": "G4oq_hwiN3DW"
      },
      "source": [
        "**The number of male and female participants also increased in 2021, compared to 2020 and 2021. There is still a large difference between women and men, according to the Kaggle survey.**"
      ]
    },
    {
      "cell_type": "markdown",
      "metadata": {
        "id": "z9ql2ZP-cYHk"
      },
      "source": [
        "## **3.2.3. TITLE JOB**"
      ]
    },
    {
      "cell_type": "code",
      "metadata": {
        "id": "zbef1SdebsZ-"
      },
      "source": [
        "title_job =  df_all.groupby(['title_job', 'year'], as_index=False)['age'].count().rename( columns = {'age':'total'})"
      ],
      "execution_count": null,
      "outputs": []
    },
    {
      "cell_type": "code",
      "metadata": {
        "colab": {
          "base_uri": "https://localhost:8080/",
          "height": 622
        },
        "id": "wY15xKCwct-S",
        "outputId": "e3482973-8a26-4821-82e5-580a95d67a80"
      },
      "source": [
        "plt.figure(figsize=(15, 7))\n",
        "g = sns.barplot(x='title_job', y='total', hue='year', data = title_job, palette='Set2')\n",
        "plt.title('TITLE JOB OF PARTICIPANTS PER YEAR');\n",
        "plt.xticks(rotation=90);"
      ],
      "execution_count": null,
      "outputs": [
        {
          "output_type": "display_data",
          "data": {
            "image/png": "[encoded data removed]",
            "text/plain": [
              "<Figure size 1080x504 with 1 Axes>"
            ]
          },
          "metadata": {}
        }
      ]
    },
    {
      "cell_type": "markdown",
      "metadata": {
        "id": "3z07pOZwi-IS"
      },
      "source": [
        "**Students are the biggest participants in Kaggle's research and it has been growing every year.**"
      ]
    },
    {
      "cell_type": "markdown",
      "metadata": {
        "id": "I4az_5GdPE8S"
      },
      "source": [
        "## **3.2.4 PROGRAMMING LANGUAGE**"
      ]
    },
    {
      "cell_type": "code",
      "metadata": {
        "id": "4WeGWyLYO9cT"
      },
      "source": [
        "def get_count(question_num, parts, data):\n",
        "    questions = []\n",
        "    questions = ['Q'+ str(question_num) +'_Part_'+ str(j) for j in range(1, parts)]\n",
        "    questions.append('Q'+ str(question_num) + '_OTHER')\n",
        "    \n",
        "    categories = []\n",
        "    values = []\n",
        "    for i in questions:\n",
        "        category = data[i].value_counts().index[0]\n",
        "        val = data[i].value_counts()[0]\n",
        "        \n",
        "        categories.append(category)\n",
        "        values.append(val)\n",
        "       \n",
        "    combined_df = pd.DataFrame()\n",
        "    combined_df['Category'] = categories\n",
        "    combined_df['Value'] = values\n",
        "    \n",
        "    combined_df = combined_df.sort_values(['Value'],ascending=False)\n",
        "    \n",
        "    return combined_df\n"
      ],
      "execution_count": 62,
      "outputs": []
    },
    {
      "cell_type": "code",
      "metadata": {
        "colab": {
          "base_uri": "https://localhost:8080/",
          "height": 468
        },
        "id": "1q5RJqv9O_dp",
        "outputId": "e7791b97-04d4-4a6f-fbed-3b7679ace3d3"
      },
      "source": [
        "df1 = get_count(7, 13, df_2020)\n",
        "df2 = get_count(7, 13, df_2021)\n",
        "df1['year'] = 2020\n",
        "df2['year'] = 2021\n",
        "df_programing = pd.concat([df1, df2], ignore_index=True)\n",
        "\n",
        "plt.figure(figsize=(15, 7))\n",
        "sns.barplot(x='Category', y='Value', hue='year', data=df_programing, palette='Set2');\n",
        "plt.title('PROGRAMMING LANGUAGE 2020 AND 2021', size=18);"
      ],
      "execution_count": 74,
      "outputs": [
        {
          "output_type": "display_data",
          "data": {
            "image/png": "[encoded data removed]",
            "text/plain": [
              "<Figure size 1080x504 with 1 Axes>"
            ]
          },
          "metadata": {
            "needs_background": "light"
          }
        }
      ]
    },
    {
      "cell_type": "markdown",
      "metadata": {
        "id": "Zq98qT17hhfP"
      },
      "source": [
        "## **3.2.5 INTEGRATED DEVELOPMENT ENVIRONMENT 2020 and 2021**"
      ]
    },
    {
      "cell_type": "code",
      "metadata": {
        "id": "vtXX06EQTejG"
      },
      "source": [
        "integrated_development_2020 = get_count(9, 11, df_2020)\n",
        "integrated_development_2021 = get_count(9, 12, df_2021)\n",
        "\n",
        "integrated_development_2020['year'] = 2020\n",
        "integrated_development_2021['year'] = 2021\n",
        "df_ide = pd.concat([integrated_development_2020, integrated_development_2021], ignore_index=True)\n",
        "df_ide['Category'] = df_ide['Category'].apply(lambda x: x.strip(' '))\n",
        "\n",
        "map = {'Jupyter (JupyterLab, Jupyter Notebooks, etc)':'Jupyter Notebook',\n",
        "       'Visual Studio Code (VSCode)':'VSCode','PyCharm':'PyCharm','RStudio':'RStudio',\n",
        "       'Spyder':'Spyder', 'Notepad++':'Notepad++','Sublime Text':'Sublime Text',\n",
        "       'Visual Studio':'Visual Studio','MATLAB':'MATLAB', 'Vim / Emacs':'Vim / Emacs',\n",
        "       'Other':'Other', 'Jupyter Notebook':'Jupyter Notebook'}\n",
        "\n",
        "df_ide['Category'] = df_ide['Category'].map(map)"
      ],
      "execution_count": 173,
      "outputs": []
    },
    {
      "cell_type": "code",
      "metadata": {
        "colab": {
          "base_uri": "https://localhost:8080/"
        },
        "id": "2MdX2uY-VqmQ",
        "outputId": "21b4a00d-d2aa-4451-95d9-ac0a49b077ba"
      },
      "source": [
        "df_ide['Category'].values"
      ],
      "execution_count": 174,
      "outputs": [
        {
          "output_type": "execute_result",
          "data": {
            "text/plain": [
              "array(['Jupyter Notebook', 'VSCode', 'PyCharm', 'RStudio', 'Spyder',\n",
              "       'Notepad++', 'Sublime Text', 'Visual Studio', 'MATLAB',\n",
              "       'Vim / Emacs', 'Other', 'Jupyter Notebook', 'VSCode', 'PyCharm',\n",
              "       'Jupyter Notebook', 'RStudio', 'Visual Studio', 'Notepad++',\n",
              "       'Spyder', 'Sublime Text', 'MATLAB', 'Vim / Emacs', 'Other'],\n",
              "      dtype=object)"
            ]
          },
          "metadata": {},
          "execution_count": 174
        }
      ]
    },
    {
      "cell_type": "code",
      "metadata": {
        "colab": {
          "base_uri": "https://localhost:8080/",
          "height": 468
        },
        "id": "aRNtCw2QUG_B",
        "outputId": "af6b9169-4b7d-4e1e-8b71-d49f3fda73e4"
      },
      "source": [
        "plt.figure(figsize=(15, 7))\n",
        "sns.barplot(y='Category', x='Value', hue='year', data=df_ide, palette='Set2');\n",
        "plt.title('INTEGRATED DEVELOPMENT ENVIRONMENT 2020 and 2021', size=18);"
      ],
      "execution_count": 175,
      "outputs": [
        {
          "output_type": "display_data",
          "data": {
            "image/png": "[encoded data removed]",
            "text/plain": [
              "<Figure size 1080x504 with 1 Axes>"
            ]
          },
          "metadata": {
            "needs_background": "light"
          }
        }
      ]
    },
    {
      "cell_type": "markdown",
      "metadata": {
        "id": "ck_waXeNicyI"
      },
      "source": [
        "## **WHICH MANAGED MACHINE LEARNING PRODUCTS THE PARTICIPANTS WISH TO BECOME FAMILIAR**"
      ]
    },
    {
      "cell_type": "code",
      "metadata": {
        "id": "byyG6oCajD1U"
      },
      "source": [
        "def get_count_2(question_num, parts, data):\n",
        "    questions = []\n",
        "    questions = ['Q'+ str(question_num) +'_B_Part_'+ str(j) for j in range(1, parts)]\n",
        "    questions.append('Q'+ str(question_num) + '_B_OTHER')\n",
        "    \n",
        "    categories = []\n",
        "    values = []\n",
        "    for i in questions:\n",
        "        category = data[i].value_counts().index[0]\n",
        "        val = data[i].value_counts()[0]\n",
        "        \n",
        "        categories.append(category)\n",
        "        values.append(val)\n",
        "       \n",
        "    combined_df = pd.DataFrame()\n",
        "    combined_df['Category'] = categories\n",
        "    combined_df['Value'] = values\n",
        "    \n",
        "    combined_df = combined_df.sort_values(['Value'],ascending=False)\n",
        "    \n",
        "    return combined_df"
      ],
      "execution_count": 178,
      "outputs": []
    },
    {
      "cell_type": "code",
      "metadata": {
        "id": "WeLicqg3jTYB"
      },
      "source": [
        "df_Q35_2020 = get_count_2(35, 10, df_2020)\n",
        "df_Q38_2021 = get_count_2(38, 11, df_2021)\n",
        "\n",
        "df_Q35_2020['year'] = 2020\n",
        "df_Q38_2021['year'] = 2021\n",
        "df_become_falimiar = pd.concat([df_Q35_2020, df_Q38_2021], ignore_index=True)\n",
        "df_become_falimiar['Category'] = df_become_falimiar['Category'].apply(lambda x: x.strip(' '))"
      ],
      "execution_count": 189,
      "outputs": []
    },
    {
      "cell_type": "code",
      "metadata": {
        "colab": {
          "base_uri": "https://localhost:8080/",
          "height": 464
        },
        "id": "4G9q1Wp4k133",
        "outputId": "630c62d6-6c38-47ac-9365-3d6b0e5ff873"
      },
      "source": [
        "plt.figure(figsize=(15, 7))\n",
        "sns.barplot(y='Category', x='Value', hue='year', data=df_become_falimiar, palette='Set2');\n",
        "plt.title('WHICH MANAGED MACHINE LEARNING PRODUCTS THE PARTICIPANTS WISH TO BECOME FAMILIAR');"
      ],
      "execution_count": 194,
      "outputs": [
        {
          "output_type": "display_data",
          "data": {
            "image/png": "[encoded data removed]",
            "text/plain": [
              "<Figure size 1080x504 with 1 Axes>"
            ]
          },
          "metadata": {
            "needs_background": "light"
          }
        }
      ]
    },
    {
      "cell_type": "markdown",
      "metadata": {
        "id": "ACGHrKA6nzK-"
      },
      "source": [
        "**In 2020 and 2021, TensorBoard is the Managed Magine Learning products that participants most want to learn.**\n",
        "\n",
        "**In 2021, two new technologies appeared that participants have been aiming for in the last 2 years: MLFlow and ClearML.**"
      ]
    },
    {
      "cell_type": "markdown",
      "metadata": {
        "id": "RMZdM0BwUhTX"
      },
      "source": [
        "# **3.3. GEOGRAPGIC DATA**"
      ]
    },
    {
      "cell_type": "markdown",
      "metadata": {
        "id": "6-04DDEMaGdS"
      },
      "source": [
        "## **3.3.1. COUNTRY**"
      ]
    },
    {
      "cell_type": "code",
      "metadata": {
        "id": "aUDM5AG3l1Ne"
      },
      "source": [
        "mask_country = (df_all['country_reside'] != 'Other')\n",
        "df_country = df_all.loc[mask_country].groupby(['country_reside', 'year'], as_index=False)['gender'].count().rename( columns = {\"gender\":'total'})\n",
        "df_country = pd.DataFrame(df_country)\n",
        "df_country_10 = df_country.nlargest(30, 'total')"
      ],
      "execution_count": null,
      "outputs": []
    },
    {
      "cell_type": "code",
      "metadata": {
        "colab": {
          "base_uri": "https://localhost:8080/",
          "height": 593
        },
        "id": "wBNKLii5nnOl",
        "outputId": "f7fe5067-c8e5-42e1-efdf-19b564d778b3"
      },
      "source": [
        "plt.figure(figsize=(15, 7))\n",
        "g = sns.barplot(x='country_reside', y='total', hue='year', data = df_country_10, palette='magma')\n",
        "plt.title('COUNTRY OF PARTICIPANTS PER YEAR');\n",
        "plt.xticks(rotation=90);"
      ],
      "execution_count": null,
      "outputs": [
        {
          "output_type": "display_data",
          "data": {
            "image/png": "[encoded data removed]",
            "text/plain": [
              "<Figure size 1080x504 with 1 Axes>"
            ]
          },
          "metadata": {}
        }
      ]
    },
    {
      "cell_type": "markdown",
      "metadata": {
        "id": "fao7_Bzph2Au"
      },
      "source": [
        "**India is the top country of participants, ranking first in the 2019, 2020 and 2021 surveys.**"
      ]
    },
    {
      "cell_type": "markdown",
      "metadata": {
        "id": "ZcFJg0AmljEe"
      },
      "source": [
        "## **3.3.2. CONTINENT**"
      ]
    },
    {
      "cell_type": "code",
      "metadata": {
        "id": "mwc-2KIPcF71"
      },
      "source": [
        "mask = (df_all['continent'] != 'Other') & (df_all['continent'] != 'I do not wish to disclose my location')\n",
        "df1_contnent = df_all.loc[mask].groupby(['continent', 'year'], as_index=False)['age'].count().rename( columns = {'age':'total'})"
      ],
      "execution_count": null,
      "outputs": []
    },
    {
      "cell_type": "code",
      "metadata": {
        "colab": {
          "base_uri": "https://localhost:8080/",
          "height": 410
        },
        "id": "J0ebLNfecrv8",
        "outputId": "e2c83dde-01a9-42ea-94b4-434cb87ff84b"
      },
      "source": [
        "order = ['Asia', 'North America', 'Europe', 'Africa', 'South America', 'Oceanian']\n",
        "g = sns.barplot(y='continent', x='total', hue='year', data = df1_contnent, order=order, palette='magma')\n",
        "plt.title('CONTINENT OF PARTICIPANTS PER YEAR');"
      ],
      "execution_count": null,
      "outputs": [
        {
          "output_type": "display_data",
          "data": {
            "image/png": "[encoded data removed]",
            "text/plain": [
              "<Figure size 1080x432 with 1 Axes>"
            ]
          },
          "metadata": {}
        }
      ]
    },
    {
      "cell_type": "markdown",
      "metadata": {
        "id": "xmB9b5I1hNdo"
      },
      "source": [
        "**Asian continent loves Kaggle - Mainly in India**"
      ]
    }
  ]
}