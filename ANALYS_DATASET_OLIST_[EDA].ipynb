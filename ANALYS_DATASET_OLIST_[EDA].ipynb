{
  "cells": [
    {
      "cell_type": "markdown",
      "metadata": {
        "id": "view-in-github",
        "colab_type": "text"
      },
      "source": [
        "<a href=\"https://colab.research.google.com/github/Flaviofrc97/DATA-SCIENSE-PROJECTS/blob/main/ANALYS_DATASET_OLIST_%5BEDA%5D.ipynb\" target=\"_parent\"><img src=\"https://colab.research.google.com/assets/colab-badge.svg\" alt=\"Open In Colab\"/></a>"
      ]
    },
    {
      "cell_type": "code",
      "execution_count": 8,
      "id": "87d11642",
      "metadata": {
        "ExecuteTime": {
          "end_time": "2021-12-28T22:17:56.531454Z",
          "start_time": "2021-12-28T22:17:44.598915Z"
        },
        "id": "87d11642"
      },
      "outputs": [],
      "source": [
        "#!pip install wordcloud\n",
        "#!pip install pandasql"
      ]
    },
    {
      "cell_type": "code",
      "execution_count": 11,
      "id": "68e7f8d4",
      "metadata": {
        "ExecuteTime": {
          "end_time": "2021-12-28T22:18:07.712039Z",
          "start_time": "2021-12-28T22:18:04.486407Z"
        },
        "id": "68e7f8d4"
      },
      "outputs": [],
      "source": [
        "import pandas as pd\n",
        "import pandasql as psql\n",
        "from pandasql import sqldf\n",
        "import numpy as np\n",
        "import calendar\n",
        "\n",
        "import seaborn as sns\n",
        "import matplotlib.pyplot as plt\n",
        "#from wordcloud import WordCloud\n",
        "\n",
        "import warnings\n",
        "warnings.filterwarnings( 'ignore' )\n",
        "\n",
        "sns.set(style='darkgrid')\n",
        "plt.rcParams[\"figure.figsize\"] = (15,7)"
      ]
    },
    {
      "cell_type": "code",
      "source": [
        "from google.colab import drive\n",
        "drive.mount('/content/drive')"
      ],
      "metadata": {
        "id": "QIoi2bG_S4kn"
      },
      "id": "QIoi2bG_S4kn",
      "execution_count": null,
      "outputs": []
    },
    {
      "cell_type": "markdown",
      "id": "8e9d55cb",
      "metadata": {
        "id": "8e9d55cb"
      },
      "source": [
        "## LOADING DATA"
      ]
    },
    {
      "cell_type": "code",
      "source": [
        "reviews = pd.read_csv(\"/content/drive/MyDrive/OLIST_DATASETS/olist_order_reviews_dataset.csv\")\n",
        "products  = pd.read_csv(\"/content/drive/MyDrive/OLIST_DATASETS/olist_products_dataset.csv\")\n",
        "customers = pd.read_csv(\"/content/drive/MyDrive/OLIST_DATASETS/olist_customers_dataset.csv\")\n",
        "orders = pd.read_csv(\"/content/drive/MyDrive/OLIST_DATASETS/olist_orders_dataset.csv\")\n",
        "orders_items = pd.read_csv(\"/content/drive/MyDrive/OLIST_DATASETS/olist_order_items_dataset.csv\")"
      ],
      "metadata": {
        "id": "CJiOQouyRmQa"
      },
      "id": "CJiOQouyRmQa",
      "execution_count": 51,
      "outputs": []
    },
    {
      "cell_type": "code",
      "source": [
        "df_reviews =  psql.sqldf(\"select * from reviews\")\n",
        "df_reviews.head()"
      ],
      "metadata": {
        "colab": {
          "base_uri": "https://localhost:8080/",
          "height": 285
        },
        "id": "hmkD0ekBSQhy",
        "outputId": "614258a3-1f64-46c3-8d2c-888071ec4eaa"
      },
      "id": "hmkD0ekBSQhy",
      "execution_count": 46,
      "outputs": [
        {
          "output_type": "execute_result",
          "data": {
            "text/html": [
              "\n",
              "  <div id=\"df-c9e88dcd-d8a5-496c-8b59-7558af85c2cc\">\n",
              "    <div class=\"colab-df-container\">\n",
              "      <div>\n",
              "<style scoped>\n",
              "    .dataframe tbody tr th:only-of-type {\n",
              "        vertical-align: middle;\n",
              "    }\n",
              "\n",
              "    .dataframe tbody tr th {\n",
              "        vertical-align: top;\n",
              "    }\n",
              "\n",
              "    .dataframe thead th {\n",
              "        text-align: right;\n",
              "    }\n",
              "</style>\n",
              "<table border=\"1\" class=\"dataframe\">\n",
              "  <thead>\n",
              "    <tr style=\"text-align: right;\">\n",
              "      <th></th>\n",
              "      <th>review_id</th>\n",
              "      <th>order_id</th>\n",
              "      <th>review_score</th>\n",
              "      <th>review_comment_title</th>\n",
              "      <th>review_comment_message</th>\n",
              "      <th>review_creation_date</th>\n",
              "      <th>review_answer_timestamp</th>\n",
              "    </tr>\n",
              "  </thead>\n",
              "  <tbody>\n",
              "    <tr>\n",
              "      <th>0</th>\n",
              "      <td>7bc2406110b926393aa56f80a40eba40</td>\n",
              "      <td>73fc7af87114b39712e6da79b0a377eb</td>\n",
              "      <td>4</td>\n",
              "      <td>None</td>\n",
              "      <td>None</td>\n",
              "      <td>2018-01-18 00:00:00</td>\n",
              "      <td>2018-01-18 21:46:59</td>\n",
              "    </tr>\n",
              "    <tr>\n",
              "      <th>1</th>\n",
              "      <td>80e641a11e56f04c1ad469d5645fdfde</td>\n",
              "      <td>a548910a1c6147796b98fdf73dbeba33</td>\n",
              "      <td>5</td>\n",
              "      <td>None</td>\n",
              "      <td>None</td>\n",
              "      <td>2018-03-10 00:00:00</td>\n",
              "      <td>2018-03-11 03:05:13</td>\n",
              "    </tr>\n",
              "    <tr>\n",
              "      <th>2</th>\n",
              "      <td>228ce5500dc1d8e020d8d1322874b6f0</td>\n",
              "      <td>f9e4b658b201a9f2ecdecbb34bed034b</td>\n",
              "      <td>5</td>\n",
              "      <td>None</td>\n",
              "      <td>None</td>\n",
              "      <td>2018-02-17 00:00:00</td>\n",
              "      <td>2018-02-18 14:36:24</td>\n",
              "    </tr>\n",
              "    <tr>\n",
              "      <th>3</th>\n",
              "      <td>e64fb393e7b32834bb789ff8bb30750e</td>\n",
              "      <td>658677c97b385a9be170737859d3511b</td>\n",
              "      <td>5</td>\n",
              "      <td>None</td>\n",
              "      <td>Recebi bem antes do prazo estipulado.</td>\n",
              "      <td>2017-04-21 00:00:00</td>\n",
              "      <td>2017-04-21 22:02:06</td>\n",
              "    </tr>\n",
              "    <tr>\n",
              "      <th>4</th>\n",
              "      <td>f7c4243c7fe1938f181bec41a392bdeb</td>\n",
              "      <td>8e6bfb81e283fa7e4f11123a3fb894f1</td>\n",
              "      <td>5</td>\n",
              "      <td>None</td>\n",
              "      <td>Parabéns lojas lannister adorei comprar pela I...</td>\n",
              "      <td>2018-03-01 00:00:00</td>\n",
              "      <td>2018-03-02 10:26:53</td>\n",
              "    </tr>\n",
              "  </tbody>\n",
              "</table>\n",
              "</div>\n",
              "      <button class=\"colab-df-convert\" onclick=\"convertToInteractive('df-c9e88dcd-d8a5-496c-8b59-7558af85c2cc')\"\n",
              "              title=\"Convert this dataframe to an interactive table.\"\n",
              "              style=\"display:none;\">\n",
              "        \n",
              "  <svg xmlns=\"http://www.w3.org/2000/svg\" height=\"24px\"viewBox=\"0 0 24 24\"\n",
              "       width=\"24px\">\n",
              "    <path d=\"M0 0h24v24H0V0z\" fill=\"none\"/>\n",
              "    <path d=\"M18.56 5.44l.94 2.06.94-2.06 2.06-.94-2.06-.94-.94-2.06-.94 2.06-2.06.94zm-11 1L8.5 8.5l.94-2.06 2.06-.94-2.06-.94L8.5 2.5l-.94 2.06-2.06.94zm10 10l.94 2.06.94-2.06 2.06-.94-2.06-.94-.94-2.06-.94 2.06-2.06.94z\"/><path d=\"M17.41 7.96l-1.37-1.37c-.4-.4-.92-.59-1.43-.59-.52 0-1.04.2-1.43.59L10.3 9.45l-7.72 7.72c-.78.78-.78 2.05 0 2.83L4 21.41c.39.39.9.59 1.41.59.51 0 1.02-.2 1.41-.59l7.78-7.78 2.81-2.81c.8-.78.8-2.07 0-2.86zM5.41 20L4 18.59l7.72-7.72 1.47 1.35L5.41 20z\"/>\n",
              "  </svg>\n",
              "      </button>\n",
              "      \n",
              "  <style>\n",
              "    .colab-df-container {\n",
              "      display:flex;\n",
              "      flex-wrap:wrap;\n",
              "      gap: 12px;\n",
              "    }\n",
              "\n",
              "    .colab-df-convert {\n",
              "      background-color: #E8F0FE;\n",
              "      border: none;\n",
              "      border-radius: 50%;\n",
              "      cursor: pointer;\n",
              "      display: none;\n",
              "      fill: #1967D2;\n",
              "      height: 32px;\n",
              "      padding: 0 0 0 0;\n",
              "      width: 32px;\n",
              "    }\n",
              "\n",
              "    .colab-df-convert:hover {\n",
              "      background-color: #E2EBFA;\n",
              "      box-shadow: 0px 1px 2px rgba(60, 64, 67, 0.3), 0px 1px 3px 1px rgba(60, 64, 67, 0.15);\n",
              "      fill: #174EA6;\n",
              "    }\n",
              "\n",
              "    [theme=dark] .colab-df-convert {\n",
              "      background-color: #3B4455;\n",
              "      fill: #D2E3FC;\n",
              "    }\n",
              "\n",
              "    [theme=dark] .colab-df-convert:hover {\n",
              "      background-color: #434B5C;\n",
              "      box-shadow: 0px 1px 3px 1px rgba(0, 0, 0, 0.15);\n",
              "      filter: drop-shadow(0px 1px 2px rgba(0, 0, 0, 0.3));\n",
              "      fill: #FFFFFF;\n",
              "    }\n",
              "  </style>\n",
              "\n",
              "      <script>\n",
              "        const buttonEl =\n",
              "          document.querySelector('#df-c9e88dcd-d8a5-496c-8b59-7558af85c2cc button.colab-df-convert');\n",
              "        buttonEl.style.display =\n",
              "          google.colab.kernel.accessAllowed ? 'block' : 'none';\n",
              "\n",
              "        async function convertToInteractive(key) {\n",
              "          const element = document.querySelector('#df-c9e88dcd-d8a5-496c-8b59-7558af85c2cc');\n",
              "          const dataTable =\n",
              "            await google.colab.kernel.invokeFunction('convertToInteractive',\n",
              "                                                     [key], {});\n",
              "          if (!dataTable) return;\n",
              "\n",
              "          const docLinkHtml = 'Like what you see? Visit the ' +\n",
              "            '<a target=\"_blank\" href=https://colab.research.google.com/notebooks/data_table.ipynb>data table notebook</a>'\n",
              "            + ' to learn more about interactive tables.';\n",
              "          element.innerHTML = '';\n",
              "          dataTable['output_type'] = 'display_data';\n",
              "          await google.colab.output.renderOutput(dataTable, element);\n",
              "          const docLink = document.createElement('div');\n",
              "          docLink.innerHTML = docLinkHtml;\n",
              "          element.appendChild(docLink);\n",
              "        }\n",
              "      </script>\n",
              "    </div>\n",
              "  </div>\n",
              "  "
            ],
            "text/plain": [
              "                          review_id  ... review_answer_timestamp\n",
              "0  7bc2406110b926393aa56f80a40eba40  ...     2018-01-18 21:46:59\n",
              "1  80e641a11e56f04c1ad469d5645fdfde  ...     2018-03-11 03:05:13\n",
              "2  228ce5500dc1d8e020d8d1322874b6f0  ...     2018-02-18 14:36:24\n",
              "3  e64fb393e7b32834bb789ff8bb30750e  ...     2017-04-21 22:02:06\n",
              "4  f7c4243c7fe1938f181bec41a392bdeb  ...     2018-03-02 10:26:53\n",
              "\n",
              "[5 rows x 7 columns]"
            ]
          },
          "metadata": {},
          "execution_count": 46
        }
      ]
    },
    {
      "cell_type": "code",
      "source": [
        "df_customers =  psql.sqldf(\"select * from customers\")\n",
        "df_customers.head()"
      ],
      "metadata": {
        "colab": {
          "base_uri": "https://localhost:8080/",
          "height": 206
        },
        "id": "75vcEIz1Xv3a",
        "outputId": "cb438a03-efc9-4dd4-dbda-e311b8828803"
      },
      "id": "75vcEIz1Xv3a",
      "execution_count": 31,
      "outputs": [
        {
          "output_type": "execute_result",
          "data": {
            "text/html": [
              "\n",
              "  <div id=\"df-3572032c-f9b5-49cb-87d7-7618ecb51897\">\n",
              "    <div class=\"colab-df-container\">\n",
              "      <div>\n",
              "<style scoped>\n",
              "    .dataframe tbody tr th:only-of-type {\n",
              "        vertical-align: middle;\n",
              "    }\n",
              "\n",
              "    .dataframe tbody tr th {\n",
              "        vertical-align: top;\n",
              "    }\n",
              "\n",
              "    .dataframe thead th {\n",
              "        text-align: right;\n",
              "    }\n",
              "</style>\n",
              "<table border=\"1\" class=\"dataframe\">\n",
              "  <thead>\n",
              "    <tr style=\"text-align: right;\">\n",
              "      <th></th>\n",
              "      <th>customer_id</th>\n",
              "      <th>customer_unique_id</th>\n",
              "      <th>customer_zip_code_prefix</th>\n",
              "      <th>customer_city</th>\n",
              "      <th>customer_state</th>\n",
              "    </tr>\n",
              "  </thead>\n",
              "  <tbody>\n",
              "    <tr>\n",
              "      <th>0</th>\n",
              "      <td>06b8999e2fba1a1fbc88172c00ba8bc7</td>\n",
              "      <td>861eff4711a542e4b93843c6dd7febb0</td>\n",
              "      <td>14409</td>\n",
              "      <td>franca</td>\n",
              "      <td>SP</td>\n",
              "    </tr>\n",
              "    <tr>\n",
              "      <th>1</th>\n",
              "      <td>18955e83d337fd6b2def6b18a428ac77</td>\n",
              "      <td>290c77bc529b7ac935b93aa66c333dc3</td>\n",
              "      <td>9790</td>\n",
              "      <td>sao bernardo do campo</td>\n",
              "      <td>SP</td>\n",
              "    </tr>\n",
              "    <tr>\n",
              "      <th>2</th>\n",
              "      <td>4e7b3e00288586ebd08712fdd0374a03</td>\n",
              "      <td>060e732b5b29e8181a18229c7b0b2b5e</td>\n",
              "      <td>1151</td>\n",
              "      <td>sao paulo</td>\n",
              "      <td>SP</td>\n",
              "    </tr>\n",
              "    <tr>\n",
              "      <th>3</th>\n",
              "      <td>b2b6027bc5c5109e529d4dc6358b12c3</td>\n",
              "      <td>259dac757896d24d7702b9acbbff3f3c</td>\n",
              "      <td>8775</td>\n",
              "      <td>mogi das cruzes</td>\n",
              "      <td>SP</td>\n",
              "    </tr>\n",
              "    <tr>\n",
              "      <th>4</th>\n",
              "      <td>4f2d8ab171c80ec8364f7c12e35b23ad</td>\n",
              "      <td>345ecd01c38d18a9036ed96c73b8d066</td>\n",
              "      <td>13056</td>\n",
              "      <td>campinas</td>\n",
              "      <td>SP</td>\n",
              "    </tr>\n",
              "  </tbody>\n",
              "</table>\n",
              "</div>\n",
              "      <button class=\"colab-df-convert\" onclick=\"convertToInteractive('df-3572032c-f9b5-49cb-87d7-7618ecb51897')\"\n",
              "              title=\"Convert this dataframe to an interactive table.\"\n",
              "              style=\"display:none;\">\n",
              "        \n",
              "  <svg xmlns=\"http://www.w3.org/2000/svg\" height=\"24px\"viewBox=\"0 0 24 24\"\n",
              "       width=\"24px\">\n",
              "    <path d=\"M0 0h24v24H0V0z\" fill=\"none\"/>\n",
              "    <path d=\"M18.56 5.44l.94 2.06.94-2.06 2.06-.94-2.06-.94-.94-2.06-.94 2.06-2.06.94zm-11 1L8.5 8.5l.94-2.06 2.06-.94-2.06-.94L8.5 2.5l-.94 2.06-2.06.94zm10 10l.94 2.06.94-2.06 2.06-.94-2.06-.94-.94-2.06-.94 2.06-2.06.94z\"/><path d=\"M17.41 7.96l-1.37-1.37c-.4-.4-.92-.59-1.43-.59-.52 0-1.04.2-1.43.59L10.3 9.45l-7.72 7.72c-.78.78-.78 2.05 0 2.83L4 21.41c.39.39.9.59 1.41.59.51 0 1.02-.2 1.41-.59l7.78-7.78 2.81-2.81c.8-.78.8-2.07 0-2.86zM5.41 20L4 18.59l7.72-7.72 1.47 1.35L5.41 20z\"/>\n",
              "  </svg>\n",
              "      </button>\n",
              "      \n",
              "  <style>\n",
              "    .colab-df-container {\n",
              "      display:flex;\n",
              "      flex-wrap:wrap;\n",
              "      gap: 12px;\n",
              "    }\n",
              "\n",
              "    .colab-df-convert {\n",
              "      background-color: #E8F0FE;\n",
              "      border: none;\n",
              "      border-radius: 50%;\n",
              "      cursor: pointer;\n",
              "      display: none;\n",
              "      fill: #1967D2;\n",
              "      height: 32px;\n",
              "      padding: 0 0 0 0;\n",
              "      width: 32px;\n",
              "    }\n",
              "\n",
              "    .colab-df-convert:hover {\n",
              "      background-color: #E2EBFA;\n",
              "      box-shadow: 0px 1px 2px rgba(60, 64, 67, 0.3), 0px 1px 3px 1px rgba(60, 64, 67, 0.15);\n",
              "      fill: #174EA6;\n",
              "    }\n",
              "\n",
              "    [theme=dark] .colab-df-convert {\n",
              "      background-color: #3B4455;\n",
              "      fill: #D2E3FC;\n",
              "    }\n",
              "\n",
              "    [theme=dark] .colab-df-convert:hover {\n",
              "      background-color: #434B5C;\n",
              "      box-shadow: 0px 1px 3px 1px rgba(0, 0, 0, 0.15);\n",
              "      filter: drop-shadow(0px 1px 2px rgba(0, 0, 0, 0.3));\n",
              "      fill: #FFFFFF;\n",
              "    }\n",
              "  </style>\n",
              "\n",
              "      <script>\n",
              "        const buttonEl =\n",
              "          document.querySelector('#df-3572032c-f9b5-49cb-87d7-7618ecb51897 button.colab-df-convert');\n",
              "        buttonEl.style.display =\n",
              "          google.colab.kernel.accessAllowed ? 'block' : 'none';\n",
              "\n",
              "        async function convertToInteractive(key) {\n",
              "          const element = document.querySelector('#df-3572032c-f9b5-49cb-87d7-7618ecb51897');\n",
              "          const dataTable =\n",
              "            await google.colab.kernel.invokeFunction('convertToInteractive',\n",
              "                                                     [key], {});\n",
              "          if (!dataTable) return;\n",
              "\n",
              "          const docLinkHtml = 'Like what you see? Visit the ' +\n",
              "            '<a target=\"_blank\" href=https://colab.research.google.com/notebooks/data_table.ipynb>data table notebook</a>'\n",
              "            + ' to learn more about interactive tables.';\n",
              "          element.innerHTML = '';\n",
              "          dataTable['output_type'] = 'display_data';\n",
              "          await google.colab.output.renderOutput(dataTable, element);\n",
              "          const docLink = document.createElement('div');\n",
              "          docLink.innerHTML = docLinkHtml;\n",
              "          element.appendChild(docLink);\n",
              "        }\n",
              "      </script>\n",
              "    </div>\n",
              "  </div>\n",
              "  "
            ],
            "text/plain": [
              "                        customer_id  ... customer_state\n",
              "0  06b8999e2fba1a1fbc88172c00ba8bc7  ...             SP\n",
              "1  18955e83d337fd6b2def6b18a428ac77  ...             SP\n",
              "2  4e7b3e00288586ebd08712fdd0374a03  ...             SP\n",
              "3  b2b6027bc5c5109e529d4dc6358b12c3  ...             SP\n",
              "4  4f2d8ab171c80ec8364f7c12e35b23ad  ...             SP\n",
              "\n",
              "[5 rows x 5 columns]"
            ]
          },
          "metadata": {},
          "execution_count": 31
        }
      ]
    },
    {
      "cell_type": "code",
      "source": [
        "df_products =  psql.sqldf(\"select * from products\")\n",
        "df_products.head()"
      ],
      "metadata": {
        "colab": {
          "base_uri": "https://localhost:8080/",
          "height": 270
        },
        "id": "nvMogw_5Wkm1",
        "outputId": "beba89e4-72a2-4f17-9cbf-e195aa2d6d6c"
      },
      "id": "nvMogw_5Wkm1",
      "execution_count": 23,
      "outputs": [
        {
          "output_type": "execute_result",
          "data": {
            "text/html": [
              "\n",
              "  <div id=\"df-7025de3e-62e3-4116-bc05-80230a53a685\">\n",
              "    <div class=\"colab-df-container\">\n",
              "      <div>\n",
              "<style scoped>\n",
              "    .dataframe tbody tr th:only-of-type {\n",
              "        vertical-align: middle;\n",
              "    }\n",
              "\n",
              "    .dataframe tbody tr th {\n",
              "        vertical-align: top;\n",
              "    }\n",
              "\n",
              "    .dataframe thead th {\n",
              "        text-align: right;\n",
              "    }\n",
              "</style>\n",
              "<table border=\"1\" class=\"dataframe\">\n",
              "  <thead>\n",
              "    <tr style=\"text-align: right;\">\n",
              "      <th></th>\n",
              "      <th>product_id</th>\n",
              "      <th>product_category_name</th>\n",
              "      <th>product_name_lenght</th>\n",
              "      <th>product_description_lenght</th>\n",
              "      <th>product_photos_qty</th>\n",
              "      <th>product_weight_g</th>\n",
              "      <th>product_length_cm</th>\n",
              "      <th>product_height_cm</th>\n",
              "      <th>product_width_cm</th>\n",
              "    </tr>\n",
              "  </thead>\n",
              "  <tbody>\n",
              "    <tr>\n",
              "      <th>0</th>\n",
              "      <td>1e9e8ef04dbcff4541ed26657ea517e5</td>\n",
              "      <td>perfumaria</td>\n",
              "      <td>40.0</td>\n",
              "      <td>287.0</td>\n",
              "      <td>1.0</td>\n",
              "      <td>225.0</td>\n",
              "      <td>16.0</td>\n",
              "      <td>10.0</td>\n",
              "      <td>14.0</td>\n",
              "    </tr>\n",
              "    <tr>\n",
              "      <th>1</th>\n",
              "      <td>3aa071139cb16b67ca9e5dea641aaa2f</td>\n",
              "      <td>artes</td>\n",
              "      <td>44.0</td>\n",
              "      <td>276.0</td>\n",
              "      <td>1.0</td>\n",
              "      <td>1000.0</td>\n",
              "      <td>30.0</td>\n",
              "      <td>18.0</td>\n",
              "      <td>20.0</td>\n",
              "    </tr>\n",
              "    <tr>\n",
              "      <th>2</th>\n",
              "      <td>96bd76ec8810374ed1b65e291975717f</td>\n",
              "      <td>esporte_lazer</td>\n",
              "      <td>46.0</td>\n",
              "      <td>250.0</td>\n",
              "      <td>1.0</td>\n",
              "      <td>154.0</td>\n",
              "      <td>18.0</td>\n",
              "      <td>9.0</td>\n",
              "      <td>15.0</td>\n",
              "    </tr>\n",
              "    <tr>\n",
              "      <th>3</th>\n",
              "      <td>cef67bcfe19066a932b7673e239eb23d</td>\n",
              "      <td>bebes</td>\n",
              "      <td>27.0</td>\n",
              "      <td>261.0</td>\n",
              "      <td>1.0</td>\n",
              "      <td>371.0</td>\n",
              "      <td>26.0</td>\n",
              "      <td>4.0</td>\n",
              "      <td>26.0</td>\n",
              "    </tr>\n",
              "    <tr>\n",
              "      <th>4</th>\n",
              "      <td>9dc1a7de274444849c219cff195d0b71</td>\n",
              "      <td>utilidades_domesticas</td>\n",
              "      <td>37.0</td>\n",
              "      <td>402.0</td>\n",
              "      <td>4.0</td>\n",
              "      <td>625.0</td>\n",
              "      <td>20.0</td>\n",
              "      <td>17.0</td>\n",
              "      <td>13.0</td>\n",
              "    </tr>\n",
              "  </tbody>\n",
              "</table>\n",
              "</div>\n",
              "      <button class=\"colab-df-convert\" onclick=\"convertToInteractive('df-7025de3e-62e3-4116-bc05-80230a53a685')\"\n",
              "              title=\"Convert this dataframe to an interactive table.\"\n",
              "              style=\"display:none;\">\n",
              "        \n",
              "  <svg xmlns=\"http://www.w3.org/2000/svg\" height=\"24px\"viewBox=\"0 0 24 24\"\n",
              "       width=\"24px\">\n",
              "    <path d=\"M0 0h24v24H0V0z\" fill=\"none\"/>\n",
              "    <path d=\"M18.56 5.44l.94 2.06.94-2.06 2.06-.94-2.06-.94-.94-2.06-.94 2.06-2.06.94zm-11 1L8.5 8.5l.94-2.06 2.06-.94-2.06-.94L8.5 2.5l-.94 2.06-2.06.94zm10 10l.94 2.06.94-2.06 2.06-.94-2.06-.94-.94-2.06-.94 2.06-2.06.94z\"/><path d=\"M17.41 7.96l-1.37-1.37c-.4-.4-.92-.59-1.43-.59-.52 0-1.04.2-1.43.59L10.3 9.45l-7.72 7.72c-.78.78-.78 2.05 0 2.83L4 21.41c.39.39.9.59 1.41.59.51 0 1.02-.2 1.41-.59l7.78-7.78 2.81-2.81c.8-.78.8-2.07 0-2.86zM5.41 20L4 18.59l7.72-7.72 1.47 1.35L5.41 20z\"/>\n",
              "  </svg>\n",
              "      </button>\n",
              "      \n",
              "  <style>\n",
              "    .colab-df-container {\n",
              "      display:flex;\n",
              "      flex-wrap:wrap;\n",
              "      gap: 12px;\n",
              "    }\n",
              "\n",
              "    .colab-df-convert {\n",
              "      background-color: #E8F0FE;\n",
              "      border: none;\n",
              "      border-radius: 50%;\n",
              "      cursor: pointer;\n",
              "      display: none;\n",
              "      fill: #1967D2;\n",
              "      height: 32px;\n",
              "      padding: 0 0 0 0;\n",
              "      width: 32px;\n",
              "    }\n",
              "\n",
              "    .colab-df-convert:hover {\n",
              "      background-color: #E2EBFA;\n",
              "      box-shadow: 0px 1px 2px rgba(60, 64, 67, 0.3), 0px 1px 3px 1px rgba(60, 64, 67, 0.15);\n",
              "      fill: #174EA6;\n",
              "    }\n",
              "\n",
              "    [theme=dark] .colab-df-convert {\n",
              "      background-color: #3B4455;\n",
              "      fill: #D2E3FC;\n",
              "    }\n",
              "\n",
              "    [theme=dark] .colab-df-convert:hover {\n",
              "      background-color: #434B5C;\n",
              "      box-shadow: 0px 1px 3px 1px rgba(0, 0, 0, 0.15);\n",
              "      filter: drop-shadow(0px 1px 2px rgba(0, 0, 0, 0.3));\n",
              "      fill: #FFFFFF;\n",
              "    }\n",
              "  </style>\n",
              "\n",
              "      <script>\n",
              "        const buttonEl =\n",
              "          document.querySelector('#df-7025de3e-62e3-4116-bc05-80230a53a685 button.colab-df-convert');\n",
              "        buttonEl.style.display =\n",
              "          google.colab.kernel.accessAllowed ? 'block' : 'none';\n",
              "\n",
              "        async function convertToInteractive(key) {\n",
              "          const element = document.querySelector('#df-7025de3e-62e3-4116-bc05-80230a53a685');\n",
              "          const dataTable =\n",
              "            await google.colab.kernel.invokeFunction('convertToInteractive',\n",
              "                                                     [key], {});\n",
              "          if (!dataTable) return;\n",
              "\n",
              "          const docLinkHtml = 'Like what you see? Visit the ' +\n",
              "            '<a target=\"_blank\" href=https://colab.research.google.com/notebooks/data_table.ipynb>data table notebook</a>'\n",
              "            + ' to learn more about interactive tables.';\n",
              "          element.innerHTML = '';\n",
              "          dataTable['output_type'] = 'display_data';\n",
              "          await google.colab.output.renderOutput(dataTable, element);\n",
              "          const docLink = document.createElement('div');\n",
              "          docLink.innerHTML = docLinkHtml;\n",
              "          element.appendChild(docLink);\n",
              "        }\n",
              "      </script>\n",
              "    </div>\n",
              "  </div>\n",
              "  "
            ],
            "text/plain": [
              "                         product_id  ... product_width_cm\n",
              "0  1e9e8ef04dbcff4541ed26657ea517e5  ...             14.0\n",
              "1  3aa071139cb16b67ca9e5dea641aaa2f  ...             20.0\n",
              "2  96bd76ec8810374ed1b65e291975717f  ...             15.0\n",
              "3  cef67bcfe19066a932b7673e239eb23d  ...             26.0\n",
              "4  9dc1a7de274444849c219cff195d0b71  ...             13.0\n",
              "\n",
              "[5 rows x 9 columns]"
            ]
          },
          "metadata": {},
          "execution_count": 23
        }
      ]
    },
    {
      "cell_type": "code",
      "source": [
        "df_orders =  psql.sqldf(\"select * from orders\")\n",
        "df_orders.head()"
      ],
      "metadata": {
        "colab": {
          "base_uri": "https://localhost:8080/",
          "height": 270
        },
        "id": "aiu3qBF4S9st",
        "outputId": "8a1242e9-dfa1-4db9-9667-9f096967b33b"
      },
      "id": "aiu3qBF4S9st",
      "execution_count": 47,
      "outputs": [
        {
          "output_type": "execute_result",
          "data": {
            "text/html": [
              "\n",
              "  <div id=\"df-d13f1fa4-c382-4742-b67b-0778e28ecc4c\">\n",
              "    <div class=\"colab-df-container\">\n",
              "      <div>\n",
              "<style scoped>\n",
              "    .dataframe tbody tr th:only-of-type {\n",
              "        vertical-align: middle;\n",
              "    }\n",
              "\n",
              "    .dataframe tbody tr th {\n",
              "        vertical-align: top;\n",
              "    }\n",
              "\n",
              "    .dataframe thead th {\n",
              "        text-align: right;\n",
              "    }\n",
              "</style>\n",
              "<table border=\"1\" class=\"dataframe\">\n",
              "  <thead>\n",
              "    <tr style=\"text-align: right;\">\n",
              "      <th></th>\n",
              "      <th>order_id</th>\n",
              "      <th>customer_id</th>\n",
              "      <th>order_status</th>\n",
              "      <th>order_purchase_timestamp</th>\n",
              "      <th>order_approved_at</th>\n",
              "      <th>order_delivered_carrier_date</th>\n",
              "      <th>order_delivered_customer_date</th>\n",
              "      <th>order_estimated_delivery_date</th>\n",
              "    </tr>\n",
              "  </thead>\n",
              "  <tbody>\n",
              "    <tr>\n",
              "      <th>0</th>\n",
              "      <td>e481f51cbdc54678b7cc49136f2d6af7</td>\n",
              "      <td>9ef432eb6251297304e76186b10a928d</td>\n",
              "      <td>delivered</td>\n",
              "      <td>2017-10-02 10:56:33</td>\n",
              "      <td>2017-10-02 11:07:15</td>\n",
              "      <td>2017-10-04 19:55:00</td>\n",
              "      <td>2017-10-10 21:25:13</td>\n",
              "      <td>2017-10-18 00:00:00</td>\n",
              "    </tr>\n",
              "    <tr>\n",
              "      <th>1</th>\n",
              "      <td>53cdb2fc8bc7dce0b6741e2150273451</td>\n",
              "      <td>b0830fb4747a6c6d20dea0b8c802d7ef</td>\n",
              "      <td>delivered</td>\n",
              "      <td>2018-07-24 20:41:37</td>\n",
              "      <td>2018-07-26 03:24:27</td>\n",
              "      <td>2018-07-26 14:31:00</td>\n",
              "      <td>2018-08-07 15:27:45</td>\n",
              "      <td>2018-08-13 00:00:00</td>\n",
              "    </tr>\n",
              "    <tr>\n",
              "      <th>2</th>\n",
              "      <td>47770eb9100c2d0c44946d9cf07ec65d</td>\n",
              "      <td>41ce2a54c0b03bf3443c3d931a367089</td>\n",
              "      <td>delivered</td>\n",
              "      <td>2018-08-08 08:38:49</td>\n",
              "      <td>2018-08-08 08:55:23</td>\n",
              "      <td>2018-08-08 13:50:00</td>\n",
              "      <td>2018-08-17 18:06:29</td>\n",
              "      <td>2018-09-04 00:00:00</td>\n",
              "    </tr>\n",
              "    <tr>\n",
              "      <th>3</th>\n",
              "      <td>949d5b44dbf5de918fe9c16f97b45f8a</td>\n",
              "      <td>f88197465ea7920adcdbec7375364d82</td>\n",
              "      <td>delivered</td>\n",
              "      <td>2017-11-18 19:28:06</td>\n",
              "      <td>2017-11-18 19:45:59</td>\n",
              "      <td>2017-11-22 13:39:59</td>\n",
              "      <td>2017-12-02 00:28:42</td>\n",
              "      <td>2017-12-15 00:00:00</td>\n",
              "    </tr>\n",
              "    <tr>\n",
              "      <th>4</th>\n",
              "      <td>ad21c59c0840e6cb83a9ceb5573f8159</td>\n",
              "      <td>8ab97904e6daea8866dbdbc4fb7aad2c</td>\n",
              "      <td>delivered</td>\n",
              "      <td>2018-02-13 21:18:39</td>\n",
              "      <td>2018-02-13 22:20:29</td>\n",
              "      <td>2018-02-14 19:46:34</td>\n",
              "      <td>2018-02-16 18:17:02</td>\n",
              "      <td>2018-02-26 00:00:00</td>\n",
              "    </tr>\n",
              "  </tbody>\n",
              "</table>\n",
              "</div>\n",
              "      <button class=\"colab-df-convert\" onclick=\"convertToInteractive('df-d13f1fa4-c382-4742-b67b-0778e28ecc4c')\"\n",
              "              title=\"Convert this dataframe to an interactive table.\"\n",
              "              style=\"display:none;\">\n",
              "        \n",
              "  <svg xmlns=\"http://www.w3.org/2000/svg\" height=\"24px\"viewBox=\"0 0 24 24\"\n",
              "       width=\"24px\">\n",
              "    <path d=\"M0 0h24v24H0V0z\" fill=\"none\"/>\n",
              "    <path d=\"M18.56 5.44l.94 2.06.94-2.06 2.06-.94-2.06-.94-.94-2.06-.94 2.06-2.06.94zm-11 1L8.5 8.5l.94-2.06 2.06-.94-2.06-.94L8.5 2.5l-.94 2.06-2.06.94zm10 10l.94 2.06.94-2.06 2.06-.94-2.06-.94-.94-2.06-.94 2.06-2.06.94z\"/><path d=\"M17.41 7.96l-1.37-1.37c-.4-.4-.92-.59-1.43-.59-.52 0-1.04.2-1.43.59L10.3 9.45l-7.72 7.72c-.78.78-.78 2.05 0 2.83L4 21.41c.39.39.9.59 1.41.59.51 0 1.02-.2 1.41-.59l7.78-7.78 2.81-2.81c.8-.78.8-2.07 0-2.86zM5.41 20L4 18.59l7.72-7.72 1.47 1.35L5.41 20z\"/>\n",
              "  </svg>\n",
              "      </button>\n",
              "      \n",
              "  <style>\n",
              "    .colab-df-container {\n",
              "      display:flex;\n",
              "      flex-wrap:wrap;\n",
              "      gap: 12px;\n",
              "    }\n",
              "\n",
              "    .colab-df-convert {\n",
              "      background-color: #E8F0FE;\n",
              "      border: none;\n",
              "      border-radius: 50%;\n",
              "      cursor: pointer;\n",
              "      display: none;\n",
              "      fill: #1967D2;\n",
              "      height: 32px;\n",
              "      padding: 0 0 0 0;\n",
              "      width: 32px;\n",
              "    }\n",
              "\n",
              "    .colab-df-convert:hover {\n",
              "      background-color: #E2EBFA;\n",
              "      box-shadow: 0px 1px 2px rgba(60, 64, 67, 0.3), 0px 1px 3px 1px rgba(60, 64, 67, 0.15);\n",
              "      fill: #174EA6;\n",
              "    }\n",
              "\n",
              "    [theme=dark] .colab-df-convert {\n",
              "      background-color: #3B4455;\n",
              "      fill: #D2E3FC;\n",
              "    }\n",
              "\n",
              "    [theme=dark] .colab-df-convert:hover {\n",
              "      background-color: #434B5C;\n",
              "      box-shadow: 0px 1px 3px 1px rgba(0, 0, 0, 0.15);\n",
              "      filter: drop-shadow(0px 1px 2px rgba(0, 0, 0, 0.3));\n",
              "      fill: #FFFFFF;\n",
              "    }\n",
              "  </style>\n",
              "\n",
              "      <script>\n",
              "        const buttonEl =\n",
              "          document.querySelector('#df-d13f1fa4-c382-4742-b67b-0778e28ecc4c button.colab-df-convert');\n",
              "        buttonEl.style.display =\n",
              "          google.colab.kernel.accessAllowed ? 'block' : 'none';\n",
              "\n",
              "        async function convertToInteractive(key) {\n",
              "          const element = document.querySelector('#df-d13f1fa4-c382-4742-b67b-0778e28ecc4c');\n",
              "          const dataTable =\n",
              "            await google.colab.kernel.invokeFunction('convertToInteractive',\n",
              "                                                     [key], {});\n",
              "          if (!dataTable) return;\n",
              "\n",
              "          const docLinkHtml = 'Like what you see? Visit the ' +\n",
              "            '<a target=\"_blank\" href=https://colab.research.google.com/notebooks/data_table.ipynb>data table notebook</a>'\n",
              "            + ' to learn more about interactive tables.';\n",
              "          element.innerHTML = '';\n",
              "          dataTable['output_type'] = 'display_data';\n",
              "          await google.colab.output.renderOutput(dataTable, element);\n",
              "          const docLink = document.createElement('div');\n",
              "          docLink.innerHTML = docLinkHtml;\n",
              "          element.appendChild(docLink);\n",
              "        }\n",
              "      </script>\n",
              "    </div>\n",
              "  </div>\n",
              "  "
            ],
            "text/plain": [
              "                           order_id  ... order_estimated_delivery_date\n",
              "0  e481f51cbdc54678b7cc49136f2d6af7  ...           2017-10-18 00:00:00\n",
              "1  53cdb2fc8bc7dce0b6741e2150273451  ...           2018-08-13 00:00:00\n",
              "2  47770eb9100c2d0c44946d9cf07ec65d  ...           2018-09-04 00:00:00\n",
              "3  949d5b44dbf5de918fe9c16f97b45f8a  ...           2017-12-15 00:00:00\n",
              "4  ad21c59c0840e6cb83a9ceb5573f8159  ...           2018-02-26 00:00:00\n",
              "\n",
              "[5 rows x 8 columns]"
            ]
          },
          "metadata": {},
          "execution_count": 47
        }
      ]
    },
    {
      "cell_type": "code",
      "execution_count": 52,
      "id": "1b4217b8",
      "metadata": {
        "ExecuteTime": {
          "end_time": "2021-12-28T22:18:19.289925Z",
          "start_time": "2021-12-28T22:18:19.278924Z"
        },
        "id": "1b4217b8"
      },
      "outputs": [],
      "source": [
        "query = '''SELECT REVISAO.REVIEW_ID,\n",
        "                  REVISAO.REVIEW_SCORE,\n",
        "                  REVISAO.REVIEW_COMMENT_TITLE,\n",
        "                  REVISAO.REVIEW_COMMENT_MESSAGE,\n",
        "                  REVISAO.REVIEW_CREATION_DATE,\n",
        "                  PEDIDOS.ORDER_STATUS,\n",
        "                  PEDIDOS.ORDER_APPROVED_AT,\n",
        "                  PEDIDOS.ORDER_DELIVERED_CARRIER_DATE,\n",
        "                  PEDIDOS.ORDER_ESTIMATED_DELIVERY_DATE,\n",
        "                  CLIENTES.CUSTOMER_STATE,\n",
        "                  PRODUTOS.PRODUCT_CATEGORY_NAME\n",
        "           FROM reviews REVISAO\n",
        "                INNER JOIN orders PEDIDOS\n",
        "                ON REVISAO.ORDER_ID = PEDIDOS.ORDER_ID\n",
        "                INNER JOIN customers CLIENTES\n",
        "                ON CLIENTES.CUSTOMER_ID = PEDIDOS.CUSTOMER_ID\n",
        "                INNER JOIN orders_items ITENS \n",
        "                ON PEDIDOS.ORDER_ID = ITENS.ORDER_ID\n",
        "                INNER JOIN products PRODUTOS \n",
        "                ON PRODUTOS.PRODUCT_ID = ITENS.PRODUCT_ID'''"
      ]
    },
    {
      "cell_type": "code",
      "source": [
        "df = psql.sqldf(query)"
      ],
      "metadata": {
        "id": "DPOvZHhhTXRm"
      },
      "id": "DPOvZHhhTXRm",
      "execution_count": 56,
      "outputs": []
    },
    {
      "cell_type": "markdown",
      "id": "af8c7af2",
      "metadata": {
        "id": "af8c7af2"
      },
      "source": [
        "## DATA DESCRIPTION "
      ]
    },
    {
      "cell_type": "code",
      "execution_count": 57,
      "id": "1f913416",
      "metadata": {
        "ExecuteTime": {
          "end_time": "2021-12-28T22:18:35.714896Z",
          "start_time": "2021-12-28T22:18:35.709899Z"
        },
        "colab": {
          "base_uri": "https://localhost:8080/"
        },
        "id": "1f913416",
        "outputId": "49c96660-4c39-40f9-b880-04ae820e4e2d"
      },
      "outputs": [
        {
          "output_type": "execute_result",
          "data": {
            "text/plain": [
              "(113322, 11)"
            ]
          },
          "metadata": {},
          "execution_count": 57
        }
      ],
      "source": [
        "df.shape"
      ]
    },
    {
      "cell_type": "code",
      "execution_count": 58,
      "id": "073fa95f",
      "metadata": {
        "ExecuteTime": {
          "end_time": "2021-12-28T22:18:36.251375Z",
          "start_time": "2021-12-28T22:18:36.165374Z"
        },
        "colab": {
          "base_uri": "https://localhost:8080/"
        },
        "id": "073fa95f",
        "outputId": "ef6878b7-3a06-44f8-c31b-be816edb4628"
      },
      "outputs": [
        {
          "output_type": "execute_result",
          "data": {
            "text/plain": [
              "review_id                            0\n",
              "review_score                         0\n",
              "review_comment_title             99700\n",
              "review_comment_message           64730\n",
              "review_creation_date                 0\n",
              "order_status                         0\n",
              "order_approved_at                   15\n",
              "order_delivered_carrier_date      1203\n",
              "order_estimated_delivery_date        0\n",
              "customer_state                       0\n",
              "product_category_name             1612\n",
              "dtype: int64"
            ]
          },
          "metadata": {},
          "execution_count": 58
        }
      ],
      "source": [
        "df.isna().sum()"
      ]
    },
    {
      "cell_type": "code",
      "execution_count": 59,
      "id": "26788c85",
      "metadata": {
        "ExecuteTime": {
          "end_time": "2021-12-28T22:18:37.126138Z",
          "start_time": "2021-12-28T22:18:37.118138Z"
        },
        "colab": {
          "base_uri": "https://localhost:8080/"
        },
        "id": "26788c85",
        "outputId": "ef007e80-8884-4255-967d-ce903380046b"
      },
      "outputs": [
        {
          "output_type": "execute_result",
          "data": {
            "text/plain": [
              "review_id                        object\n",
              "review_score                      int64\n",
              "review_comment_title             object\n",
              "review_comment_message           object\n",
              "review_creation_date             object\n",
              "order_status                     object\n",
              "order_approved_at                object\n",
              "order_delivered_carrier_date     object\n",
              "order_estimated_delivery_date    object\n",
              "customer_state                   object\n",
              "product_category_name            object\n",
              "dtype: object"
            ]
          },
          "metadata": {},
          "execution_count": 59
        }
      ],
      "source": [
        "df.dtypes"
      ]
    },
    {
      "cell_type": "code",
      "execution_count": 60,
      "id": "6c6c553a",
      "metadata": {
        "ExecuteTime": {
          "end_time": "2021-12-28T22:18:38.308769Z",
          "start_time": "2021-12-28T22:18:38.302769Z"
        },
        "colab": {
          "base_uri": "https://localhost:8080/"
        },
        "id": "6c6c553a",
        "outputId": "a5b03d37-d4fc-47c0-8d67-f5e5abc68885"
      },
      "outputs": [
        {
          "output_type": "execute_result",
          "data": {
            "text/plain": [
              "Index(['review_id', 'review_score', 'review_comment_title',\n",
              "       'review_comment_message', 'review_creation_date', 'order_status',\n",
              "       'order_approved_at', 'order_delivered_carrier_date',\n",
              "       'order_estimated_delivery_date', 'customer_state',\n",
              "       'product_category_name'],\n",
              "      dtype='object')"
            ]
          },
          "metadata": {},
          "execution_count": 60
        }
      ],
      "source": [
        "df.columns"
      ]
    },
    {
      "cell_type": "markdown",
      "id": "d3ade9f2",
      "metadata": {
        "id": "d3ade9f2"
      },
      "source": [
        "## PREPROCESSING"
      ]
    },
    {
      "cell_type": "code",
      "execution_count": 61,
      "id": "4c2648fe",
      "metadata": {
        "ExecuteTime": {
          "end_time": "2021-12-28T22:18:41.491241Z",
          "start_time": "2021-12-28T22:18:41.469243Z"
        },
        "id": "4c2648fe"
      },
      "outputs": [],
      "source": [
        "df1 = df.copy()"
      ]
    },
    {
      "cell_type": "code",
      "execution_count": 62,
      "id": "7b129260",
      "metadata": {
        "ExecuteTime": {
          "end_time": "2021-12-28T22:18:41.817030Z",
          "start_time": "2021-12-28T22:18:41.790033Z"
        },
        "colab": {
          "base_uri": "https://localhost:8080/",
          "height": 287
        },
        "id": "7b129260",
        "outputId": "54259a93-eeb4-42f3-a71f-b49f68453a6e"
      },
      "outputs": [
        {
          "output_type": "execute_result",
          "data": {
            "text/html": [
              "\n",
              "  <div id=\"df-918b11fe-a635-47a8-8585-ac309dd3e328\">\n",
              "    <div class=\"colab-df-container\">\n",
              "      <div>\n",
              "<style scoped>\n",
              "    .dataframe tbody tr th:only-of-type {\n",
              "        vertical-align: middle;\n",
              "    }\n",
              "\n",
              "    .dataframe tbody tr th {\n",
              "        vertical-align: top;\n",
              "    }\n",
              "\n",
              "    .dataframe thead th {\n",
              "        text-align: right;\n",
              "    }\n",
              "</style>\n",
              "<table border=\"1\" class=\"dataframe\">\n",
              "  <thead>\n",
              "    <tr style=\"text-align: right;\">\n",
              "      <th></th>\n",
              "      <th>review_id</th>\n",
              "      <th>review_score</th>\n",
              "      <th>review_comment_title</th>\n",
              "      <th>review_comment_message</th>\n",
              "      <th>review_creation_date</th>\n",
              "      <th>order_status</th>\n",
              "      <th>order_approved_at</th>\n",
              "      <th>order_delivered_carrier_date</th>\n",
              "      <th>order_estimated_delivery_date</th>\n",
              "      <th>customer_state</th>\n",
              "      <th>product_category_name</th>\n",
              "    </tr>\n",
              "  </thead>\n",
              "  <tbody>\n",
              "    <tr>\n",
              "      <th>0</th>\n",
              "      <td>7bc2406110b926393aa56f80a40eba40</td>\n",
              "      <td>4</td>\n",
              "      <td>None</td>\n",
              "      <td>None</td>\n",
              "      <td>2018-01-18 00:00:00</td>\n",
              "      <td>delivered</td>\n",
              "      <td>2018-01-11 15:47:59</td>\n",
              "      <td>2018-01-12 21:57:22</td>\n",
              "      <td>2018-02-02 00:00:00</td>\n",
              "      <td>SP</td>\n",
              "      <td>esporte_lazer</td>\n",
              "    </tr>\n",
              "    <tr>\n",
              "      <th>1</th>\n",
              "      <td>7bc2406110b926393aa56f80a40eba40</td>\n",
              "      <td>4</td>\n",
              "      <td>None</td>\n",
              "      <td>None</td>\n",
              "      <td>2018-01-18 00:00:00</td>\n",
              "      <td>delivered</td>\n",
              "      <td>2018-01-11 15:47:59</td>\n",
              "      <td>2018-01-12 21:57:22</td>\n",
              "      <td>2018-02-02 00:00:00</td>\n",
              "      <td>SP</td>\n",
              "      <td>esporte_lazer</td>\n",
              "    </tr>\n",
              "    <tr>\n",
              "      <th>2</th>\n",
              "      <td>80e641a11e56f04c1ad469d5645fdfde</td>\n",
              "      <td>5</td>\n",
              "      <td>None</td>\n",
              "      <td>None</td>\n",
              "      <td>2018-03-10 00:00:00</td>\n",
              "      <td>delivered</td>\n",
              "      <td>2018-02-28 12:48:39</td>\n",
              "      <td>2018-03-02 19:08:15</td>\n",
              "      <td>2018-03-14 00:00:00</td>\n",
              "      <td>SP</td>\n",
              "      <td>informatica_acessorios</td>\n",
              "    </tr>\n",
              "    <tr>\n",
              "      <th>3</th>\n",
              "      <td>228ce5500dc1d8e020d8d1322874b6f0</td>\n",
              "      <td>5</td>\n",
              "      <td>None</td>\n",
              "      <td>None</td>\n",
              "      <td>2018-02-17 00:00:00</td>\n",
              "      <td>delivered</td>\n",
              "      <td>2018-02-03 10:33:41</td>\n",
              "      <td>2018-02-06 16:18:28</td>\n",
              "      <td>2018-03-09 00:00:00</td>\n",
              "      <td>BA</td>\n",
              "      <td>informatica_acessorios</td>\n",
              "    </tr>\n",
              "    <tr>\n",
              "      <th>4</th>\n",
              "      <td>e64fb393e7b32834bb789ff8bb30750e</td>\n",
              "      <td>5</td>\n",
              "      <td>None</td>\n",
              "      <td>Recebi bem antes do prazo estipulado.</td>\n",
              "      <td>2017-04-21 00:00:00</td>\n",
              "      <td>delivered</td>\n",
              "      <td>2017-04-09 17:55:19</td>\n",
              "      <td>2017-04-10 14:24:47</td>\n",
              "      <td>2017-05-10 00:00:00</td>\n",
              "      <td>SC</td>\n",
              "      <td>ferramentas_jardim</td>\n",
              "    </tr>\n",
              "  </tbody>\n",
              "</table>\n",
              "</div>\n",
              "      <button class=\"colab-df-convert\" onclick=\"convertToInteractive('df-918b11fe-a635-47a8-8585-ac309dd3e328')\"\n",
              "              title=\"Convert this dataframe to an interactive table.\"\n",
              "              style=\"display:none;\">\n",
              "        \n",
              "  <svg xmlns=\"http://www.w3.org/2000/svg\" height=\"24px\"viewBox=\"0 0 24 24\"\n",
              "       width=\"24px\">\n",
              "    <path d=\"M0 0h24v24H0V0z\" fill=\"none\"/>\n",
              "    <path d=\"M18.56 5.44l.94 2.06.94-2.06 2.06-.94-2.06-.94-.94-2.06-.94 2.06-2.06.94zm-11 1L8.5 8.5l.94-2.06 2.06-.94-2.06-.94L8.5 2.5l-.94 2.06-2.06.94zm10 10l.94 2.06.94-2.06 2.06-.94-2.06-.94-.94-2.06-.94 2.06-2.06.94z\"/><path d=\"M17.41 7.96l-1.37-1.37c-.4-.4-.92-.59-1.43-.59-.52 0-1.04.2-1.43.59L10.3 9.45l-7.72 7.72c-.78.78-.78 2.05 0 2.83L4 21.41c.39.39.9.59 1.41.59.51 0 1.02-.2 1.41-.59l7.78-7.78 2.81-2.81c.8-.78.8-2.07 0-2.86zM5.41 20L4 18.59l7.72-7.72 1.47 1.35L5.41 20z\"/>\n",
              "  </svg>\n",
              "      </button>\n",
              "      \n",
              "  <style>\n",
              "    .colab-df-container {\n",
              "      display:flex;\n",
              "      flex-wrap:wrap;\n",
              "      gap: 12px;\n",
              "    }\n",
              "\n",
              "    .colab-df-convert {\n",
              "      background-color: #E8F0FE;\n",
              "      border: none;\n",
              "      border-radius: 50%;\n",
              "      cursor: pointer;\n",
              "      display: none;\n",
              "      fill: #1967D2;\n",
              "      height: 32px;\n",
              "      padding: 0 0 0 0;\n",
              "      width: 32px;\n",
              "    }\n",
              "\n",
              "    .colab-df-convert:hover {\n",
              "      background-color: #E2EBFA;\n",
              "      box-shadow: 0px 1px 2px rgba(60, 64, 67, 0.3), 0px 1px 3px 1px rgba(60, 64, 67, 0.15);\n",
              "      fill: #174EA6;\n",
              "    }\n",
              "\n",
              "    [theme=dark] .colab-df-convert {\n",
              "      background-color: #3B4455;\n",
              "      fill: #D2E3FC;\n",
              "    }\n",
              "\n",
              "    [theme=dark] .colab-df-convert:hover {\n",
              "      background-color: #434B5C;\n",
              "      box-shadow: 0px 1px 3px 1px rgba(0, 0, 0, 0.15);\n",
              "      filter: drop-shadow(0px 1px 2px rgba(0, 0, 0, 0.3));\n",
              "      fill: #FFFFFF;\n",
              "    }\n",
              "  </style>\n",
              "\n",
              "      <script>\n",
              "        const buttonEl =\n",
              "          document.querySelector('#df-918b11fe-a635-47a8-8585-ac309dd3e328 button.colab-df-convert');\n",
              "        buttonEl.style.display =\n",
              "          google.colab.kernel.accessAllowed ? 'block' : 'none';\n",
              "\n",
              "        async function convertToInteractive(key) {\n",
              "          const element = document.querySelector('#df-918b11fe-a635-47a8-8585-ac309dd3e328');\n",
              "          const dataTable =\n",
              "            await google.colab.kernel.invokeFunction('convertToInteractive',\n",
              "                                                     [key], {});\n",
              "          if (!dataTable) return;\n",
              "\n",
              "          const docLinkHtml = 'Like what you see? Visit the ' +\n",
              "            '<a target=\"_blank\" href=https://colab.research.google.com/notebooks/data_table.ipynb>data table notebook</a>'\n",
              "            + ' to learn more about interactive tables.';\n",
              "          element.innerHTML = '';\n",
              "          dataTable['output_type'] = 'display_data';\n",
              "          await google.colab.output.renderOutput(dataTable, element);\n",
              "          const docLink = document.createElement('div');\n",
              "          docLink.innerHTML = docLinkHtml;\n",
              "          element.appendChild(docLink);\n",
              "        }\n",
              "      </script>\n",
              "    </div>\n",
              "  </div>\n",
              "  "
            ],
            "text/plain": [
              "                          review_id  ...   product_category_name\n",
              "0  7bc2406110b926393aa56f80a40eba40  ...           esporte_lazer\n",
              "1  7bc2406110b926393aa56f80a40eba40  ...           esporte_lazer\n",
              "2  80e641a11e56f04c1ad469d5645fdfde  ...  informatica_acessorios\n",
              "3  228ce5500dc1d8e020d8d1322874b6f0  ...  informatica_acessorios\n",
              "4  e64fb393e7b32834bb789ff8bb30750e  ...      ferramentas_jardim\n",
              "\n",
              "[5 rows x 11 columns]"
            ]
          },
          "metadata": {},
          "execution_count": 62
        }
      ],
      "source": [
        "df1.head()"
      ]
    },
    {
      "cell_type": "code",
      "execution_count": 63,
      "id": "9e47d84f",
      "metadata": {
        "ExecuteTime": {
          "end_time": "2021-12-28T22:18:46.608451Z",
          "start_time": "2021-12-28T22:18:43.526453Z"
        },
        "colab": {
          "base_uri": "https://localhost:8080/"
        },
        "id": "9e47d84f",
        "outputId": "0bc6920c-107d-422b-f2bf-a3c59e8d90b5"
      },
      "outputs": [
        {
          "output_type": "stream",
          "name": "stdout",
          "text": [
            "CPU times: user 2.49 s, sys: 50.3 ms, total: 2.54 s\n",
            "Wall time: 2.55 s\n"
          ]
        }
      ],
      "source": [
        "%%time\n",
        "\n",
        "df1 = df1.drop_duplicates()\n",
        "\n",
        "# rename columns\n",
        "cols = ['review_id', 'score', 'review_title', 'review_message', 'review_date',\n",
        "        'order_status', 'order_approved','delivered_carrier','estimated_delivery',\n",
        "        'customer_state', 'product_category']\n",
        "df1.columns = map(str.lower, cols)\n",
        "\n",
        "#Change types \n",
        "df1['score'] = df1['score'].astype(int)\n",
        "\n",
        "# Parse Dates to datetime pandas\n",
        "for col in df1[['review_date', 'order_approved','delivered_carrier','estimated_delivery']]:\n",
        "    df1[col] = pd.to_datetime(df1[col])\n",
        "\n",
        "# check if there is a empty values. If true, fill With NaN\n",
        "for col in df1:\n",
        "    df1[col] = df1[col].apply(lambda x: np.nan if x == '' else x )\n",
        "    \n",
        "#ordering columns\n",
        "df1 = df1[['review_id','review_date', 'order_approved','delivered_carrier','estimated_delivery', \n",
        "            'product_category','order_status','review_title', 'review_message','customer_state','score']]"
      ]
    },
    {
      "cell_type": "code",
      "execution_count": 64,
      "id": "d313a41c",
      "metadata": {
        "ExecuteTime": {
          "end_time": "2021-12-28T22:18:53.025609Z",
          "start_time": "2021-12-28T22:18:52.973611Z"
        },
        "colab": {
          "base_uri": "https://localhost:8080/"
        },
        "id": "d313a41c",
        "outputId": "4b631d00-2b8a-4977-bcac-bd4c1b03b735"
      },
      "outputs": [
        {
          "output_type": "execute_result",
          "data": {
            "text/plain": [
              "review_id                 0\n",
              "review_date               0\n",
              "order_approved           14\n",
              "delivered_carrier      1018\n",
              "estimated_delivery        0\n",
              "product_category       1460\n",
              "order_status              0\n",
              "review_title          88243\n",
              "review_message        58317\n",
              "customer_state            0\n",
              "score                     0\n",
              "dtype: int64"
            ]
          },
          "metadata": {},
          "execution_count": 64
        }
      ],
      "source": [
        "df1.isna().sum()"
      ]
    },
    {
      "cell_type": "code",
      "execution_count": 65,
      "id": "ffa53710",
      "metadata": {
        "ExecuteTime": {
          "end_time": "2021-12-28T22:18:53.857424Z",
          "start_time": "2021-12-28T22:18:53.838424Z"
        },
        "scrolled": true,
        "colab": {
          "base_uri": "https://localhost:8080/",
          "height": 311
        },
        "id": "ffa53710",
        "outputId": "c0cbed32-a753-459f-e51b-2678db40e714"
      },
      "outputs": [
        {
          "output_type": "execute_result",
          "data": {
            "text/html": [
              "\n",
              "  <div id=\"df-55007a25-98e8-42a0-a287-f027e75fb292\">\n",
              "    <div class=\"colab-df-container\">\n",
              "      <div>\n",
              "<style scoped>\n",
              "    .dataframe tbody tr th:only-of-type {\n",
              "        vertical-align: middle;\n",
              "    }\n",
              "\n",
              "    .dataframe tbody tr th {\n",
              "        vertical-align: top;\n",
              "    }\n",
              "\n",
              "    .dataframe thead th {\n",
              "        text-align: right;\n",
              "    }\n",
              "</style>\n",
              "<table border=\"1\" class=\"dataframe\">\n",
              "  <thead>\n",
              "    <tr style=\"text-align: right;\">\n",
              "      <th></th>\n",
              "      <th>review_id</th>\n",
              "      <th>review_date</th>\n",
              "      <th>order_approved</th>\n",
              "      <th>delivered_carrier</th>\n",
              "      <th>estimated_delivery</th>\n",
              "      <th>product_category</th>\n",
              "      <th>order_status</th>\n",
              "      <th>review_title</th>\n",
              "      <th>review_message</th>\n",
              "      <th>customer_state</th>\n",
              "      <th>score</th>\n",
              "    </tr>\n",
              "  </thead>\n",
              "  <tbody>\n",
              "    <tr>\n",
              "      <th>39838</th>\n",
              "      <td>cccba75094774cb11c191b76c3ba5923</td>\n",
              "      <td>2017-12-06</td>\n",
              "      <td>2017-11-22 10:59:23</td>\n",
              "      <td>2017-11-23 17:26:43</td>\n",
              "      <td>2017-12-12</td>\n",
              "      <td>informatica_acessorios</td>\n",
              "      <td>delivered</td>\n",
              "      <td>None</td>\n",
              "      <td>None</td>\n",
              "      <td>SP</td>\n",
              "      <td>5</td>\n",
              "    </tr>\n",
              "    <tr>\n",
              "      <th>18409</th>\n",
              "      <td>f3669636a59b47fd26fd65a6509a21ea</td>\n",
              "      <td>2018-01-12</td>\n",
              "      <td>2018-01-06 21:46:48</td>\n",
              "      <td>2018-01-08 21:29:31</td>\n",
              "      <td>2018-01-31</td>\n",
              "      <td>esporte_lazer</td>\n",
              "      <td>delivered</td>\n",
              "      <td>None</td>\n",
              "      <td>Produto esta de acordo com o que foi divulgado.</td>\n",
              "      <td>SP</td>\n",
              "      <td>5</td>\n",
              "    </tr>\n",
              "    <tr>\n",
              "      <th>93905</th>\n",
              "      <td>761754f0b80840915a8c95318db1c760</td>\n",
              "      <td>2017-09-23</td>\n",
              "      <td>2017-09-20 13:55:16</td>\n",
              "      <td>2017-09-21 18:55:05</td>\n",
              "      <td>2017-10-05</td>\n",
              "      <td>fashion_bolsas_e_acessorios</td>\n",
              "      <td>delivered</td>\n",
              "      <td>None</td>\n",
              "      <td>Bem foi presente e a pessoa gostou.</td>\n",
              "      <td>SP</td>\n",
              "      <td>4</td>\n",
              "    </tr>\n",
              "  </tbody>\n",
              "</table>\n",
              "</div>\n",
              "      <button class=\"colab-df-convert\" onclick=\"convertToInteractive('df-55007a25-98e8-42a0-a287-f027e75fb292')\"\n",
              "              title=\"Convert this dataframe to an interactive table.\"\n",
              "              style=\"display:none;\">\n",
              "        \n",
              "  <svg xmlns=\"http://www.w3.org/2000/svg\" height=\"24px\"viewBox=\"0 0 24 24\"\n",
              "       width=\"24px\">\n",
              "    <path d=\"M0 0h24v24H0V0z\" fill=\"none\"/>\n",
              "    <path d=\"M18.56 5.44l.94 2.06.94-2.06 2.06-.94-2.06-.94-.94-2.06-.94 2.06-2.06.94zm-11 1L8.5 8.5l.94-2.06 2.06-.94-2.06-.94L8.5 2.5l-.94 2.06-2.06.94zm10 10l.94 2.06.94-2.06 2.06-.94-2.06-.94-.94-2.06-.94 2.06-2.06.94z\"/><path d=\"M17.41 7.96l-1.37-1.37c-.4-.4-.92-.59-1.43-.59-.52 0-1.04.2-1.43.59L10.3 9.45l-7.72 7.72c-.78.78-.78 2.05 0 2.83L4 21.41c.39.39.9.59 1.41.59.51 0 1.02-.2 1.41-.59l7.78-7.78 2.81-2.81c.8-.78.8-2.07 0-2.86zM5.41 20L4 18.59l7.72-7.72 1.47 1.35L5.41 20z\"/>\n",
              "  </svg>\n",
              "      </button>\n",
              "      \n",
              "  <style>\n",
              "    .colab-df-container {\n",
              "      display:flex;\n",
              "      flex-wrap:wrap;\n",
              "      gap: 12px;\n",
              "    }\n",
              "\n",
              "    .colab-df-convert {\n",
              "      background-color: #E8F0FE;\n",
              "      border: none;\n",
              "      border-radius: 50%;\n",
              "      cursor: pointer;\n",
              "      display: none;\n",
              "      fill: #1967D2;\n",
              "      height: 32px;\n",
              "      padding: 0 0 0 0;\n",
              "      width: 32px;\n",
              "    }\n",
              "\n",
              "    .colab-df-convert:hover {\n",
              "      background-color: #E2EBFA;\n",
              "      box-shadow: 0px 1px 2px rgba(60, 64, 67, 0.3), 0px 1px 3px 1px rgba(60, 64, 67, 0.15);\n",
              "      fill: #174EA6;\n",
              "    }\n",
              "\n",
              "    [theme=dark] .colab-df-convert {\n",
              "      background-color: #3B4455;\n",
              "      fill: #D2E3FC;\n",
              "    }\n",
              "\n",
              "    [theme=dark] .colab-df-convert:hover {\n",
              "      background-color: #434B5C;\n",
              "      box-shadow: 0px 1px 3px 1px rgba(0, 0, 0, 0.15);\n",
              "      filter: drop-shadow(0px 1px 2px rgba(0, 0, 0, 0.3));\n",
              "      fill: #FFFFFF;\n",
              "    }\n",
              "  </style>\n",
              "\n",
              "      <script>\n",
              "        const buttonEl =\n",
              "          document.querySelector('#df-55007a25-98e8-42a0-a287-f027e75fb292 button.colab-df-convert');\n",
              "        buttonEl.style.display =\n",
              "          google.colab.kernel.accessAllowed ? 'block' : 'none';\n",
              "\n",
              "        async function convertToInteractive(key) {\n",
              "          const element = document.querySelector('#df-55007a25-98e8-42a0-a287-f027e75fb292');\n",
              "          const dataTable =\n",
              "            await google.colab.kernel.invokeFunction('convertToInteractive',\n",
              "                                                     [key], {});\n",
              "          if (!dataTable) return;\n",
              "\n",
              "          const docLinkHtml = 'Like what you see? Visit the ' +\n",
              "            '<a target=\"_blank\" href=https://colab.research.google.com/notebooks/data_table.ipynb>data table notebook</a>'\n",
              "            + ' to learn more about interactive tables.';\n",
              "          element.innerHTML = '';\n",
              "          dataTable['output_type'] = 'display_data';\n",
              "          await google.colab.output.renderOutput(dataTable, element);\n",
              "          const docLink = document.createElement('div');\n",
              "          docLink.innerHTML = docLinkHtml;\n",
              "          element.appendChild(docLink);\n",
              "        }\n",
              "      </script>\n",
              "    </div>\n",
              "  </div>\n",
              "  "
            ],
            "text/plain": [
              "                              review_id review_date  ... customer_state score\n",
              "39838  cccba75094774cb11c191b76c3ba5923  2017-12-06  ...             SP     5\n",
              "18409  f3669636a59b47fd26fd65a6509a21ea  2018-01-12  ...             SP     5\n",
              "93905  761754f0b80840915a8c95318db1c760  2017-09-23  ...             SP     4\n",
              "\n",
              "[3 rows x 11 columns]"
            ]
          },
          "metadata": {},
          "execution_count": 65
        }
      ],
      "source": [
        "df1.sample(3)"
      ]
    },
    {
      "cell_type": "markdown",
      "id": "535faf69",
      "metadata": {
        "id": "535faf69"
      },
      "source": [
        "# EXLORATORY DATA ANALYSIS"
      ]
    },
    {
      "cell_type": "markdown",
      "id": "03bb903f",
      "metadata": {
        "id": "03bb903f"
      },
      "source": [
        "0. Scores\n",
        "1. Quais categorias de protudos há mais vendas?\n",
        "2. Quais categorias de produtos tem menor nota de score? \n",
        "3. Quais Estados há mais vendas?\n",
        "4. O Tempo de entrega intefere no score?\n",
        "4. Quais Estados tem a menor nota de score?\n",
        "5. O Estado interfere no tepo de entrega?\n",
        "6. o tempo de entrega é maior do que o tempo estimado? Se for, isso interfere no score?\n"
      ]
    },
    {
      "cell_type": "markdown",
      "id": "57993f45",
      "metadata": {
        "id": "57993f45"
      },
      "source": [
        "### 0. SCORES"
      ]
    },
    {
      "cell_type": "code",
      "execution_count": 85,
      "id": "62d0ea87",
      "metadata": {
        "ExecuteTime": {
          "end_time": "2021-12-28T22:18:58.390044Z",
          "start_time": "2021-12-28T22:18:58.077035Z"
        },
        "scrolled": true,
        "colab": {
          "base_uri": "https://localhost:8080/",
          "height": 464
        },
        "id": "62d0ea87",
        "outputId": "3d4443d6-84df-4353-83f7-9e6ce1c72b6f"
      },
      "outputs": [
        {
          "output_type": "display_data",
          "data": {
            "image/png": "[encoded data removed]",
            "text/plain": [
              "<Figure size 1080x504 with 1 Axes>"
            ]
          },
          "metadata": {}
        }
      ],
      "source": [
        "sns.countplot(x='score', data=df1, palette='gist_yarg_r', order=[5,4,3,2,1])\n",
        "plt.title(\"SCORE\", size=12);"
      ]
    },
    {
      "cell_type": "markdown",
      "id": "997bdfb1",
      "metadata": {
        "id": "997bdfb1"
      },
      "source": [
        "## 1.  Quais categorias de protudos há mais vendas?"
      ]
    },
    {
      "cell_type": "code",
      "execution_count": 67,
      "id": "055ff3c4",
      "metadata": {
        "ExecuteTime": {
          "end_time": "2021-12-28T22:18:58.845834Z",
          "start_time": "2021-12-28T22:18:58.788823Z"
        },
        "colab": {
          "base_uri": "https://localhost:8080/",
          "height": 143
        },
        "id": "055ff3c4",
        "outputId": "4c1dab12-9f18-4cd8-bf0d-9f2e95cb414c"
      },
      "outputs": [
        {
          "output_type": "execute_result",
          "data": {
            "text/html": [
              "\n",
              "  <div id=\"df-91e22aa4-60d2-40e0-b23e-c27192f76e02\">\n",
              "    <div class=\"colab-df-container\">\n",
              "      <div>\n",
              "<style scoped>\n",
              "    .dataframe tbody tr th:only-of-type {\n",
              "        vertical-align: middle;\n",
              "    }\n",
              "\n",
              "    .dataframe tbody tr th {\n",
              "        vertical-align: top;\n",
              "    }\n",
              "\n",
              "    .dataframe thead th {\n",
              "        text-align: right;\n",
              "    }\n",
              "</style>\n",
              "<table border=\"1\" class=\"dataframe\">\n",
              "  <thead>\n",
              "    <tr style=\"text-align: right;\">\n",
              "      <th></th>\n",
              "      <th>product_category</th>\n",
              "      <th>total</th>\n",
              "      <th>%</th>\n",
              "    </tr>\n",
              "  </thead>\n",
              "  <tbody>\n",
              "    <tr>\n",
              "      <th>13</th>\n",
              "      <td>cama_mesa_banho</td>\n",
              "      <td>9538</td>\n",
              "      <td>9.68</td>\n",
              "    </tr>\n",
              "    <tr>\n",
              "      <th>11</th>\n",
              "      <td>beleza_saude</td>\n",
              "      <td>8892</td>\n",
              "      <td>9.02</td>\n",
              "    </tr>\n",
              "    <tr>\n",
              "      <th>32</th>\n",
              "      <td>esporte_lazer</td>\n",
              "      <td>7772</td>\n",
              "      <td>7.88</td>\n",
              "    </tr>\n",
              "  </tbody>\n",
              "</table>\n",
              "</div>\n",
              "      <button class=\"colab-df-convert\" onclick=\"convertToInteractive('df-91e22aa4-60d2-40e0-b23e-c27192f76e02')\"\n",
              "              title=\"Convert this dataframe to an interactive table.\"\n",
              "              style=\"display:none;\">\n",
              "        \n",
              "  <svg xmlns=\"http://www.w3.org/2000/svg\" height=\"24px\"viewBox=\"0 0 24 24\"\n",
              "       width=\"24px\">\n",
              "    <path d=\"M0 0h24v24H0V0z\" fill=\"none\"/>\n",
              "    <path d=\"M18.56 5.44l.94 2.06.94-2.06 2.06-.94-2.06-.94-.94-2.06-.94 2.06-2.06.94zm-11 1L8.5 8.5l.94-2.06 2.06-.94-2.06-.94L8.5 2.5l-.94 2.06-2.06.94zm10 10l.94 2.06.94-2.06 2.06-.94-2.06-.94-.94-2.06-.94 2.06-2.06.94z\"/><path d=\"M17.41 7.96l-1.37-1.37c-.4-.4-.92-.59-1.43-.59-.52 0-1.04.2-1.43.59L10.3 9.45l-7.72 7.72c-.78.78-.78 2.05 0 2.83L4 21.41c.39.39.9.59 1.41.59.51 0 1.02-.2 1.41-.59l7.78-7.78 2.81-2.81c.8-.78.8-2.07 0-2.86zM5.41 20L4 18.59l7.72-7.72 1.47 1.35L5.41 20z\"/>\n",
              "  </svg>\n",
              "      </button>\n",
              "      \n",
              "  <style>\n",
              "    .colab-df-container {\n",
              "      display:flex;\n",
              "      flex-wrap:wrap;\n",
              "      gap: 12px;\n",
              "    }\n",
              "\n",
              "    .colab-df-convert {\n",
              "      background-color: #E8F0FE;\n",
              "      border: none;\n",
              "      border-radius: 50%;\n",
              "      cursor: pointer;\n",
              "      display: none;\n",
              "      fill: #1967D2;\n",
              "      height: 32px;\n",
              "      padding: 0 0 0 0;\n",
              "      width: 32px;\n",
              "    }\n",
              "\n",
              "    .colab-df-convert:hover {\n",
              "      background-color: #E2EBFA;\n",
              "      box-shadow: 0px 1px 2px rgba(60, 64, 67, 0.3), 0px 1px 3px 1px rgba(60, 64, 67, 0.15);\n",
              "      fill: #174EA6;\n",
              "    }\n",
              "\n",
              "    [theme=dark] .colab-df-convert {\n",
              "      background-color: #3B4455;\n",
              "      fill: #D2E3FC;\n",
              "    }\n",
              "\n",
              "    [theme=dark] .colab-df-convert:hover {\n",
              "      background-color: #434B5C;\n",
              "      box-shadow: 0px 1px 3px 1px rgba(0, 0, 0, 0.15);\n",
              "      filter: drop-shadow(0px 1px 2px rgba(0, 0, 0, 0.3));\n",
              "      fill: #FFFFFF;\n",
              "    }\n",
              "  </style>\n",
              "\n",
              "      <script>\n",
              "        const buttonEl =\n",
              "          document.querySelector('#df-91e22aa4-60d2-40e0-b23e-c27192f76e02 button.colab-df-convert');\n",
              "        buttonEl.style.display =\n",
              "          google.colab.kernel.accessAllowed ? 'block' : 'none';\n",
              "\n",
              "        async function convertToInteractive(key) {\n",
              "          const element = document.querySelector('#df-91e22aa4-60d2-40e0-b23e-c27192f76e02');\n",
              "          const dataTable =\n",
              "            await google.colab.kernel.invokeFunction('convertToInteractive',\n",
              "                                                     [key], {});\n",
              "          if (!dataTable) return;\n",
              "\n",
              "          const docLinkHtml = 'Like what you see? Visit the ' +\n",
              "            '<a target=\"_blank\" href=https://colab.research.google.com/notebooks/data_table.ipynb>data table notebook</a>'\n",
              "            + ' to learn more about interactive tables.';\n",
              "          element.innerHTML = '';\n",
              "          dataTable['output_type'] = 'display_data';\n",
              "          await google.colab.output.renderOutput(dataTable, element);\n",
              "          const docLink = document.createElement('div');\n",
              "          docLink.innerHTML = docLinkHtml;\n",
              "          element.appendChild(docLink);\n",
              "        }\n",
              "      </script>\n",
              "    </div>\n",
              "  </div>\n",
              "  "
            ],
            "text/plain": [
              "   product_category  total     %\n",
              "13  cama_mesa_banho   9538  9.68\n",
              "11     beleza_saude   8892  9.02\n",
              "32    esporte_lazer   7772  7.88"
            ]
          },
          "metadata": {},
          "execution_count": 67
        }
      ],
      "source": [
        "mais_vendidos = df1.groupby(['product_category'], as_index=False)['customer_state'].count().rename( columns = {'customer_state':'total'})\n",
        "# calculo porcentagem\n",
        "mais_vendidos['%'] = round((mais_vendidos['total'] / mais_vendidos['total'].sum()) * 100, 2)\n",
        "mais_vendidos.nlargest(3, 'total')"
      ]
    },
    {
      "cell_type": "code",
      "execution_count": 87,
      "id": "00cec491",
      "metadata": {
        "ExecuteTime": {
          "end_time": "2021-12-28T22:18:59.368335Z",
          "start_time": "2021-12-28T22:18:58.983340Z"
        },
        "colab": {
          "base_uri": "https://localhost:8080/",
          "height": 473
        },
        "id": "00cec491",
        "outputId": "fe0ca888-9af9-41c5-f0d6-68af1fe80131"
      },
      "outputs": [
        {
          "output_type": "display_data",
          "data": {
            "image/png": "[encoded data removed]",
            "text/plain": [
              "<Figure size 1080x504 with 1 Axes>"
            ]
          },
          "metadata": {}
        }
      ],
      "source": [
        "g = sns.barplot(y='product_category', x='%', palette='Greens_r', data=mais_vendidos.nlargest(20, '%'))\n",
        "\n",
        "plt.title('TOTAL PEDIDOS POR CATEGORIA', size=18)\n",
        "plt.yticks(fontsize=15, color='gray');\n",
        "plt.xticks([0,2,4,6,8,10],['0 %', '2 %', '4 %', '6 %', '8 %', '10 %'], fontsize=15);\n",
        "plt.xlabel(\"Percentage of order\");\n",
        "g.spines['top'].set_visible(False)\n",
        "g.spines['right'].set_visible(False)"
      ]
    },
    {
      "cell_type": "markdown",
      "id": "a74fd988",
      "metadata": {
        "id": "a74fd988"
      },
      "source": [
        "Podemos ver no gráfico as categorias dos produtos e suas respectivas participações no número do total de pedidos. Percebe-se que é bem diversificado o portifólio de produtos da empresa, cujo o valor do produto como maior particpação é cama_mesa_banho e  não ultrapassa os 10% do total dos pedidos. Sendo assim, qualquer problema que impacte as vendas em determinada categoria, não causaria diminuição tão acententuada no faturamento da empresa."
      ]
    },
    {
      "cell_type": "markdown",
      "id": "5a3b6f35",
      "metadata": {
        "id": "5a3b6f35"
      },
      "source": [
        "### 2. NOTA DE SCORE POR CATEGORIA DE PRODUTO"
      ]
    },
    {
      "cell_type": "code",
      "execution_count": 69,
      "id": "c66dddda",
      "metadata": {
        "ExecuteTime": {
          "end_time": "2021-12-28T22:18:59.463832Z",
          "start_time": "2021-12-28T22:18:59.445839Z"
        },
        "id": "c66dddda"
      },
      "outputs": [],
      "source": [
        "def count_product_category(score, data, x, y, n = 20):\n",
        "    #filtrando o dataframe por score, para gerar o grafico para cada um\n",
        "    data = data[ data['score'] == score ]\n",
        "    \n",
        "    #agrupanda valores por coluna (que será passa como argumento para a função) e calculando o total\n",
        "    count = data.groupby(col, as_index=False)['customer_state'].count().rename( columns = {'customer_state':'total'})\n",
        "    \n",
        "    #calculando a parcentagem de cada valor do total calculado acima\n",
        "    count['%'] = round((count['total'] / count['total'].sum()) * 100, 2)\n",
        "    \n",
        "    #por fim, gerando os graficos com os argumentos da função\n",
        "    g = sns.barplot(x=x, y =y, data = count.nlargest(n, 'total'), palette='icefire_r')\n",
        "    \n",
        "    # config plot area\n",
        "    plt.title(f'score {score} by {col}', size=13,  fontweight=\"bold\")\n",
        "    g.spines['top'].set_visible(False)\n",
        "    g.spines['right'].set_visible(False)\n",
        "    plt.subplots_adjust(left=0.1, \n",
        "                    bottom=0.3,  \n",
        "                    right=0.9,  \n",
        "                    top=1.9,  \n",
        "                    wspace=0.4,  \n",
        "                   hspace=1)\n",
        "    return g"
      ]
    },
    {
      "cell_type": "code",
      "execution_count": 70,
      "id": "1cf777dd",
      "metadata": {
        "ExecuteTime": {
          "end_time": "2021-12-28T22:19:00.812830Z",
          "start_time": "2021-12-28T22:18:59.637834Z"
        },
        "colab": {
          "base_uri": "https://localhost:8080/",
          "height": 684
        },
        "id": "1cf777dd",
        "outputId": "3a951414-db51-40da-a0e3-99acb5bdcdbf"
      },
      "outputs": [
        {
          "output_type": "display_data",
          "data": {
            "image/png": "[encoded data removed]",
            "text/plain": [
              "<Figure size 1080x504 with 5 Axes>"
            ]
          },
          "metadata": {}
        }
      ],
      "source": [
        "for i in range(1,6):\n",
        "    plt.subplot( 3, 3, i );\n",
        "    count_product_category(i, df1, 'product_category', '%', 10);\n",
        "    plt.xticks(rotation=90);"
      ]
    },
    {
      "cell_type": "markdown",
      "id": "74353e42",
      "metadata": {
        "id": "74353e42"
      },
      "source": [
        "A Categoria Cama_mesa_banho aprece em primeiro lugar em todas as faixas de scores. Obviamente, isso se deve a quantidade de peidos para esta categoria. Quanto maior o número de pedidos para uma categoria, a probabildaide de aparecer em todas as faixas de scores é tende as ser maior. o Ponto positivo é a categoria beleza_saude, que ocupa o primeiro lugar na faixa de score 5."
      ]
    },
    {
      "cell_type": "markdown",
      "id": "05998d47",
      "metadata": {
        "id": "05998d47"
      },
      "source": [
        "### 3. Quais Estados há mais Pedidos?"
      ]
    },
    {
      "cell_type": "code",
      "execution_count": 71,
      "id": "e47de867",
      "metadata": {
        "ExecuteTime": {
          "end_time": "2021-12-28T22:19:00.891833Z",
          "start_time": "2021-12-28T22:19:00.863836Z"
        },
        "colab": {
          "base_uri": "https://localhost:8080/",
          "height": 162
        },
        "id": "e47de867",
        "outputId": "b083b9eb-1f0e-40f8-970e-61acbf612a64"
      },
      "outputs": [
        {
          "output_type": "execute_result",
          "data": {
            "text/html": [
              "\n",
              "  <div id=\"df-8c64851b-5514-401a-aba2-e05090f1f6d2\">\n",
              "    <div class=\"colab-df-container\">\n",
              "      <div>\n",
              "<style scoped>\n",
              "    .dataframe tbody tr th:only-of-type {\n",
              "        vertical-align: middle;\n",
              "    }\n",
              "\n",
              "    .dataframe tbody tr th {\n",
              "        vertical-align: top;\n",
              "    }\n",
              "\n",
              "    .dataframe thead th {\n",
              "        text-align: right;\n",
              "    }\n",
              "</style>\n",
              "<table border=\"1\" class=\"dataframe\">\n",
              "  <thead>\n",
              "    <tr style=\"text-align: right;\">\n",
              "      <th></th>\n",
              "      <th>review_id</th>\n",
              "      <th>review_date</th>\n",
              "      <th>order_approved</th>\n",
              "      <th>delivered_carrier</th>\n",
              "      <th>estimated_delivery</th>\n",
              "      <th>product_category</th>\n",
              "      <th>order_status</th>\n",
              "      <th>review_title</th>\n",
              "      <th>review_message</th>\n",
              "      <th>customer_state</th>\n",
              "      <th>score</th>\n",
              "    </tr>\n",
              "  </thead>\n",
              "  <tbody>\n",
              "    <tr>\n",
              "      <th>63484</th>\n",
              "      <td>111458efc80255e6b121e32fe2fc0459</td>\n",
              "      <td>2018-01-24</td>\n",
              "      <td>2018-01-03 20:46:43</td>\n",
              "      <td>2018-01-09 00:12:58</td>\n",
              "      <td>2018-02-06</td>\n",
              "      <td>papelaria</td>\n",
              "      <td>delivered</td>\n",
              "      <td>None</td>\n",
              "      <td>None</td>\n",
              "      <td>RJ</td>\n",
              "      <td>5</td>\n",
              "    </tr>\n",
              "  </tbody>\n",
              "</table>\n",
              "</div>\n",
              "      <button class=\"colab-df-convert\" onclick=\"convertToInteractive('df-8c64851b-5514-401a-aba2-e05090f1f6d2')\"\n",
              "              title=\"Convert this dataframe to an interactive table.\"\n",
              "              style=\"display:none;\">\n",
              "        \n",
              "  <svg xmlns=\"http://www.w3.org/2000/svg\" height=\"24px\"viewBox=\"0 0 24 24\"\n",
              "       width=\"24px\">\n",
              "    <path d=\"M0 0h24v24H0V0z\" fill=\"none\"/>\n",
              "    <path d=\"M18.56 5.44l.94 2.06.94-2.06 2.06-.94-2.06-.94-.94-2.06-.94 2.06-2.06.94zm-11 1L8.5 8.5l.94-2.06 2.06-.94-2.06-.94L8.5 2.5l-.94 2.06-2.06.94zm10 10l.94 2.06.94-2.06 2.06-.94-2.06-.94-.94-2.06-.94 2.06-2.06.94z\"/><path d=\"M17.41 7.96l-1.37-1.37c-.4-.4-.92-.59-1.43-.59-.52 0-1.04.2-1.43.59L10.3 9.45l-7.72 7.72c-.78.78-.78 2.05 0 2.83L4 21.41c.39.39.9.59 1.41.59.51 0 1.02-.2 1.41-.59l7.78-7.78 2.81-2.81c.8-.78.8-2.07 0-2.86zM5.41 20L4 18.59l7.72-7.72 1.47 1.35L5.41 20z\"/>\n",
              "  </svg>\n",
              "      </button>\n",
              "      \n",
              "  <style>\n",
              "    .colab-df-container {\n",
              "      display:flex;\n",
              "      flex-wrap:wrap;\n",
              "      gap: 12px;\n",
              "    }\n",
              "\n",
              "    .colab-df-convert {\n",
              "      background-color: #E8F0FE;\n",
              "      border: none;\n",
              "      border-radius: 50%;\n",
              "      cursor: pointer;\n",
              "      display: none;\n",
              "      fill: #1967D2;\n",
              "      height: 32px;\n",
              "      padding: 0 0 0 0;\n",
              "      width: 32px;\n",
              "    }\n",
              "\n",
              "    .colab-df-convert:hover {\n",
              "      background-color: #E2EBFA;\n",
              "      box-shadow: 0px 1px 2px rgba(60, 64, 67, 0.3), 0px 1px 3px 1px rgba(60, 64, 67, 0.15);\n",
              "      fill: #174EA6;\n",
              "    }\n",
              "\n",
              "    [theme=dark] .colab-df-convert {\n",
              "      background-color: #3B4455;\n",
              "      fill: #D2E3FC;\n",
              "    }\n",
              "\n",
              "    [theme=dark] .colab-df-convert:hover {\n",
              "      background-color: #434B5C;\n",
              "      box-shadow: 0px 1px 3px 1px rgba(0, 0, 0, 0.15);\n",
              "      filter: drop-shadow(0px 1px 2px rgba(0, 0, 0, 0.3));\n",
              "      fill: #FFFFFF;\n",
              "    }\n",
              "  </style>\n",
              "\n",
              "      <script>\n",
              "        const buttonEl =\n",
              "          document.querySelector('#df-8c64851b-5514-401a-aba2-e05090f1f6d2 button.colab-df-convert');\n",
              "        buttonEl.style.display =\n",
              "          google.colab.kernel.accessAllowed ? 'block' : 'none';\n",
              "\n",
              "        async function convertToInteractive(key) {\n",
              "          const element = document.querySelector('#df-8c64851b-5514-401a-aba2-e05090f1f6d2');\n",
              "          const dataTable =\n",
              "            await google.colab.kernel.invokeFunction('convertToInteractive',\n",
              "                                                     [key], {});\n",
              "          if (!dataTable) return;\n",
              "\n",
              "          const docLinkHtml = 'Like what you see? Visit the ' +\n",
              "            '<a target=\"_blank\" href=https://colab.research.google.com/notebooks/data_table.ipynb>data table notebook</a>'\n",
              "            + ' to learn more about interactive tables.';\n",
              "          element.innerHTML = '';\n",
              "          dataTable['output_type'] = 'display_data';\n",
              "          await google.colab.output.renderOutput(dataTable, element);\n",
              "          const docLink = document.createElement('div');\n",
              "          docLink.innerHTML = docLinkHtml;\n",
              "          element.appendChild(docLink);\n",
              "        }\n",
              "      </script>\n",
              "    </div>\n",
              "  </div>\n",
              "  "
            ],
            "text/plain": [
              "                              review_id review_date  ... customer_state score\n",
              "63484  111458efc80255e6b121e32fe2fc0459  2018-01-24  ...             RJ     5\n",
              "\n",
              "[1 rows x 11 columns]"
            ]
          },
          "metadata": {},
          "execution_count": 71
        }
      ],
      "source": [
        "df1.sample()"
      ]
    },
    {
      "cell_type": "code",
      "execution_count": 72,
      "id": "9e460fc4",
      "metadata": {
        "ExecuteTime": {
          "end_time": "2021-12-28T22:19:00.954834Z",
          "start_time": "2021-12-28T22:19:00.941835Z"
        },
        "id": "9e460fc4"
      },
      "outputs": [],
      "source": [
        "def count_order_by_state(col, data, y, n = 20):\n",
        "    count = data.groupby(col, as_index=False)['order_status'].count().rename( columns = {'order_status':'total'})\n",
        "    count['%'] = round((count['total'] / count['total'].sum()) * 100, 2)\n",
        "    \n",
        "    g = sns.barplot(x=col, y =y, data = count.nlargest(n, 'total'), palette='Greys_r')\n",
        "    \n",
        "    col = col.replace(\"_\", \" \")\n",
        "    plt.title(f' Total order by {col}', size=18,  fontweight=\"bold\")\n",
        "    g.spines['top'].set_visible(False)\n",
        "    g.spines['right'].set_visible(False)\n",
        "    return g"
      ]
    },
    {
      "cell_type": "code",
      "execution_count": 73,
      "id": "73ed64c3",
      "metadata": {
        "ExecuteTime": {
          "end_time": "2021-12-28T22:19:02.053454Z",
          "start_time": "2021-12-28T22:19:01.597457Z"
        },
        "colab": {
          "base_uri": "https://localhost:8080/",
          "height": 468
        },
        "id": "73ed64c3",
        "outputId": "10e6f062-ec27-486e-efef-302d51c4f11d"
      },
      "outputs": [
        {
          "output_type": "display_data",
          "data": {
            "image/png": "[encoded data removed]",
            "text/plain": [
              "<Figure size 1080x504 with 1 Axes>"
            ]
          },
          "metadata": {}
        }
      ],
      "source": [
        "count_order_by_state('customer_state', df1, 'total', 27);"
      ]
    },
    {
      "cell_type": "markdown",
      "id": "c384bbbc",
      "metadata": {
        "id": "c384bbbc"
      },
      "source": [
        "### 4. O Tempo de entrega interfere no score?"
      ]
    },
    {
      "cell_type": "code",
      "execution_count": 74,
      "id": "cf850a7c",
      "metadata": {
        "ExecuteTime": {
          "end_time": "2021-12-28T22:19:02.357058Z",
          "start_time": "2021-12-28T22:19:02.341060Z"
        },
        "id": "cf850a7c"
      },
      "outputs": [],
      "source": [
        "df_delivery = df1.copy()"
      ]
    },
    {
      "cell_type": "code",
      "execution_count": 75,
      "id": "79268e9e",
      "metadata": {
        "ExecuteTime": {
          "end_time": "2021-12-28T22:19:02.579059Z",
          "start_time": "2021-12-28T22:19:02.508059Z"
        },
        "id": "79268e9e"
      },
      "outputs": [],
      "source": [
        "df_delivery = df_delivery.dropna()"
      ]
    },
    {
      "cell_type": "markdown",
      "id": "d581db70",
      "metadata": {
        "id": "d581db70"
      },
      "source": [
        "Analisando os dados, percebe-se as entregas são feitas quase que unanimemente dentro do próprio mês. Portanto, analisarei as difrenças entre os dias.\n"
      ]
    },
    {
      "cell_type": "code",
      "execution_count": 76,
      "id": "d6b4b0f1",
      "metadata": {
        "ExecuteTime": {
          "end_time": "2021-12-28T22:19:03.433834Z",
          "start_time": "2021-12-28T22:19:02.796838Z"
        },
        "colab": {
          "base_uri": "https://localhost:8080/"
        },
        "id": "d6b4b0f1",
        "outputId": "d317feba-368b-4938-d376-057e16bb96bc"
      },
      "outputs": [
        {
          "output_type": "stream",
          "name": "stdout",
          "text": [
            "CPU times: user 514 ms, sys: 3.84 ms, total: 518 ms\n",
            "Wall time: 524 ms\n"
          ]
        }
      ],
      "source": [
        "%%time\n",
        "\n",
        "# Irei criar uma função simples para calcular quantos dias demoraram para fazer a entrega (delivered_carrier - order_approved)\n",
        "def days_to_delivery(data):\n",
        "    # Se a entrega foI realizada dentro do mesmo mês:\n",
        "    if data['delivered_carrier'].month == data['order_approved'].month:\n",
        "        if data['delivered_carrier'].day < data['order_approved'].day:\n",
        "            return np.nan # Em alguns casos há erro nos dados, em que o dia da entrega é menor que o dia da aprovaçãodo pedido.\n",
        "        else: \n",
        "            return data['delivered_carrier'].day - data['order_approved'].day\n",
        "    \n",
        "    # Se foi realizada em meses diferenes, é necessário calcular primero os dias separadamente de cada mês e depois somá-los.\n",
        "    elif data['delivered_carrier'].month != data['order_approved'].month:\n",
        "        if data['delivered_carrier'].month < data['order_approved'].month or data['delivered_carrier'].day < data['order_approved'].day:\n",
        "            return np.nan\n",
        "        else:\n",
        "            return (pd.Period(data['order_approved'], freq='D').days_in_month - data['order_approved'].day) + data['delivered_carrier'].day\n",
        "\n",
        "    \n",
        "df_delivery['days_to_delivery'] = df_delivery.apply(days_to_delivery, axis=1)"
      ]
    },
    {
      "cell_type": "code",
      "execution_count": 77,
      "id": "dea2731b",
      "metadata": {
        "ExecuteTime": {
          "end_time": "2021-12-28T22:19:03.609834Z",
          "start_time": "2021-12-28T22:19:03.483833Z"
        },
        "scrolled": false,
        "colab": {
          "base_uri": "https://localhost:8080/",
          "height": 358
        },
        "id": "dea2731b",
        "outputId": "7daee3b8-4819-4fbc-fbdd-6c872f383376"
      },
      "outputs": [
        {
          "output_type": "execute_result",
          "data": {
            "text/html": [
              "<style  type=\"text/css\" >\n",
              "#T_44a255f4_6837_11ec_aee4_0242ac1c0002row0_col2,#T_44a255f4_6837_11ec_aee4_0242ac1c0002row0_col3,#T_44a255f4_6837_11ec_aee4_0242ac1c0002row1_col2,#T_44a255f4_6837_11ec_aee4_0242ac1c0002row1_col3{\n",
              "            background-color:  orange;\n",
              "        }</style><table id=\"T_44a255f4_6837_11ec_aee4_0242ac1c0002\" class=\"dataframe\"><thead>    <tr>        <th class=\"blank level0\" ></th>        <th class=\"col_heading level0 col0\" >review_id</th>        <th class=\"col_heading level0 col1\" >review_date</th>        <th class=\"col_heading level0 col2\" >order_approved</th>        <th class=\"col_heading level0 col3\" >delivered_carrier</th>        <th class=\"col_heading level0 col4\" >estimated_delivery</th>        <th class=\"col_heading level0 col5\" >product_category</th>        <th class=\"col_heading level0 col6\" >order_status</th>        <th class=\"col_heading level0 col7\" >review_title</th>        <th class=\"col_heading level0 col8\" >review_message</th>        <th class=\"col_heading level0 col9\" >customer_state</th>        <th class=\"col_heading level0 col10\" >score</th>        <th class=\"col_heading level0 col11\" >days_to_delivery</th>    </tr></thead><tbody>\n",
              "                <tr>\n",
              "                        <th id=\"T_44a255f4_6837_11ec_aee4_0242ac1c0002level0_row0\" class=\"row_heading level0 row0\" >51</th>\n",
              "                        <td id=\"T_44a255f4_6837_11ec_aee4_0242ac1c0002row0_col0\" class=\"data row0 col0\" >b193ff3c9f32a01f3a0d9ae26b94d244</td>\n",
              "                        <td id=\"T_44a255f4_6837_11ec_aee4_0242ac1c0002row0_col1\" class=\"data row0 col1\" >2018-08-10 00:00:00</td>\n",
              "                        <td id=\"T_44a255f4_6837_11ec_aee4_0242ac1c0002row0_col2\" class=\"data row0 col2\" >2018-07-30 09:50:20</td>\n",
              "                        <td id=\"T_44a255f4_6837_11ec_aee4_0242ac1c0002row0_col3\" class=\"data row0 col3\" >2018-08-01 15:24:00</td>\n",
              "                        <td id=\"T_44a255f4_6837_11ec_aee4_0242ac1c0002row0_col4\" class=\"data row0 col4\" >2018-08-17 00:00:00</td>\n",
              "                        <td id=\"T_44a255f4_6837_11ec_aee4_0242ac1c0002row0_col5\" class=\"data row0 col5\" >perfumaria</td>\n",
              "                        <td id=\"T_44a255f4_6837_11ec_aee4_0242ac1c0002row0_col6\" class=\"data row0 col6\" >delivered</td>\n",
              "                        <td id=\"T_44a255f4_6837_11ec_aee4_0242ac1c0002row0_col7\" class=\"data row0 col7\" >Maravilhoso!</td>\n",
              "                        <td id=\"T_44a255f4_6837_11ec_aee4_0242ac1c0002row0_col8\" class=\"data row0 col8\" >Tô completamente apaixonada, loja super responsável e confiável!</td>\n",
              "                        <td id=\"T_44a255f4_6837_11ec_aee4_0242ac1c0002row0_col9\" class=\"data row0 col9\" >PE</td>\n",
              "                        <td id=\"T_44a255f4_6837_11ec_aee4_0242ac1c0002row0_col10\" class=\"data row0 col10\" >5</td>\n",
              "                        <td id=\"T_44a255f4_6837_11ec_aee4_0242ac1c0002row0_col11\" class=\"data row0 col11\" >nan</td>\n",
              "            </tr>\n",
              "            <tr>\n",
              "                        <th id=\"T_44a255f4_6837_11ec_aee4_0242ac1c0002level0_row1\" class=\"row_heading level0 row1\" >245</th>\n",
              "                        <td id=\"T_44a255f4_6837_11ec_aee4_0242ac1c0002row1_col0\" class=\"data row1 col0\" >5241fcad10d7b45a1761f1e1e1536faa</td>\n",
              "                        <td id=\"T_44a255f4_6837_11ec_aee4_0242ac1c0002row1_col1\" class=\"data row1 col1\" >2018-07-07 00:00:00</td>\n",
              "                        <td id=\"T_44a255f4_6837_11ec_aee4_0242ac1c0002row1_col2\" class=\"data row1 col2\" >2018-06-26 09:52:56</td>\n",
              "                        <td id=\"T_44a255f4_6837_11ec_aee4_0242ac1c0002row1_col3\" class=\"data row1 col3\" >2018-07-03 09:39:00</td>\n",
              "                        <td id=\"T_44a255f4_6837_11ec_aee4_0242ac1c0002row1_col4\" class=\"data row1 col4\" >2018-07-26 00:00:00</td>\n",
              "                        <td id=\"T_44a255f4_6837_11ec_aee4_0242ac1c0002row1_col5\" class=\"data row1 col5\" >cama_mesa_banho</td>\n",
              "                        <td id=\"T_44a255f4_6837_11ec_aee4_0242ac1c0002row1_col6\" class=\"data row1 col6\" >delivered</td>\n",
              "                        <td id=\"T_44a255f4_6837_11ec_aee4_0242ac1c0002row1_col7\" class=\"data row1 col7\" >super recomendo</td>\n",
              "                        <td id=\"T_44a255f4_6837_11ec_aee4_0242ac1c0002row1_col8\" class=\"data row1 col8\" >chegou dentro do prazo e o produto é de excelente qualidade! Acabou as dores nas costas, estou dormindo muito bem!</td>\n",
              "                        <td id=\"T_44a255f4_6837_11ec_aee4_0242ac1c0002row1_col9\" class=\"data row1 col9\" >RJ</td>\n",
              "                        <td id=\"T_44a255f4_6837_11ec_aee4_0242ac1c0002row1_col10\" class=\"data row1 col10\" >5</td>\n",
              "                        <td id=\"T_44a255f4_6837_11ec_aee4_0242ac1c0002row1_col11\" class=\"data row1 col11\" >nan</td>\n",
              "            </tr>\n",
              "    </tbody></table>"
            ],
            "text/plain": [
              "<pandas.io.formats.style.Styler at 0x7f983ad2ed50>"
            ]
          },
          "metadata": {},
          "execution_count": 77
        }
      ],
      "source": [
        "# ANALISANDO A BASE, PERCEBE-SE QUE HÁ DIVERGENCIAS ENTRE AS DATAS. SENDO ASSIM,\n",
        "#TODAS AS DADOS DIVERGENTES FORAM PREENCHIDAAS COM NAN PARA QUE SEJAM TRATADAS POSTERIOMENTE.\n",
        "\n",
        "def highlight_cols(s):\n",
        "    color = 'orange'\n",
        "    return 'background-color: %s' % color\n",
        "\n",
        "df_delivery[df_delivery['days_to_delivery'].isna()].head(2)\\\n",
        ".style.applymap(highlight_cols, subset=pd.IndexSlice[:, ['order_approved', 'delivered_carrier']])"
      ]
    },
    {
      "cell_type": "markdown",
      "id": "2c2fd61f",
      "metadata": {
        "id": "2c2fd61f"
      },
      "source": [
        "A base tem alguns valores com tempo de entrega negativo, o que pode indicar 3 coisas: \n",
        "\n",
        "1º Há algo deu errado no cálculo que fiz e preciso conferir;\n",
        "\n",
        "2º As datas estão erradas na base de dados, causando essa distorção no tempo de entrega;\n",
        "\n",
        "3º A transportadora fez um trabalho íncrivel e voltou no tempo para fazer a entrega - acho improvável."
      ]
    },
    {
      "cell_type": "markdown",
      "id": "013d5545",
      "metadata": {
        "id": "013d5545"
      },
      "source": [
        "### Fill NAN WITH MEAN OF DAYS TO DELIVERY"
      ]
    },
    {
      "cell_type": "code",
      "execution_count": 78,
      "id": "90bc9148",
      "metadata": {
        "ExecuteTime": {
          "end_time": "2021-12-28T22:19:04.754811Z",
          "start_time": "2021-12-28T22:19:04.740815Z"
        },
        "id": "90bc9148"
      },
      "outputs": [],
      "source": [
        "# salvando o index das linhas nan, para poder filtrar e conferir se os valores medios foram imputados corretamento.\n",
        "list_index = list(df_delivery[df_delivery['days_to_delivery'].isna() ].index)"
      ]
    },
    {
      "cell_type": "code",
      "execution_count": 91,
      "id": "ce94d49d",
      "metadata": {
        "ExecuteTime": {
          "end_time": "2021-12-28T22:19:05.190959Z",
          "start_time": "2021-12-28T22:19:05.156959Z"
        },
        "id": "ce94d49d"
      },
      "outputs": [],
      "source": [
        "# Preenchendo NaN com o tempo - em dias - medio de entrega de acordo com o Estado.\n",
        "\n",
        "df_delivery['days_to_delivery'] = df_delivery.groupby(['customer_state'])['days_to_delivery']\\\n",
        ".transform(lambda x: x.fillna( abs(x.mean()) ))"
      ]
    },
    {
      "cell_type": "code",
      "execution_count": 93,
      "id": "a1cce64a",
      "metadata": {
        "ExecuteTime": {
          "end_time": "2021-12-28T22:19:05.850569Z",
          "start_time": "2021-12-28T22:19:05.828570Z"
        },
        "colab": {
          "base_uri": "https://localhost:8080/",
          "height": 280
        },
        "id": "a1cce64a",
        "outputId": "c7eb68ff-0764-4e38-e06a-b69b213b3773"
      },
      "outputs": [
        {
          "output_type": "execute_result",
          "data": {
            "text/html": [
              "\n",
              "  <div id=\"df-90210f26-6332-4637-ade2-85901e59ceb7\">\n",
              "    <div class=\"colab-df-container\">\n",
              "      <div>\n",
              "<style scoped>\n",
              "    .dataframe tbody tr th:only-of-type {\n",
              "        vertical-align: middle;\n",
              "    }\n",
              "\n",
              "    .dataframe tbody tr th {\n",
              "        vertical-align: top;\n",
              "    }\n",
              "\n",
              "    .dataframe thead th {\n",
              "        text-align: right;\n",
              "    }\n",
              "</style>\n",
              "<table border=\"1\" class=\"dataframe\">\n",
              "  <thead>\n",
              "    <tr style=\"text-align: right;\">\n",
              "      <th></th>\n",
              "      <th>review_id</th>\n",
              "      <th>review_date</th>\n",
              "      <th>order_approved</th>\n",
              "      <th>delivered_carrier</th>\n",
              "      <th>estimated_delivery</th>\n",
              "      <th>product_category</th>\n",
              "      <th>order_status</th>\n",
              "      <th>review_title</th>\n",
              "      <th>review_message</th>\n",
              "      <th>customer_state</th>\n",
              "      <th>score</th>\n",
              "      <th>days_to_delivery</th>\n",
              "    </tr>\n",
              "  </thead>\n",
              "  <tbody>\n",
              "    <tr>\n",
              "      <th>51</th>\n",
              "      <td>b193ff3c9f32a01f3a0d9ae26b94d244</td>\n",
              "      <td>2018-08-10</td>\n",
              "      <td>2018-07-30 09:50:20</td>\n",
              "      <td>2018-08-01 15:24:00</td>\n",
              "      <td>2018-08-17</td>\n",
              "      <td>perfumaria</td>\n",
              "      <td>delivered</td>\n",
              "      <td>Maravilhoso!</td>\n",
              "      <td>Tô completamente apaixonada, loja super respon...</td>\n",
              "      <td>PE</td>\n",
              "      <td>5</td>\n",
              "      <td>2.30</td>\n",
              "    </tr>\n",
              "    <tr>\n",
              "      <th>245</th>\n",
              "      <td>5241fcad10d7b45a1761f1e1e1536faa</td>\n",
              "      <td>2018-07-07</td>\n",
              "      <td>2018-06-26 09:52:56</td>\n",
              "      <td>2018-07-03 09:39:00</td>\n",
              "      <td>2018-07-26</td>\n",
              "      <td>cama_mesa_banho</td>\n",
              "      <td>delivered</td>\n",
              "      <td>super recomendo</td>\n",
              "      <td>chegou dentro do prazo e o produto é de excele...</td>\n",
              "      <td>RJ</td>\n",
              "      <td>5</td>\n",
              "      <td>2.16</td>\n",
              "    </tr>\n",
              "  </tbody>\n",
              "</table>\n",
              "</div>\n",
              "      <button class=\"colab-df-convert\" onclick=\"convertToInteractive('df-90210f26-6332-4637-ade2-85901e59ceb7')\"\n",
              "              title=\"Convert this dataframe to an interactive table.\"\n",
              "              style=\"display:none;\">\n",
              "        \n",
              "  <svg xmlns=\"http://www.w3.org/2000/svg\" height=\"24px\"viewBox=\"0 0 24 24\"\n",
              "       width=\"24px\">\n",
              "    <path d=\"M0 0h24v24H0V0z\" fill=\"none\"/>\n",
              "    <path d=\"M18.56 5.44l.94 2.06.94-2.06 2.06-.94-2.06-.94-.94-2.06-.94 2.06-2.06.94zm-11 1L8.5 8.5l.94-2.06 2.06-.94-2.06-.94L8.5 2.5l-.94 2.06-2.06.94zm10 10l.94 2.06.94-2.06 2.06-.94-2.06-.94-.94-2.06-.94 2.06-2.06.94z\"/><path d=\"M17.41 7.96l-1.37-1.37c-.4-.4-.92-.59-1.43-.59-.52 0-1.04.2-1.43.59L10.3 9.45l-7.72 7.72c-.78.78-.78 2.05 0 2.83L4 21.41c.39.39.9.59 1.41.59.51 0 1.02-.2 1.41-.59l7.78-7.78 2.81-2.81c.8-.78.8-2.07 0-2.86zM5.41 20L4 18.59l7.72-7.72 1.47 1.35L5.41 20z\"/>\n",
              "  </svg>\n",
              "      </button>\n",
              "      \n",
              "  <style>\n",
              "    .colab-df-container {\n",
              "      display:flex;\n",
              "      flex-wrap:wrap;\n",
              "      gap: 12px;\n",
              "    }\n",
              "\n",
              "    .colab-df-convert {\n",
              "      background-color: #E8F0FE;\n",
              "      border: none;\n",
              "      border-radius: 50%;\n",
              "      cursor: pointer;\n",
              "      display: none;\n",
              "      fill: #1967D2;\n",
              "      height: 32px;\n",
              "      padding: 0 0 0 0;\n",
              "      width: 32px;\n",
              "    }\n",
              "\n",
              "    .colab-df-convert:hover {\n",
              "      background-color: #E2EBFA;\n",
              "      box-shadow: 0px 1px 2px rgba(60, 64, 67, 0.3), 0px 1px 3px 1px rgba(60, 64, 67, 0.15);\n",
              "      fill: #174EA6;\n",
              "    }\n",
              "\n",
              "    [theme=dark] .colab-df-convert {\n",
              "      background-color: #3B4455;\n",
              "      fill: #D2E3FC;\n",
              "    }\n",
              "\n",
              "    [theme=dark] .colab-df-convert:hover {\n",
              "      background-color: #434B5C;\n",
              "      box-shadow: 0px 1px 3px 1px rgba(0, 0, 0, 0.15);\n",
              "      filter: drop-shadow(0px 1px 2px rgba(0, 0, 0, 0.3));\n",
              "      fill: #FFFFFF;\n",
              "    }\n",
              "  </style>\n",
              "\n",
              "      <script>\n",
              "        const buttonEl =\n",
              "          document.querySelector('#df-90210f26-6332-4637-ade2-85901e59ceb7 button.colab-df-convert');\n",
              "        buttonEl.style.display =\n",
              "          google.colab.kernel.accessAllowed ? 'block' : 'none';\n",
              "\n",
              "        async function convertToInteractive(key) {\n",
              "          const element = document.querySelector('#df-90210f26-6332-4637-ade2-85901e59ceb7');\n",
              "          const dataTable =\n",
              "            await google.colab.kernel.invokeFunction('convertToInteractive',\n",
              "                                                     [key], {});\n",
              "          if (!dataTable) return;\n",
              "\n",
              "          const docLinkHtml = 'Like what you see? Visit the ' +\n",
              "            '<a target=\"_blank\" href=https://colab.research.google.com/notebooks/data_table.ipynb>data table notebook</a>'\n",
              "            + ' to learn more about interactive tables.';\n",
              "          element.innerHTML = '';\n",
              "          dataTable['output_type'] = 'display_data';\n",
              "          await google.colab.output.renderOutput(dataTable, element);\n",
              "          const docLink = document.createElement('div');\n",
              "          docLink.innerHTML = docLinkHtml;\n",
              "          element.appendChild(docLink);\n",
              "        }\n",
              "      </script>\n",
              "    </div>\n",
              "  </div>\n",
              "  "
            ],
            "text/plain": [
              "                            review_id review_date  ... score days_to_delivery\n",
              "51   b193ff3c9f32a01f3a0d9ae26b94d244  2018-08-10  ...     5             2.30\n",
              "245  5241fcad10d7b45a1761f1e1e1536faa  2018-07-07  ...     5             2.16\n",
              "\n",
              "[2 rows x 12 columns]"
            ]
          },
          "metadata": {},
          "execution_count": 93
        }
      ],
      "source": [
        "df_delivery[df_delivery.index.isin(list_index)].head(2)"
      ]
    },
    {
      "cell_type": "code",
      "execution_count": 82,
      "id": "afdcc25c",
      "metadata": {
        "ExecuteTime": {
          "end_time": "2021-12-28T22:19:06.887248Z",
          "start_time": "2021-12-28T22:19:06.661258Z"
        },
        "colab": {
          "base_uri": "https://localhost:8080/",
          "height": 468
        },
        "id": "afdcc25c",
        "outputId": "ee6eda12-4a18-4dda-c9df-1d93702d9a09"
      },
      "outputs": [
        {
          "output_type": "display_data",
          "data": {
            "image/png": "[encoded data removed]",
            "text/plain": [
              "<Figure size 1080x504 with 1 Axes>"
            ]
          },
          "metadata": {}
        }
      ],
      "source": [
        "sns.boxplot(y='days_to_delivery', x='score', data=df_delivery);\n",
        "plt.title('NUMBER OF DAYS TO DELIVERY VS. SCORE', size = 18, fontweight=\"bold\");\n",
        "plt.ylabel(\"Days to Delivery\");"
      ]
    },
    {
      "cell_type": "code",
      "execution_count": 83,
      "id": "9bb0a10b",
      "metadata": {
        "ExecuteTime": {
          "end_time": "2021-12-28T22:19:07.922778Z",
          "start_time": "2021-12-28T22:19:07.908780Z"
        },
        "id": "9bb0a10b"
      },
      "outputs": [],
      "source": [
        "df_outlier_devlivery = df_delivery[df_delivery['days_to_delivery'] > 10 ]"
      ]
    },
    {
      "cell_type": "code",
      "execution_count": 84,
      "id": "9f9aefd1",
      "metadata": {
        "ExecuteTime": {
          "end_time": "2021-12-28T22:19:08.238293Z",
          "start_time": "2021-12-28T22:19:08.045288Z"
        },
        "colab": {
          "base_uri": "https://localhost:8080/",
          "height": 466
        },
        "id": "9f9aefd1",
        "outputId": "6362f964-b959-4160-f49c-828369601441"
      },
      "outputs": [
        {
          "output_type": "execute_result",
          "data": {
            "text/plain": [
              "<matplotlib.axes._subplots.AxesSubplot at 0x7f98377e5c50>"
            ]
          },
          "metadata": {},
          "execution_count": 84
        },
        {
          "output_type": "display_data",
          "data": {
            "image/png": "[encoded data removed]",
            "text/plain": [
              "<Figure size 1080x504 with 1 Axes>"
            ]
          },
          "metadata": {}
        }
      ],
      "source": [
        "sns.countplot(x='score', data=df_outlier_devlivery)"
      ]
    },
    {
      "cell_type": "markdown",
      "source": [
        "#**Continue...**"
      ],
      "metadata": {
        "id": "-iVWK83cjni6"
      },
      "id": "-iVWK83cjni6"
    },
    {
      "cell_type": "code",
      "execution_count": 84,
      "id": "b0a55047",
      "metadata": {
        "id": "b0a55047"
      },
      "outputs": [],
      "source": [
        ""
      ]
    }
  ],
  "metadata": {
    "kernelspec": {
      "display_name": "Python 3",
      "language": "python",
      "name": "python3"
    },
    "toc": {
      "base_numbering": 1,
      "nav_menu": {},
      "number_sections": true,
      "sideBar": true,
      "skip_h1_title": false,
      "title_cell": "Table of Contents",
      "title_sidebar": "Contents",
      "toc_cell": false,
      "toc_position": {},
      "toc_section_display": true,
      "toc_window_display": false
    },
    "varInspector": {
      "cols": {
        "lenName": 16,
        "lenType": 16,
        "lenVar": 40
      },
      "kernels_config": {
        "python": {
          "delete_cmd_postfix": "",
          "delete_cmd_prefix": "del ",
          "library": "var_list.py",
          "varRefreshCmd": "print(var_dic_list())"
        },
        "r": {
          "delete_cmd_postfix": ") ",
          "delete_cmd_prefix": "rm(",
          "library": "var_list.r",
          "varRefreshCmd": "cat(var_dic_list()) "
        }
      },
      "types_to_exclude": [
        "module",
        "function",
        "builtin_function_or_method",
        "instance",
        "_Feature"
      ],
      "window_display": false
    },
    "colab": {
      "name": "ANALYS DATASET OLIST [EDA].ipynb",
      "provenance": [],
      "include_colab_link": true
    }
  },
  "nbformat": 4,
  "nbformat_minor": 5
}